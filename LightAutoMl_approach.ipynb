{
  "cells": [
    {
      "cell_type": "markdown",
      "metadata": {
        "id": "UIrUmsfAE_4l"
      },
      "source": [
        "## Автор ноутбука: Виталий Карташов\n",
        "\n",
        "В данном ноутбуке представлено решение для соревнования [Goodreads Books Reviews](https://www.kaggle.com/competitions/goodreads-books-reviews-290312/) на платформе kaggle, в рамках которого участникам предлагалось построить модель для прогноза рейтинга (количество поставленных звезд) на основе оставленных рецензий на портале [Goodreads](https://www.goodreads.com/).\n",
        "\n",
        "На основе написанных отзывов необходимо было предсказать оценку, которую поставил пользователь (от 0 до 5 звезд).\n",
        "\n",
        "Более подробно с описанием задачи можно ознакомиться на [странице соревнования](https://www.kaggle.com/competitions/goodreads-books-reviews-290312/).\n",
        "\n",
        "В данном ноутбуке представлено решение на основе фреймворка [LightAutoML](https://github.com/sb-ai-lab/LightAutoML), которое дало публичный скор 0.57602 (топ-105 решений)."
      ]
    },
    {
      "cell_type": "code",
      "execution_count": null,
      "metadata": {
        "id": "mDhbwC8lW6ku"
      },
      "outputs": [],
      "source": [
        "import os\n",
        "import json\n",
        "import pandas as pd\n",
        "import numpy as np\n",
        "import matplotlib.pyplot as plt\n",
        "import seaborn as sns\n",
        "\n",
        "\n",
        "import warnings\n",
        "warnings.simplefilter(action='ignore')\n",
        "\n",
        "with open('kaggle.json', 'r') as f:\n",
        "  data = json.load(f)\n",
        "  os.environ['KAGGLE_USERNAME'] = data[\"username\"]\n",
        "  os.environ['KAGGLE_KEY'] = data[\"key\"]"
      ]
    },
    {
      "cell_type": "code",
      "execution_count": null,
      "metadata": {
        "colab": {
          "base_uri": "https://localhost:8080/"
        },
        "execution": {
          "iopub.execute_input": "2023-12-26T18:02:33.324638Z",
          "iopub.status.busy": "2023-12-26T18:02:33.324195Z",
          "iopub.status.idle": "2023-12-26T18:02:33.578092Z",
          "shell.execute_reply": "2023-12-26T18:02:33.576867Z",
          "shell.execute_reply.started": "2023-12-26T18:02:33.324604Z"
        },
        "id": "LuEJxVRlWxof",
        "outputId": "a471529e-8078-47b7-9b9b-5fa282ddd510",
        "trusted": true
      },
      "outputs": [
        {
          "name": "stdout",
          "output_type": "stream",
          "text": [
            "Downloading goodreads-books-reviews-290312.zip to /content\n",
            " 98% 624M/635M [00:07<00:00, 102MB/s] \n",
            "100% 635M/635M [00:07<00:00, 83.4MB/s]\n",
            "Archive:  goodreads-books-reviews-290312.zip\n",
            "  inflating: goodreads_sample_submission.csv  \n",
            "  inflating: goodreads_test.csv      \n",
            "  inflating: goodreads_train.csv     \n"
          ]
        }
      ],
      "source": [
        "!kaggle competitions download -c goodreads-books-reviews-290312\n",
        "!unzip goodreads-books-reviews-290312.zip\n",
        "!rm -rf goodreads-books-reviews-290312.zip"
      ]
    },
    {
      "cell_type": "code",
      "execution_count": null,
      "metadata": {
        "execution": {
          "iopub.execute_input": "2023-12-26T17:57:53.612091Z",
          "iopub.status.busy": "2023-12-26T17:57:53.611376Z",
          "iopub.status.idle": "2023-12-26T17:58:43.120261Z",
          "shell.execute_reply": "2023-12-26T17:58:43.118731Z",
          "shell.execute_reply.started": "2023-12-26T17:57:53.612053Z"
        },
        "id": "Ouk703hrWxog",
        "trusted": true
      },
      "outputs": [],
      "source": [
        "%%capture\n",
        "!pip install git+https://github.com/sb-ai-lab/LightAutoML.git\n",
        "!pip install optuna"
      ]
    },
    {
      "cell_type": "code",
      "execution_count": null,
      "metadata": {
        "execution": {
          "iopub.execute_input": "2023-12-26T17:59:13.300779Z",
          "iopub.status.busy": "2023-12-26T17:59:13.300234Z",
          "iopub.status.idle": "2023-12-26T17:59:23.220087Z",
          "shell.execute_reply": "2023-12-26T17:59:23.218963Z",
          "shell.execute_reply.started": "2023-12-26T17:59:13.300734Z"
        },
        "id": "V6spNZ4zWxog",
        "trusted": true
      },
      "outputs": [],
      "source": [
        "from lightautoml.automl.presets.text_presets import TabularNLPAutoML\n",
        "from lightautoml.dataset.roles import DatetimeRole\n",
        "from lightautoml.tasks import Task"
      ]
    },
    {
      "cell_type": "code",
      "execution_count": null,
      "metadata": {
        "colab": {
          "base_uri": "https://localhost:8080/"
        },
        "execution": {
          "iopub.execute_input": "2023-12-26T16:47:47.317868Z",
          "iopub.status.busy": "2023-12-26T16:47:47.316773Z",
          "iopub.status.idle": "2023-12-26T16:48:22.339180Z",
          "shell.execute_reply": "2023-12-26T16:48:22.338252Z",
          "shell.execute_reply.started": "2023-12-26T16:47:47.317829Z"
        },
        "id": "VzPtFVPAWxog",
        "outputId": "38065909-1f55-4e33-8a38-d65d6f8bcc44",
        "trusted": true
      },
      "outputs": [
        {
          "name": "stdout",
          "output_type": "stream",
          "text": [
            "<class 'pandas.core.frame.DataFrame'>\n",
            "RangeIndex: 900000 entries, 0 to 899999\n",
            "Data columns (total 11 columns):\n",
            " #   Column        Non-Null Count   Dtype \n",
            "---  ------        --------------   ----- \n",
            " 0   user_id       900000 non-null  object\n",
            " 1   book_id       900000 non-null  int64 \n",
            " 2   review_id     900000 non-null  object\n",
            " 3   rating        900000 non-null  int64 \n",
            " 4   review_text   900000 non-null  object\n",
            " 5   date_added    900000 non-null  object\n",
            " 6   date_updated  900000 non-null  object\n",
            " 7   read_at       808234 non-null  object\n",
            " 8   started_at    625703 non-null  object\n",
            " 9   n_votes       900000 non-null  int64 \n",
            " 10  n_comments    900000 non-null  int64 \n",
            "dtypes: int64(4), object(7)\n",
            "memory usage: 75.5+ MB\n"
          ]
        }
      ],
      "source": [
        "df_train = pd.read_csv('goodreads_train.csv')\n",
        "df_test = pd.read_csv('goodreads_test.csv')\n",
        "\n",
        "df_train.info()"
      ]
    },
    {
      "cell_type": "markdown",
      "metadata": {
        "id": "O3_clsmVWxog"
      },
      "source": [
        "## EDA"
      ]
    },
    {
      "cell_type": "code",
      "execution_count": null,
      "metadata": {
        "execution": {
          "iopub.execute_input": "2023-12-24T05:41:35.593248Z",
          "iopub.status.busy": "2023-12-24T05:41:35.592787Z",
          "iopub.status.idle": "2023-12-24T05:41:35.600593Z",
          "shell.execute_reply": "2023-12-24T05:41:35.599415Z",
          "shell.execute_reply.started": "2023-12-24T05:41:35.593213Z"
        },
        "id": "rsv6M6MoWxoh",
        "outputId": "206abf4e-3a31-4441-ad5c-29024d837aaa",
        "trusted": true
      },
      "outputs": [
        {
          "name": "stdout",
          "output_type": "stream",
          "text": [
            "Train dataset shape: (900000, 11)\n",
            "Test dataset shape: (478033, 10)\n"
          ]
        }
      ],
      "source": [
        "# Посмотрим на размерность тренировочных и тестовых данных\n",
        "\n",
        "print(f\"Train dataset shape: {df_train.shape}\")\n",
        "print(f\"Test dataset shape: {df_test.shape}\")"
      ]
    },
    {
      "cell_type": "code",
      "execution_count": null,
      "metadata": {
        "execution": {
          "iopub.execute_input": "2023-12-24T05:20:31.224609Z",
          "iopub.status.busy": "2023-12-24T05:20:31.224164Z",
          "iopub.status.idle": "2023-12-24T05:20:32.040783Z",
          "shell.execute_reply": "2023-12-24T05:20:32.040020Z",
          "shell.execute_reply.started": "2023-12-24T05:20:31.224573Z"
        },
        "id": "kyN_zO82Wxoi",
        "outputId": "a20393d5-a1d0-4db1-8d35-1a9ee37057a9",
        "trusted": true
      },
      "outputs": [
        {
          "name": "stdout",
          "output_type": "stream",
          "text": [
            "<class 'pandas.core.frame.DataFrame'>\n",
            "RangeIndex: 900000 entries, 0 to 899999\n",
            "Data columns (total 11 columns):\n",
            " #   Column        Non-Null Count   Dtype \n",
            "---  ------        --------------   ----- \n",
            " 0   user_id       900000 non-null  object\n",
            " 1   book_id       900000 non-null  int64 \n",
            " 2   review_id     900000 non-null  object\n",
            " 3   rating        900000 non-null  int64 \n",
            " 4   review_text   900000 non-null  object\n",
            " 5   date_added    900000 non-null  object\n",
            " 6   date_updated  900000 non-null  object\n",
            " 7   read_at       808234 non-null  object\n",
            " 8   started_at    625703 non-null  object\n",
            " 9   n_votes       900000 non-null  int64 \n",
            " 10  n_comments    900000 non-null  int64 \n",
            "dtypes: int64(4), object(7)\n",
            "memory usage: 75.5+ MB\n"
          ]
        },
        {
          "data": {
            "text/html": [
              "<div>\n",
              "<style scoped>\n",
              "    .dataframe tbody tr th:only-of-type {\n",
              "        vertical-align: middle;\n",
              "    }\n",
              "\n",
              "    .dataframe tbody tr th {\n",
              "        vertical-align: top;\n",
              "    }\n",
              "\n",
              "    .dataframe thead th {\n",
              "        text-align: right;\n",
              "    }\n",
              "</style>\n",
              "<table border=\"1\" class=\"dataframe\">\n",
              "  <thead>\n",
              "    <tr style=\"text-align: right;\">\n",
              "      <th></th>\n",
              "      <th>book_id</th>\n",
              "      <th>rating</th>\n",
              "      <th>n_votes</th>\n",
              "      <th>n_comments</th>\n",
              "    </tr>\n",
              "  </thead>\n",
              "  <tbody>\n",
              "    <tr>\n",
              "      <th>count</th>\n",
              "      <td>9.000000e+05</td>\n",
              "      <td>900000.000000</td>\n",
              "      <td>900000.000000</td>\n",
              "      <td>900000.000000</td>\n",
              "    </tr>\n",
              "    <tr>\n",
              "      <th>mean</th>\n",
              "      <td>1.344145e+07</td>\n",
              "      <td>3.689639</td>\n",
              "      <td>3.294381</td>\n",
              "      <td>1.016656</td>\n",
              "    </tr>\n",
              "    <tr>\n",
              "      <th>std</th>\n",
              "      <td>9.357863e+06</td>\n",
              "      <td>1.252583</td>\n",
              "      <td>17.873553</td>\n",
              "      <td>5.963821</td>\n",
              "    </tr>\n",
              "    <tr>\n",
              "      <th>min</th>\n",
              "      <td>1.000000e+00</td>\n",
              "      <td>0.000000</td>\n",
              "      <td>-3.000000</td>\n",
              "      <td>-1.000000</td>\n",
              "    </tr>\n",
              "    <tr>\n",
              "      <th>25%</th>\n",
              "      <td>6.340471e+06</td>\n",
              "      <td>3.000000</td>\n",
              "      <td>0.000000</td>\n",
              "      <td>0.000000</td>\n",
              "    </tr>\n",
              "    <tr>\n",
              "      <th>50%</th>\n",
              "      <td>1.344203e+07</td>\n",
              "      <td>4.000000</td>\n",
              "      <td>0.000000</td>\n",
              "      <td>0.000000</td>\n",
              "    </tr>\n",
              "    <tr>\n",
              "      <th>75%</th>\n",
              "      <td>2.057897e+07</td>\n",
              "      <td>5.000000</td>\n",
              "      <td>2.000000</td>\n",
              "      <td>0.000000</td>\n",
              "    </tr>\n",
              "    <tr>\n",
              "      <th>max</th>\n",
              "      <td>3.632868e+07</td>\n",
              "      <td>5.000000</td>\n",
              "      <td>3222.000000</td>\n",
              "      <td>1335.000000</td>\n",
              "    </tr>\n",
              "  </tbody>\n",
              "</table>\n",
              "</div>"
            ],
            "text/plain": [
              "            book_id         rating        n_votes     n_comments\n",
              "count  9.000000e+05  900000.000000  900000.000000  900000.000000\n",
              "mean   1.344145e+07       3.689639       3.294381       1.016656\n",
              "std    9.357863e+06       1.252583      17.873553       5.963821\n",
              "min    1.000000e+00       0.000000      -3.000000      -1.000000\n",
              "25%    6.340471e+06       3.000000       0.000000       0.000000\n",
              "50%    1.344203e+07       4.000000       0.000000       0.000000\n",
              "75%    2.057897e+07       5.000000       2.000000       0.000000\n",
              "max    3.632868e+07       5.000000    3222.000000    1335.000000"
            ]
          },
          "execution_count": 7,
          "metadata": {},
          "output_type": "execute_result"
        }
      ],
      "source": [
        "# Посмотрим общую информацию\n",
        "\n",
        "df_train.info()\n",
        "df_train.describe()"
      ]
    },
    {
      "cell_type": "code",
      "execution_count": null,
      "metadata": {
        "execution": {
          "iopub.execute_input": "2023-12-26T03:55:16.418432Z",
          "iopub.status.busy": "2023-12-26T03:55:16.418029Z",
          "iopub.status.idle": "2023-12-26T03:55:16.561728Z",
          "shell.execute_reply": "2023-12-26T03:55:16.560577Z",
          "shell.execute_reply.started": "2023-12-26T03:55:16.418399Z"
        },
        "id": "rfjAXmwhWxoi",
        "outputId": "21234b83-8c63-41c7-8598-0c7e88b978fe",
        "trusted": true
      },
      "outputs": [
        {
          "name": "stdout",
          "output_type": "stream",
          "text": [
            "Пользователей, которые оставили отрицательное количество оценок: 42\n"
          ]
        }
      ],
      "source": [
        "votes_df = df_train.groupby('user_id')[['n_votes']].min().sort_values(by='n_votes', ascending=True)\n",
        "print(f\"Пользователей, которые оставили отрицательное количество оценок: {len(votes_df[votes_df['n_votes'] < 0])}\")"
      ]
    },
    {
      "cell_type": "code",
      "execution_count": null,
      "metadata": {
        "execution": {
          "iopub.execute_input": "2023-12-26T03:55:21.001773Z",
          "iopub.status.busy": "2023-12-26T03:55:21.001358Z",
          "iopub.status.idle": "2023-12-26T03:55:21.145881Z",
          "shell.execute_reply": "2023-12-26T03:55:21.145050Z",
          "shell.execute_reply.started": "2023-12-26T03:55:21.001738Z"
        },
        "id": "bobS0l3QWxoi",
        "outputId": "fb093cc5-d5c4-462c-b29d-2884bd12d2c8",
        "trusted": true
      },
      "outputs": [
        {
          "name": "stdout",
          "output_type": "stream",
          "text": [
            "Пользователей, оставивших отрицательное количество комментариев: 6\n"
          ]
        }
      ],
      "source": [
        "comments_df = df_train.groupby('user_id')[['n_comments']].min().sort_values(by='n_comments', ascending=True)\n",
        "print(f\"Пользователей, оставивших отрицательное количество комментариев: {len(comments_df[comments_df['n_comments'] < 0])}\")"
      ]
    },
    {
      "cell_type": "markdown",
      "metadata": {
        "id": "7kO5SrCCWxoi"
      },
      "source": [
        "Каких-либо аномалий по данным нет. Значения колонки rating (наш таргет) находится в диапазоне от 0 до 5 включительно. Колонка n_votes (количество голосов) имеет 42 значения < 0 (то есть пользователь оставил -1 и более комметариев), что является выбросом. Также имеется 6 значений < 0 в колонке n_comments (количество комментариев) - выбросы."
      ]
    },
    {
      "cell_type": "markdown",
      "metadata": {
        "id": "Xw3F3-7OWxoi"
      },
      "source": [
        "### Посмотрим на таргет"
      ]
    },
    {
      "cell_type": "code",
      "execution_count": null,
      "metadata": {
        "execution": {
          "iopub.execute_input": "2023-12-24T07:18:39.553709Z",
          "iopub.status.busy": "2023-12-24T07:18:39.553303Z",
          "iopub.status.idle": "2023-12-24T07:18:39.596096Z",
          "shell.execute_reply": "2023-12-24T07:18:39.595153Z",
          "shell.execute_reply.started": "2023-12-24T07:18:39.553677Z"
        },
        "id": "VFWuNlloWxoj",
        "outputId": "77742c14-8106-4309-9fda-499be3b740d6",
        "trusted": true
      },
      "outputs": [
        {
          "name": "stdout",
          "output_type": "stream",
          "text": [
            "<class 'pandas.core.series.Series'>\n",
            "RangeIndex: 900000 entries, 0 to 899999\n",
            "Series name: rating\n",
            "Non-Null Count   Dtype\n",
            "--------------   -----\n",
            "900000 non-null  int64\n",
            "dtypes: int64(1)\n",
            "memory usage: 6.9 MB\n"
          ]
        },
        {
          "data": {
            "text/plain": [
              "count    900000.000000\n",
              "mean          3.689639\n",
              "std           1.252583\n",
              "min           0.000000\n",
              "25%           3.000000\n",
              "50%           4.000000\n",
              "75%           5.000000\n",
              "max           5.000000\n",
              "Name: rating, dtype: float64"
            ]
          },
          "execution_count": 114,
          "metadata": {},
          "output_type": "execute_result"
        }
      ],
      "source": [
        "df_train['rating'].info()\n",
        "df_train['rating'].describe()"
      ]
    },
    {
      "cell_type": "code",
      "execution_count": null,
      "metadata": {
        "execution": {
          "iopub.execute_input": "2023-12-24T07:18:52.468711Z",
          "iopub.status.busy": "2023-12-24T07:18:52.468291Z",
          "iopub.status.idle": "2023-12-24T07:18:52.499318Z",
          "shell.execute_reply": "2023-12-24T07:18:52.498156Z",
          "shell.execute_reply.started": "2023-12-24T07:18:52.468674Z"
        },
        "id": "ixeYkJrVWxoj",
        "outputId": "21dbf83a-8750-41bb-8870-36f6673d82b1",
        "trusted": true
      },
      "outputs": [
        {
          "data": {
            "text/plain": [
              "rating\n",
              "4         313688\n",
              "5         265007\n",
              "3         188972\n",
              "2          72627\n",
              "0          30988\n",
              "1          28718\n",
              "Name: count, dtype: int64"
            ]
          },
          "execution_count": 115,
          "metadata": {},
          "output_type": "execute_result"
        }
      ],
      "source": [
        "# Посмотрим на распределение количества элементов, приходящихся на каждый класс таргета\n",
        "\n",
        "df_train[['rating']].value_counts()"
      ]
    },
    {
      "cell_type": "code",
      "execution_count": null,
      "metadata": {
        "execution": {
          "iopub.execute_input": "2023-12-24T08:02:57.925002Z",
          "iopub.status.busy": "2023-12-24T08:02:57.924559Z",
          "iopub.status.idle": "2023-12-24T08:02:59.105897Z",
          "shell.execute_reply": "2023-12-24T08:02:59.104320Z",
          "shell.execute_reply.started": "2023-12-24T08:02:57.924966Z"
        },
        "id": "Pai1J729Wxoj",
        "outputId": "da28898a-d2d9-4d80-a2c5-0014a7416ba9",
        "trusted": true
      },
      "outputs": [
        {
          "data": {
            "image/png": "[encoded data removed]",
            "text/plain": [
              "<Figure size 1000x600 with 1 Axes>"
            ]
          },
          "metadata": {},
          "output_type": "display_data"
        }
      ],
      "source": [
        "# Визуализируем распределение таргета\n",
        "\n",
        "plt.figure(figsize=(10, 6))\n",
        "sns.barplot(x=df_train.groupby(['rating']).count().index.tolist(), y=df_train.groupby(['rating']).review_id.count())\n",
        "\n",
        "plt.title('Distribution of Ratings in the Dataset')\n",
        "plt.xlabel('Rating')\n",
        "plt.ylabel('Frequency')\n",
        "\n",
        "plt.show()"
      ]
    },
    {
      "cell_type": "markdown",
      "metadata": {
        "id": "lcNI7sWGWxoj"
      },
      "source": [
        "Наиболее часто пользователи оставляли 3 и более баллов. В меньшей степени пользователи оставляли негативные отметки (от 0 до 3 баллов)."
      ]
    },
    {
      "cell_type": "markdown",
      "metadata": {
        "id": "JWK2F1OIWxoj"
      },
      "source": [
        "### Анализ объектов-признаков"
      ]
    },
    {
      "cell_type": "code",
      "execution_count": null,
      "metadata": {
        "execution": {
          "iopub.execute_input": "2023-12-24T08:47:32.096219Z",
          "iopub.status.busy": "2023-12-24T08:47:32.095716Z",
          "iopub.status.idle": "2023-12-24T08:47:32.114347Z",
          "shell.execute_reply": "2023-12-24T08:47:32.113002Z",
          "shell.execute_reply.started": "2023-12-24T08:47:32.096180Z"
        },
        "id": "78MIIMW3Wxoj",
        "outputId": "72fc1111-139d-4f16-df45-63ae295537ce",
        "trusted": true
      },
      "outputs": [
        {
          "data": {
            "text/html": [
              "<div>\n",
              "<style scoped>\n",
              "    .dataframe tbody tr th:only-of-type {\n",
              "        vertical-align: middle;\n",
              "    }\n",
              "\n",
              "    .dataframe tbody tr th {\n",
              "        vertical-align: top;\n",
              "    }\n",
              "\n",
              "    .dataframe thead th {\n",
              "        text-align: right;\n",
              "    }\n",
              "</style>\n",
              "<table border=\"1\" class=\"dataframe\">\n",
              "  <thead>\n",
              "    <tr style=\"text-align: right;\">\n",
              "      <th></th>\n",
              "      <th>user_id</th>\n",
              "      <th>book_id</th>\n",
              "      <th>review_id</th>\n",
              "      <th>rating</th>\n",
              "      <th>review_text</th>\n",
              "      <th>date_added</th>\n",
              "      <th>date_updated</th>\n",
              "      <th>read_at</th>\n",
              "      <th>started_at</th>\n",
              "      <th>n_votes</th>\n",
              "      <th>n_comments</th>\n",
              "    </tr>\n",
              "  </thead>\n",
              "  <tbody>\n",
              "    <tr>\n",
              "      <th>0</th>\n",
              "      <td>8842281e1d1347389f2ab93d60773d4d</td>\n",
              "      <td>18245960</td>\n",
              "      <td>dfdbb7b0eb5a7e4c26d59a937e2e5feb</td>\n",
              "      <td>5</td>\n",
              "      <td>This is a special book. It started slow for ab...</td>\n",
              "      <td>Sun Jul 30 07:44:10 -0700 2017</td>\n",
              "      <td>Wed Aug 30 00:00:26 -0700 2017</td>\n",
              "      <td>Sat Aug 26 12:05:52 -0700 2017</td>\n",
              "      <td>Tue Aug 15 13:23:18 -0700 2017</td>\n",
              "      <td>28</td>\n",
              "      <td>1</td>\n",
              "    </tr>\n",
              "    <tr>\n",
              "      <th>1</th>\n",
              "      <td>8842281e1d1347389f2ab93d60773d4d</td>\n",
              "      <td>16981</td>\n",
              "      <td>a5d2c3628987712d0e05c4f90798eb67</td>\n",
              "      <td>3</td>\n",
              "      <td>Recommended by Don Katz. Avail for free in Dec...</td>\n",
              "      <td>Mon Dec 05 10:46:44 -0800 2016</td>\n",
              "      <td>Wed Mar 22 11:37:04 -0700 2017</td>\n",
              "      <td>NaN</td>\n",
              "      <td>NaN</td>\n",
              "      <td>1</td>\n",
              "      <td>0</td>\n",
              "    </tr>\n",
              "    <tr>\n",
              "      <th>2</th>\n",
              "      <td>8842281e1d1347389f2ab93d60773d4d</td>\n",
              "      <td>28684704</td>\n",
              "      <td>2ede853b14dc4583f96cf5d120af636f</td>\n",
              "      <td>3</td>\n",
              "      <td>A fun, fast paced science fiction thriller. I ...</td>\n",
              "      <td>Tue Nov 15 11:29:22 -0800 2016</td>\n",
              "      <td>Mon Mar 20 23:40:27 -0700 2017</td>\n",
              "      <td>Sat Mar 18 23:22:42 -0700 2017</td>\n",
              "      <td>Fri Mar 17 23:45:40 -0700 2017</td>\n",
              "      <td>22</td>\n",
              "      <td>0</td>\n",
              "    </tr>\n",
              "    <tr>\n",
              "      <th>3</th>\n",
              "      <td>8842281e1d1347389f2ab93d60773d4d</td>\n",
              "      <td>27161156</td>\n",
              "      <td>ced5675e55cd9d38a524743f5c40996e</td>\n",
              "      <td>0</td>\n",
              "      <td>Recommended reading to understand what is goin...</td>\n",
              "      <td>Wed Nov 09 17:37:04 -0800 2016</td>\n",
              "      <td>Wed Nov 09 17:38:20 -0800 2016</td>\n",
              "      <td>NaN</td>\n",
              "      <td>NaN</td>\n",
              "      <td>5</td>\n",
              "      <td>1</td>\n",
              "    </tr>\n",
              "    <tr>\n",
              "      <th>4</th>\n",
              "      <td>8842281e1d1347389f2ab93d60773d4d</td>\n",
              "      <td>25884323</td>\n",
              "      <td>332732725863131279a8e345b63ac33e</td>\n",
              "      <td>4</td>\n",
              "      <td>I really enjoyed this book, and there is a lot...</td>\n",
              "      <td>Mon Apr 25 09:31:23 -0700 2016</td>\n",
              "      <td>Mon Apr 25 09:31:23 -0700 2016</td>\n",
              "      <td>Sun Jun 26 00:00:00 -0700 2016</td>\n",
              "      <td>Sat May 28 00:00:00 -0700 2016</td>\n",
              "      <td>9</td>\n",
              "      <td>1</td>\n",
              "    </tr>\n",
              "  </tbody>\n",
              "</table>\n",
              "</div>"
            ],
            "text/plain": [
              "                            user_id   book_id  \\\n",
              "0  8842281e1d1347389f2ab93d60773d4d  18245960   \n",
              "1  8842281e1d1347389f2ab93d60773d4d     16981   \n",
              "2  8842281e1d1347389f2ab93d60773d4d  28684704   \n",
              "3  8842281e1d1347389f2ab93d60773d4d  27161156   \n",
              "4  8842281e1d1347389f2ab93d60773d4d  25884323   \n",
              "\n",
              "                          review_id  rating  \\\n",
              "0  dfdbb7b0eb5a7e4c26d59a937e2e5feb       5   \n",
              "1  a5d2c3628987712d0e05c4f90798eb67       3   \n",
              "2  2ede853b14dc4583f96cf5d120af636f       3   \n",
              "3  ced5675e55cd9d38a524743f5c40996e       0   \n",
              "4  332732725863131279a8e345b63ac33e       4   \n",
              "\n",
              "                                         review_text  \\\n",
              "0  This is a special book. It started slow for ab...   \n",
              "1  Recommended by Don Katz. Avail for free in Dec...   \n",
              "2  A fun, fast paced science fiction thriller. I ...   \n",
              "3  Recommended reading to understand what is goin...   \n",
              "4  I really enjoyed this book, and there is a lot...   \n",
              "\n",
              "                       date_added                    date_updated  \\\n",
              "0  Sun Jul 30 07:44:10 -0700 2017  Wed Aug 30 00:00:26 -0700 2017   \n",
              "1  Mon Dec 05 10:46:44 -0800 2016  Wed Mar 22 11:37:04 -0700 2017   \n",
              "2  Tue Nov 15 11:29:22 -0800 2016  Mon Mar 20 23:40:27 -0700 2017   \n",
              "3  Wed Nov 09 17:37:04 -0800 2016  Wed Nov 09 17:38:20 -0800 2016   \n",
              "4  Mon Apr 25 09:31:23 -0700 2016  Mon Apr 25 09:31:23 -0700 2016   \n",
              "\n",
              "                          read_at                      started_at  n_votes  \\\n",
              "0  Sat Aug 26 12:05:52 -0700 2017  Tue Aug 15 13:23:18 -0700 2017       28   \n",
              "1                             NaN                             NaN        1   \n",
              "2  Sat Mar 18 23:22:42 -0700 2017  Fri Mar 17 23:45:40 -0700 2017       22   \n",
              "3                             NaN                             NaN        5   \n",
              "4  Sun Jun 26 00:00:00 -0700 2016  Sat May 28 00:00:00 -0700 2016        9   \n",
              "\n",
              "   n_comments  \n",
              "0           1  \n",
              "1           0  \n",
              "2           0  \n",
              "3           1  \n",
              "4           1  "
            ]
          },
          "execution_count": 205,
          "metadata": {},
          "output_type": "execute_result"
        }
      ],
      "source": [
        "df_train.head()"
      ]
    },
    {
      "cell_type": "markdown",
      "metadata": {
        "id": "WPB0plK1Wxoj"
      },
      "source": [
        "Проанализируем признаки - посмотрим на пропуски значений"
      ]
    },
    {
      "cell_type": "code",
      "execution_count": null,
      "metadata": {
        "execution": {
          "iopub.execute_input": "2023-12-26T04:05:56.160929Z",
          "iopub.status.busy": "2023-12-26T04:05:56.160509Z",
          "iopub.status.idle": "2023-12-26T04:05:56.941986Z",
          "shell.execute_reply": "2023-12-26T04:05:56.940867Z",
          "shell.execute_reply.started": "2023-12-26T04:05:56.160894Z"
        },
        "id": "SpLJZwYBWxok",
        "outputId": "dfdcd1dc-cd5e-4d40-d438-a9233ea875bc",
        "trusted": true
      },
      "outputs": [
        {
          "name": "stdout",
          "output_type": "stream",
          "text": [
            "Исходный датасет (df_train): (900000, 11)\n",
            "Очищенный датасет (df_cleaned): (615507, 11)\n"
          ]
        }
      ],
      "source": [
        "df_cleaned = df_train.dropna() # Удаляем строки там, где есть пропуски значений\n",
        "\n",
        "print(f\"Исходный датасет (df_train): {df_train.shape}\")\n",
        "print(f\"Очищенный датасет (df_cleaned): {df_cleaned.shape}\")"
      ]
    },
    {
      "cell_type": "code",
      "execution_count": null,
      "metadata": {
        "execution": {
          "iopub.execute_input": "2023-12-26T03:58:03.424427Z",
          "iopub.status.busy": "2023-12-26T03:58:03.423127Z",
          "iopub.status.idle": "2023-12-26T03:58:04.603447Z",
          "shell.execute_reply": "2023-12-26T03:58:04.602021Z",
          "shell.execute_reply.started": "2023-12-26T03:58:03.424377Z"
        },
        "id": "q614TSAXWxok",
        "outputId": "4baf6a9a-8848-4b96-9c8a-f5a5bfab58b0",
        "trusted": true
      },
      "outputs": [
        {
          "name": "stdout",
          "output_type": "stream",
          "text": [
            "<class 'pandas.core.frame.DataFrame'>\n",
            "RangeIndex: 900000 entries, 0 to 899999\n",
            "Data columns (total 11 columns):\n",
            " #   Column        Non-Null Count   Dtype \n",
            "---  ------        --------------   ----- \n",
            " 0   user_id       900000 non-null  object\n",
            " 1   book_id       900000 non-null  int64 \n",
            " 2   review_id     900000 non-null  object\n",
            " 3   rating        900000 non-null  int64 \n",
            " 4   review_text   900000 non-null  object\n",
            " 5   date_added    900000 non-null  object\n",
            " 6   date_updated  900000 non-null  object\n",
            " 7   read_at       808234 non-null  object\n",
            " 8   started_at    625703 non-null  object\n",
            " 9   n_votes       900000 non-null  int64 \n",
            " 10  n_comments    900000 non-null  int64 \n",
            "dtypes: int64(4), object(7)\n",
            "memory usage: 75.5+ MB\n",
            "<class 'pandas.core.frame.DataFrame'>\n",
            "Index: 615507 entries, 0 to 899999\n",
            "Data columns (total 11 columns):\n",
            " #   Column        Non-Null Count   Dtype \n",
            "---  ------        --------------   ----- \n",
            " 0   user_id       615507 non-null  object\n",
            " 1   book_id       615507 non-null  int64 \n",
            " 2   review_id     615507 non-null  object\n",
            " 3   rating        615507 non-null  int64 \n",
            " 4   review_text   615507 non-null  object\n",
            " 5   date_added    615507 non-null  object\n",
            " 6   date_updated  615507 non-null  object\n",
            " 7   read_at       615507 non-null  object\n",
            " 8   started_at    615507 non-null  object\n",
            " 9   n_votes       615507 non-null  int64 \n",
            " 10  n_comments    615507 non-null  int64 \n",
            "dtypes: int64(4), object(7)\n",
            "memory usage: 56.4+ MB\n"
          ]
        }
      ],
      "source": [
        "df_train.info()\n",
        "df_cleaned.info()"
      ]
    },
    {
      "cell_type": "markdown",
      "metadata": {
        "id": "nNAdqB-OWxok"
      },
      "source": [
        "Оценим зависимость признаков друг от друга. Для этого немного преобразуем датасет в числовые признакы.\n"
      ]
    },
    {
      "cell_type": "code",
      "execution_count": null,
      "metadata": {
        "execution": {
          "iopub.execute_input": "2023-12-26T04:06:06.794902Z",
          "iopub.status.busy": "2023-12-26T04:06:06.794459Z",
          "iopub.status.idle": "2023-12-26T04:07:16.871685Z",
          "shell.execute_reply": "2023-12-26T04:07:16.870464Z",
          "shell.execute_reply.started": "2023-12-26T04:06:06.794865Z"
        },
        "id": "Z3-8iMxSWxok",
        "trusted": true
      },
      "outputs": [],
      "source": [
        "# Переведем сначала строку типа 'Sun Jul 01 00:00:00 -0700 2017' в datetime, после чего в int (кол-во секунд)\n",
        "\n",
        "%%capture\n",
        "from datetime import datetime\n",
        "date_format = '%a %b %d %H:%M:%S %z %Y'\n",
        "\n",
        "df_cleaned['date_added_dt'] = df_cleaned['date_added'].apply(lambda x: datetime.strptime(x, date_format).timestamp())\n",
        "df_cleaned['date_updated_dt'] = df_cleaned['date_updated'].apply(lambda x: datetime.strptime(x, date_format).timestamp())\n",
        "df_cleaned['read_at_dt'] = df_cleaned['read_at'].apply(lambda x: datetime.strptime(x, date_format).timestamp())\n",
        "df_cleaned['started_at_dt'] = df_cleaned['started_at'].apply(lambda x: datetime.strptime(x, date_format).timestamp())\n",
        "\n",
        "# Дропаем оригинальные колонки\n",
        "\n",
        "df_cleaned.drop(columns=['date_added'], inplace=True)\n",
        "df_cleaned.drop(columns=['date_updated'], inplace=True)\n",
        "df_cleaned.drop(columns=['read_at'], inplace=True)\n",
        "df_cleaned.drop(columns=['started_at'], inplace=True)"
      ]
    },
    {
      "cell_type": "code",
      "execution_count": null,
      "metadata": {
        "execution": {
          "iopub.execute_input": "2023-12-26T04:22:34.394000Z",
          "iopub.status.busy": "2023-12-26T04:22:34.393576Z",
          "iopub.status.idle": "2023-12-26T04:22:34.412344Z",
          "shell.execute_reply": "2023-12-26T04:22:34.411219Z",
          "shell.execute_reply.started": "2023-12-26T04:22:34.393955Z"
        },
        "id": "T7U4_ZspWxok",
        "trusted": true
      },
      "outputs": [],
      "source": [
        "# Преобразуем датасет\n",
        "\n",
        "df_metric_corr_check = df_cleaned.drop(columns=['user_id','review_id','review_text'])"
      ]
    },
    {
      "cell_type": "code",
      "execution_count": null,
      "metadata": {
        "execution": {
          "iopub.execute_input": "2023-12-26T04:22:36.191333Z",
          "iopub.status.busy": "2023-12-26T04:22:36.190729Z",
          "iopub.status.idle": "2023-12-26T04:22:38.832319Z",
          "shell.execute_reply": "2023-12-26T04:22:38.831157Z",
          "shell.execute_reply.started": "2023-12-26T04:22:36.191300Z"
        },
        "id": "NFvRRYqHWxok",
        "outputId": "6c800b3e-9ff7-4231-d524-04bd1617e216",
        "trusted": true
      },
      "outputs": [
        {
          "data": {
            "text/plain": [
              "array([[<Axes: title={'center': 'book_id'}>,\n",
              "        <Axes: title={'center': 'rating'}>,\n",
              "        <Axes: title={'center': 'n_votes'}>],\n",
              "       [<Axes: title={'center': 'n_comments'}>,\n",
              "        <Axes: title={'center': 'date_added_dt'}>,\n",
              "        <Axes: title={'center': 'date_updated_dt'}>],\n",
              "       [<Axes: title={'center': 'read_at_dt'}>,\n",
              "        <Axes: title={'center': 'started_at_dt'}>, <Axes: >]],\n",
              "      dtype=object)"
            ]
          },
          "execution_count": 67,
          "metadata": {},
          "output_type": "execute_result"
        },
        {
          "data": {
            "image/png": "[encoded data removed]",
            "text/plain": [
              "<Figure size 1200x800 with 9 Axes>"
            ]
          },
          "metadata": {},
          "output_type": "display_data"
        }
      ],
      "source": [
        "# Посмотрим на значения признаков\n",
        "\n",
        "df_metric_corr_check.hist(bins=60, figsize=(12, 8))"
      ]
    },
    {
      "cell_type": "code",
      "execution_count": null,
      "metadata": {
        "execution": {
          "iopub.execute_input": "2023-12-26T04:22:41.850772Z",
          "iopub.status.busy": "2023-12-26T04:22:41.850368Z",
          "iopub.status.idle": "2023-12-26T04:22:42.014674Z",
          "shell.execute_reply": "2023-12-26T04:22:42.013515Z",
          "shell.execute_reply.started": "2023-12-26T04:22:41.850740Z"
        },
        "id": "XhMRqQ3eWxok",
        "outputId": "166e3ba4-f346-4cab-b75e-7c7785e13cbc",
        "trusted": true
      },
      "outputs": [
        {
          "data": {
            "text/html": [
              "<div>\n",
              "<style scoped>\n",
              "    .dataframe tbody tr th:only-of-type {\n",
              "        vertical-align: middle;\n",
              "    }\n",
              "\n",
              "    .dataframe tbody tr th {\n",
              "        vertical-align: top;\n",
              "    }\n",
              "\n",
              "    .dataframe thead th {\n",
              "        text-align: right;\n",
              "    }\n",
              "</style>\n",
              "<table border=\"1\" class=\"dataframe\">\n",
              "  <thead>\n",
              "    <tr style=\"text-align: right;\">\n",
              "      <th></th>\n",
              "      <th>book_id</th>\n",
              "      <th>rating</th>\n",
              "      <th>n_votes</th>\n",
              "      <th>n_comments</th>\n",
              "      <th>date_added_dt</th>\n",
              "      <th>date_updated_dt</th>\n",
              "      <th>read_at_dt</th>\n",
              "      <th>started_at_dt</th>\n",
              "    </tr>\n",
              "  </thead>\n",
              "  <tbody>\n",
              "    <tr>\n",
              "      <th>book_id</th>\n",
              "      <td>1.000000</td>\n",
              "      <td>0.032398</td>\n",
              "      <td>0.080987</td>\n",
              "      <td>0.029116</td>\n",
              "      <td>0.548058</td>\n",
              "      <td>0.444214</td>\n",
              "      <td>0.498706</td>\n",
              "      <td>0.122962</td>\n",
              "    </tr>\n",
              "    <tr>\n",
              "      <th>rating</th>\n",
              "      <td>0.032398</td>\n",
              "      <td>1.000000</td>\n",
              "      <td>0.021954</td>\n",
              "      <td>0.009302</td>\n",
              "      <td>-0.021778</td>\n",
              "      <td>0.003619</td>\n",
              "      <td>-0.003858</td>\n",
              "      <td>-0.000646</td>\n",
              "    </tr>\n",
              "    <tr>\n",
              "      <th>n_votes</th>\n",
              "      <td>0.080987</td>\n",
              "      <td>0.021954</td>\n",
              "      <td>1.000000</td>\n",
              "      <td>0.649478</td>\n",
              "      <td>0.058494</td>\n",
              "      <td>0.086783</td>\n",
              "      <td>0.065556</td>\n",
              "      <td>0.016466</td>\n",
              "    </tr>\n",
              "    <tr>\n",
              "      <th>n_comments</th>\n",
              "      <td>0.029116</td>\n",
              "      <td>0.009302</td>\n",
              "      <td>0.649478</td>\n",
              "      <td>1.000000</td>\n",
              "      <td>-0.026359</td>\n",
              "      <td>0.001862</td>\n",
              "      <td>-0.024490</td>\n",
              "      <td>-0.005404</td>\n",
              "    </tr>\n",
              "    <tr>\n",
              "      <th>date_added_dt</th>\n",
              "      <td>0.548058</td>\n",
              "      <td>-0.021778</td>\n",
              "      <td>0.058494</td>\n",
              "      <td>-0.026359</td>\n",
              "      <td>1.000000</td>\n",
              "      <td>0.803341</td>\n",
              "      <td>0.881174</td>\n",
              "      <td>0.216035</td>\n",
              "    </tr>\n",
              "    <tr>\n",
              "      <th>date_updated_dt</th>\n",
              "      <td>0.444214</td>\n",
              "      <td>0.003619</td>\n",
              "      <td>0.086783</td>\n",
              "      <td>0.001862</td>\n",
              "      <td>0.803341</td>\n",
              "      <td>1.000000</td>\n",
              "      <td>0.868643</td>\n",
              "      <td>0.212533</td>\n",
              "    </tr>\n",
              "    <tr>\n",
              "      <th>read_at_dt</th>\n",
              "      <td>0.498706</td>\n",
              "      <td>-0.003858</td>\n",
              "      <td>0.065556</td>\n",
              "      <td>-0.024490</td>\n",
              "      <td>0.881174</td>\n",
              "      <td>0.868643</td>\n",
              "      <td>1.000000</td>\n",
              "      <td>0.243584</td>\n",
              "    </tr>\n",
              "    <tr>\n",
              "      <th>started_at_dt</th>\n",
              "      <td>0.122962</td>\n",
              "      <td>-0.000646</td>\n",
              "      <td>0.016466</td>\n",
              "      <td>-0.005404</td>\n",
              "      <td>0.216035</td>\n",
              "      <td>0.212533</td>\n",
              "      <td>0.243584</td>\n",
              "      <td>1.000000</td>\n",
              "    </tr>\n",
              "  </tbody>\n",
              "</table>\n",
              "</div>"
            ],
            "text/plain": [
              "                  book_id    rating   n_votes  n_comments  date_added_dt  \\\n",
              "book_id          1.000000  0.032398  0.080987    0.029116       0.548058   \n",
              "rating           0.032398  1.000000  0.021954    0.009302      -0.021778   \n",
              "n_votes          0.080987  0.021954  1.000000    0.649478       0.058494   \n",
              "n_comments       0.029116  0.009302  0.649478    1.000000      -0.026359   \n",
              "date_added_dt    0.548058 -0.021778  0.058494   -0.026359       1.000000   \n",
              "date_updated_dt  0.444214  0.003619  0.086783    0.001862       0.803341   \n",
              "read_at_dt       0.498706 -0.003858  0.065556   -0.024490       0.881174   \n",
              "started_at_dt    0.122962 -0.000646  0.016466   -0.005404       0.216035   \n",
              "\n",
              "                 date_updated_dt  read_at_dt  started_at_dt  \n",
              "book_id                 0.444214    0.498706       0.122962  \n",
              "rating                  0.003619   -0.003858      -0.000646  \n",
              "n_votes                 0.086783    0.065556       0.016466  \n",
              "n_comments              0.001862   -0.024490      -0.005404  \n",
              "date_added_dt           0.803341    0.881174       0.216035  \n",
              "date_updated_dt         1.000000    0.868643       0.212533  \n",
              "read_at_dt              0.868643    1.000000       0.243584  \n",
              "started_at_dt           0.212533    0.243584       1.000000  "
            ]
          },
          "execution_count": 68,
          "metadata": {},
          "output_type": "execute_result"
        }
      ],
      "source": [
        "# Посмотрим корреляцию числовых признаков\n",
        "\n",
        "df_metric_corr_check.corr()"
      ]
    },
    {
      "cell_type": "code",
      "execution_count": null,
      "metadata": {
        "execution": {
          "iopub.execute_input": "2023-12-26T04:22:43.753537Z",
          "iopub.status.busy": "2023-12-26T04:22:43.753126Z",
          "iopub.status.idle": "2023-12-26T04:22:44.897230Z",
          "shell.execute_reply": "2023-12-26T04:22:44.896136Z",
          "shell.execute_reply.started": "2023-12-26T04:22:43.753505Z"
        },
        "id": "lJ3akQGeWxol",
        "outputId": "702573ff-9309-463b-f263-89318a537a99",
        "trusted": true
      },
      "outputs": [
        {
          "data": {
            "image/png": "[encoded data removed]",
            "text/plain": [
              "<Figure size 1000x800 with 2 Axes>"
            ]
          },
          "metadata": {},
          "output_type": "display_data"
        }
      ],
      "source": [
        "# Визуализация матрицы корреляций\n",
        "\n",
        "plt.figure(figsize=(10, 8))\n",
        "plt.imshow(df_metric_corr_check.corr(), cmap='coolwarm', interpolation='nearest')\n",
        "plt.colorbar(label='Correlation')\n",
        "plt.xticks(range(len(df_metric_corr_check.corr().columns)), df_metric_corr_check.corr().columns, rotation=90)\n",
        "plt.yticks(range(len(df_metric_corr_check.corr().columns)), df_metric_corr_check.corr().columns)\n",
        "plt.title('Correlation Matrix Heatmap')\n",
        "plt.show()"
      ]
    },
    {
      "cell_type": "markdown",
      "metadata": {
        "id": "ba7lBPFSWxol"
      },
      "source": [
        "В целом мы видим, что данные не являются сильно скоррелированными. Имеется устойчивая связь (>0.5) между данными, связанными с информацией о комментариях: n_votes (количество голосов) и n_comments (количество комментариев), а также date_updated_dt (дата обновления комментария) и read_at_dt (время прочтения)."
      ]
    },
    {
      "cell_type": "markdown",
      "metadata": {
        "id": "5ENULlcwWxol"
      },
      "source": [
        "### Более детально проанализируем review_text"
      ]
    },
    {
      "cell_type": "code",
      "execution_count": null,
      "metadata": {
        "execution": {
          "iopub.execute_input": "2023-12-24T05:46:59.677290Z",
          "iopub.status.busy": "2023-12-24T05:46:59.676871Z",
          "iopub.status.idle": "2023-12-24T05:46:59.711933Z",
          "shell.execute_reply": "2023-12-24T05:46:59.710824Z",
          "shell.execute_reply.started": "2023-12-24T05:46:59.677258Z"
        },
        "id": "CW-V0mq7Wxol",
        "outputId": "80bd65d4-b760-4c84-dced-48da82bb8773",
        "trusted": true
      },
      "outputs": [
        {
          "data": {
            "text/plain": [
              "[\"Very rarely do I read a book that never draws me in, not even a little bit. I put this book down with ten pages left earlier this morning, and wasn't upset at all. Darrow was a protagonist I never related to or rooted for. I understand that he's not supposed to be like-able. That's fine. I loved The Great Gatsby and none of those characters are like-able. The whole time, I felt like I was reading The Hunger Games repackaged for adults. If I hadn't paid for this (which is disappointing since I almost never buy books, being a broke college student) I would not have finished it.\",\n",
              " \"Shit, Shit, Shit.... OKAY- so let me just say I rated this 5 stars because as a whole (all three books) I was totally in love. I have a hard on for Gideon Cross and Damien Stark so I am biased in all things involving these two characters. Being this is Damien Stark's story I am going to rate it high. \\n Pro's: \\n *I got my closure that I needed with Nikki and Damien (sort of- yes, sort of, because I needed more. I am a selfish lady and I wanted more. MORE, MORE, MORE.....) \\n *SEX, SEX, SEX... holy shit. This book had so much of it, I think it burned up my kindle from the smoking scenes. \\n *Ollie is finally getting the shaft from his girlfriend- thank god, cause she needed to WISE up. \\n *Jamie- god damn Jamie needs REHAB. I am thinking that we MAY get a story on Jamie (that's what I am hoping for) \\n Con's: \\n *SERIOUSLY- that is all we get for an ending? (once again selfish) \\n *I seriously wanted more people to get hurt for being total crazy pants- I mean court ordered rehab and hospitalization? How about more, come on Damien you can't make her suffer more for stalking Nikki and being a crazy loon? \\n *DAMIEN- WHY? WHY? did you wait so long to tell Nikki those 3 words?? (Again selfish) and let me just say when he did say them and the way he said them made my toes curl and made me swoon like a victorian lady in a corset. \\n Overall: Love Damien and Nikki. In my heart I can't help but feel this isn't the end, only because I don't feel the closure on Jamie or Ollie for that matter. Will Jamie get a book that we will then get more Damien and Nikki out of and more on their HEA? I seriously hope so, because I just can't help but feel that there is more to learn about all these people that I have grown to LOVE. \\n *\"]"
            ]
          },
          "execution_count": 21,
          "metadata": {},
          "output_type": "execute_result"
        }
      ],
      "source": [
        "# Посмотрим на столбец review_text\n",
        "\n",
        "df_train['review_text'].sample(2).tolist()"
      ]
    },
    {
      "cell_type": "code",
      "execution_count": null,
      "metadata": {
        "execution": {
          "iopub.execute_input": "2023-12-26T04:29:14.886297Z",
          "iopub.status.busy": "2023-12-26T04:29:14.885869Z",
          "iopub.status.idle": "2023-12-26T04:29:16.117772Z",
          "shell.execute_reply": "2023-12-26T04:29:16.116463Z",
          "shell.execute_reply.started": "2023-12-26T04:29:14.886263Z"
        },
        "id": "gskuk3ijWxom",
        "outputId": "a5266ae9-206c-4105-e582-50632faaf202",
        "trusted": true
      },
      "outputs": [
        {
          "data": {
            "image/png": "[encoded data removed]",
            "text/plain": [
              "<Figure size 640x480 with 1 Axes>"
            ]
          },
          "metadata": {},
          "output_type": "display_data"
        }
      ],
      "source": [
        "# Посмотрим на длину (количество символов) в отзывах\n",
        "\n",
        "sns.histplot(df_train['review_text'].str.len().value_counts(), kde=True, bins=40)\n",
        "plt.xlabel('Review Text Length')\n",
        "plt.ylabel('Density')\n",
        "plt.title('Distribution of Review Text Lengths')\n",
        "plt.show()"
      ]
    },
    {
      "cell_type": "markdown",
      "metadata": {
        "id": "rdmgky91Wxom"
      },
      "source": [
        "Видим, что коротких по длине отзывов больше, чем длинных."
      ]
    },
    {
      "cell_type": "markdown",
      "metadata": {
        "id": "u_F5bj7DWxom"
      },
      "source": [
        "### Анализ возможных преобразования и генерации новых признаков\n",
        "\n",
        "Для реализации одного из подходов в LightAutoMl нам необходимо немного почистить текст."
      ]
    },
    {
      "cell_type": "code",
      "execution_count": null,
      "metadata": {
        "execution": {
          "iopub.execute_input": "2023-12-26T04:32:38.350695Z",
          "iopub.status.busy": "2023-12-26T04:32:38.350159Z",
          "iopub.status.idle": "2023-12-26T04:32:38.357486Z",
          "shell.execute_reply": "2023-12-26T04:32:38.356320Z",
          "shell.execute_reply.started": "2023-12-26T04:32:38.350650Z"
        },
        "id": "6x7GXH2UWxom",
        "trusted": true
      },
      "outputs": [],
      "source": [
        "text = df_train['review_text'].iloc[0]"
      ]
    },
    {
      "cell_type": "code",
      "execution_count": null,
      "metadata": {
        "execution": {
          "iopub.execute_input": "2023-12-26T16:48:50.809173Z",
          "iopub.status.busy": "2023-12-26T16:48:50.808778Z",
          "iopub.status.idle": "2023-12-26T16:48:50.815463Z",
          "shell.execute_reply": "2023-12-26T16:48:50.814491Z",
          "shell.execute_reply.started": "2023-12-26T16:48:50.809143Z"
        },
        "id": "B17Y-CUcWxom",
        "trusted": true
      },
      "outputs": [],
      "source": [
        "import re\n",
        "\n",
        "def replace_words_with_repeats(text, replacement='EMOTION'):\n",
        "    pattern = r'\\b\\w*(\\w)\\1{2,}\\w*\\b' # Заменяем повтор символов (более двух подряд) на константные значения\n",
        "    return re.sub(pattern, replacement, text)\n",
        "\n",
        "\n",
        "def clean_text(text):\n",
        "    text = text.lower()  # Преобразуем в нижний регистр\n",
        "    text = re.sub(r'[^\\w\\s]', ' ', text)  # Удалим все символы, не являющиеся словами\n",
        "    text = re.sub(r'\\n', '', text)\n",
        "    text = replace_words_with_repeats(text)\n",
        "    text = re.sub(r'\\s+', ' ', text)\n",
        "    return text\n"
      ]
    },
    {
      "cell_type": "code",
      "execution_count": null,
      "metadata": {
        "execution": {
          "iopub.execute_input": "2023-12-26T16:48:54.569386Z",
          "iopub.status.busy": "2023-12-26T16:48:54.568673Z",
          "iopub.status.idle": "2023-12-26T16:54:15.867306Z",
          "shell.execute_reply": "2023-12-26T16:54:15.866409Z",
          "shell.execute_reply.started": "2023-12-26T16:48:54.569355Z"
        },
        "id": "4NIiXHRNWxom",
        "trusted": true
      },
      "outputs": [],
      "source": [
        "df_train['review_text_cleaned'] = df_train['review_text'].apply(lambda x: clean_text(x))"
      ]
    },
    {
      "cell_type": "code",
      "execution_count": null,
      "metadata": {
        "colab": {
          "base_uri": "https://localhost:8080/",
          "height": 423
        },
        "execution": {
          "iopub.execute_input": "2023-12-26T06:13:31.266640Z",
          "iopub.status.busy": "2023-12-26T06:13:31.265884Z",
          "iopub.status.idle": "2023-12-26T06:13:32.029867Z",
          "shell.execute_reply": "2023-12-26T06:13:32.028768Z",
          "shell.execute_reply.started": "2023-12-26T06:13:31.266602Z"
        },
        "id": "0wMh-GacWxom",
        "outputId": "b70df2ba-2c0d-41f1-b9f3-b33bb62c7d0f",
        "trusted": true
      },
      "outputs": [
        {
          "data": {
            "text/html": [
              "\n",
              "  <div id=\"df-9390820d-bb0c-470a-bd0e-a0cd6965a32a\" class=\"colab-df-container\">\n",
              "    <div>\n",
              "<style scoped>\n",
              "    .dataframe tbody tr th:only-of-type {\n",
              "        vertical-align: middle;\n",
              "    }\n",
              "\n",
              "    .dataframe tbody tr th {\n",
              "        vertical-align: top;\n",
              "    }\n",
              "\n",
              "    .dataframe thead th {\n",
              "        text-align: right;\n",
              "    }\n",
              "</style>\n",
              "<table border=\"1\" class=\"dataframe\">\n",
              "  <thead>\n",
              "    <tr style=\"text-align: right;\">\n",
              "      <th></th>\n",
              "      <th>review_text_cleaned</th>\n",
              "    </tr>\n",
              "  </thead>\n",
              "  <tbody>\n",
              "    <tr>\n",
              "      <th>679</th>\n",
              "      <td>cute</td>\n",
              "    </tr>\n",
              "    <tr>\n",
              "      <th>688</th>\n",
              "      <td>loved it</td>\n",
              "    </tr>\n",
              "    <tr>\n",
              "      <th>5450</th>\n",
              "      <td>loved it</td>\n",
              "    </tr>\n",
              "    <tr>\n",
              "      <th>5807</th>\n",
              "      <td>loved it</td>\n",
              "    </tr>\n",
              "    <tr>\n",
              "      <th>6552</th>\n",
              "      <td>ugh</td>\n",
              "    </tr>\n",
              "    <tr>\n",
              "      <th>...</th>\n",
              "      <td>...</td>\n",
              "    </tr>\n",
              "    <tr>\n",
              "      <th>895873</th>\n",
              "      <td>reread</td>\n",
              "    </tr>\n",
              "    <tr>\n",
              "      <th>895874</th>\n",
              "      <td>reread</td>\n",
              "    </tr>\n",
              "    <tr>\n",
              "      <th>896803</th>\n",
              "      <td>loved it</td>\n",
              "    </tr>\n",
              "    <tr>\n",
              "      <th>899462</th>\n",
              "      <td>good read</td>\n",
              "    </tr>\n",
              "    <tr>\n",
              "      <th>899931</th>\n",
              "      <td>loved it</td>\n",
              "    </tr>\n",
              "  </tbody>\n",
              "</table>\n",
              "<p>1114 rows × 1 columns</p>\n",
              "</div>\n",
              "    <div class=\"colab-df-buttons\">\n",
              "\n",
              "  <div class=\"colab-df-container\">\n",
              "    <button class=\"colab-df-convert\" onclick=\"convertToInteractive('df-9390820d-bb0c-470a-bd0e-a0cd6965a32a')\"\n",
              "            title=\"Convert this dataframe to an interactive table.\"\n",
              "            style=\"display:none;\">\n",
              "\n",
              "  <svg xmlns=\"http://www.w3.org/2000/svg\" height=\"24px\" viewBox=\"0 -960 960 960\">\n",
              "    <path d=\"M120-120v-720h720v720H120Zm60-500h600v-160H180v160Zm220 220h160v-160H400v160Zm0 220h160v-160H400v160ZM180-400h160v-160H180v160Zm440 0h160v-160H620v160ZM180-180h160v-160H180v160Zm440 0h160v-160H620v160Z\"/>\n",
              "  </svg>\n",
              "    </button>\n",
              "\n",
              "  <style>\n",
              "    .colab-df-container {\n",
              "      display:flex;\n",
              "      gap: 12px;\n",
              "    }\n",
              "\n",
              "    .colab-df-convert {\n",
              "      background-color: #E8F0FE;\n",
              "      border: none;\n",
              "      border-radius: 50%;\n",
              "      cursor: pointer;\n",
              "      display: none;\n",
              "      fill: #1967D2;\n",
              "      height: 32px;\n",
              "      padding: 0 0 0 0;\n",
              "      width: 32px;\n",
              "    }\n",
              "\n",
              "    .colab-df-convert:hover {\n",
              "      background-color: #E2EBFA;\n",
              "      box-shadow: 0px 1px 2px rgba(60, 64, 67, 0.3), 0px 1px 3px 1px rgba(60, 64, 67, 0.15);\n",
              "      fill: #174EA6;\n",
              "    }\n",
              "\n",
              "    .colab-df-buttons div {\n",
              "      margin-bottom: 4px;\n",
              "    }\n",
              "\n",
              "    [theme=dark] .colab-df-convert {\n",
              "      background-color: #3B4455;\n",
              "      fill: #D2E3FC;\n",
              "    }\n",
              "\n",
              "    [theme=dark] .colab-df-convert:hover {\n",
              "      background-color: #434B5C;\n",
              "      box-shadow: 0px 1px 3px 1px rgba(0, 0, 0, 0.15);\n",
              "      filter: drop-shadow(0px 1px 2px rgba(0, 0, 0, 0.3));\n",
              "      fill: #FFFFFF;\n",
              "    }\n",
              "  </style>\n",
              "\n",
              "    <script>\n",
              "      const buttonEl =\n",
              "        document.querySelector('#df-9390820d-bb0c-470a-bd0e-a0cd6965a32a button.colab-df-convert');\n",
              "      buttonEl.style.display =\n",
              "        google.colab.kernel.accessAllowed ? 'block' : 'none';\n",
              "\n",
              "      async function convertToInteractive(key) {\n",
              "        const element = document.querySelector('#df-9390820d-bb0c-470a-bd0e-a0cd6965a32a');\n",
              "        const dataTable =\n",
              "          await google.colab.kernel.invokeFunction('convertToInteractive',\n",
              "                                                    [key], {});\n",
              "        if (!dataTable) return;\n",
              "\n",
              "        const docLinkHtml = 'Like what you see? Visit the ' +\n",
              "          '<a target=\"_blank\" href=https://colab.research.google.com/notebooks/data_table.ipynb>data table notebook</a>'\n",
              "          + ' to learn more about interactive tables.';\n",
              "        element.innerHTML = '';\n",
              "        dataTable['output_type'] = 'display_data';\n",
              "        await google.colab.output.renderOutput(dataTable, element);\n",
              "        const docLink = document.createElement('div');\n",
              "        docLink.innerHTML = docLinkHtml;\n",
              "        element.appendChild(docLink);\n",
              "      }\n",
              "    </script>\n",
              "  </div>\n",
              "\n",
              "\n",
              "<div id=\"df-f4100f92-ae46-4de7-8708-3d9c96585bbf\">\n",
              "  <button class=\"colab-df-quickchart\" onclick=\"quickchart('df-f4100f92-ae46-4de7-8708-3d9c96585bbf')\"\n",
              "            title=\"Suggest charts\"\n",
              "            style=\"display:none;\">\n",
              "\n",
              "<svg xmlns=\"http://www.w3.org/2000/svg\" height=\"24px\"viewBox=\"0 0 24 24\"\n",
              "     width=\"24px\">\n",
              "    <g>\n",
              "        <path d=\"M19 3H5c-1.1 0-2 .9-2 2v14c0 1.1.9 2 2 2h14c1.1 0 2-.9 2-2V5c0-1.1-.9-2-2-2zM9 17H7v-7h2v7zm4 0h-2V7h2v10zm4 0h-2v-4h2v4z\"/>\n",
              "    </g>\n",
              "</svg>\n",
              "  </button>\n",
              "\n",
              "<style>\n",
              "  .colab-df-quickchart {\n",
              "      --bg-color: #E8F0FE;\n",
              "      --fill-color: #1967D2;\n",
              "      --hover-bg-color: #E2EBFA;\n",
              "      --hover-fill-color: #174EA6;\n",
              "      --disabled-fill-color: #AAA;\n",
              "      --disabled-bg-color: #DDD;\n",
              "  }\n",
              "\n",
              "  [theme=dark] .colab-df-quickchart {\n",
              "      --bg-color: #3B4455;\n",
              "      --fill-color: #D2E3FC;\n",
              "      --hover-bg-color: #434B5C;\n",
              "      --hover-fill-color: #FFFFFF;\n",
              "      --disabled-bg-color: #3B4455;\n",
              "      --disabled-fill-color: #666;\n",
              "  }\n",
              "\n",
              "  .colab-df-quickchart {\n",
              "    background-color: var(--bg-color);\n",
              "    border: none;\n",
              "    border-radius: 50%;\n",
              "    cursor: pointer;\n",
              "    display: none;\n",
              "    fill: var(--fill-color);\n",
              "    height: 32px;\n",
              "    padding: 0;\n",
              "    width: 32px;\n",
              "  }\n",
              "\n",
              "  .colab-df-quickchart:hover {\n",
              "    background-color: var(--hover-bg-color);\n",
              "    box-shadow: 0 1px 2px rgba(60, 64, 67, 0.3), 0 1px 3px 1px rgba(60, 64, 67, 0.15);\n",
              "    fill: var(--button-hover-fill-color);\n",
              "  }\n",
              "\n",
              "  .colab-df-quickchart-complete:disabled,\n",
              "  .colab-df-quickchart-complete:disabled:hover {\n",
              "    background-color: var(--disabled-bg-color);\n",
              "    fill: var(--disabled-fill-color);\n",
              "    box-shadow: none;\n",
              "  }\n",
              "\n",
              "  .colab-df-spinner {\n",
              "    border: 2px solid var(--fill-color);\n",
              "    border-color: transparent;\n",
              "    border-bottom-color: var(--fill-color);\n",
              "    animation:\n",
              "      spin 1s steps(1) infinite;\n",
              "  }\n",
              "\n",
              "  @keyframes spin {\n",
              "    0% {\n",
              "      border-color: transparent;\n",
              "      border-bottom-color: var(--fill-color);\n",
              "      border-left-color: var(--fill-color);\n",
              "    }\n",
              "    20% {\n",
              "      border-color: transparent;\n",
              "      border-left-color: var(--fill-color);\n",
              "      border-top-color: var(--fill-color);\n",
              "    }\n",
              "    30% {\n",
              "      border-color: transparent;\n",
              "      border-left-color: var(--fill-color);\n",
              "      border-top-color: var(--fill-color);\n",
              "      border-right-color: var(--fill-color);\n",
              "    }\n",
              "    40% {\n",
              "      border-color: transparent;\n",
              "      border-right-color: var(--fill-color);\n",
              "      border-top-color: var(--fill-color);\n",
              "    }\n",
              "    60% {\n",
              "      border-color: transparent;\n",
              "      border-right-color: var(--fill-color);\n",
              "    }\n",
              "    80% {\n",
              "      border-color: transparent;\n",
              "      border-right-color: var(--fill-color);\n",
              "      border-bottom-color: var(--fill-color);\n",
              "    }\n",
              "    90% {\n",
              "      border-color: transparent;\n",
              "      border-bottom-color: var(--fill-color);\n",
              "    }\n",
              "  }\n",
              "</style>\n",
              "\n",
              "  <script>\n",
              "    async function quickchart(key) {\n",
              "      const quickchartButtonEl =\n",
              "        document.querySelector('#' + key + ' button');\n",
              "      quickchartButtonEl.disabled = true;  // To prevent multiple clicks.\n",
              "      quickchartButtonEl.classList.add('colab-df-spinner');\n",
              "      try {\n",
              "        const charts = await google.colab.kernel.invokeFunction(\n",
              "            'suggestCharts', [key], {});\n",
              "      } catch (error) {\n",
              "        console.error('Error during call to suggestCharts:', error);\n",
              "      }\n",
              "      quickchartButtonEl.classList.remove('colab-df-spinner');\n",
              "      quickchartButtonEl.classList.add('colab-df-quickchart-complete');\n",
              "    }\n",
              "    (() => {\n",
              "      let quickchartButtonEl =\n",
              "        document.querySelector('#df-f4100f92-ae46-4de7-8708-3d9c96585bbf button');\n",
              "      quickchartButtonEl.style.display =\n",
              "        google.colab.kernel.accessAllowed ? 'block' : 'none';\n",
              "    })();\n",
              "  </script>\n",
              "</div>\n",
              "    </div>\n",
              "  </div>\n"
            ],
            "text/plain": [
              "       review_text_cleaned\n",
              "679                   cute\n",
              "688              loved it \n",
              "5450             loved it \n",
              "5807             loved it \n",
              "6552                   ugh\n",
              "...                    ...\n",
              "895873              reread\n",
              "895874              reread\n",
              "896803           loved it \n",
              "899462           good read\n",
              "899931           loved it \n",
              "\n",
              "[1114 rows x 1 columns]"
            ]
          },
          "execution_count": 12,
          "metadata": {},
          "output_type": "execute_result"
        }
      ],
      "source": [
        "# Также посмотрим на небольшие по количеству символов ревью\n",
        "\n",
        "df_train[df_train['review_text_cleaned'].str.len() < 10][['review_text_cleaned']]"
      ]
    },
    {
      "cell_type": "markdown",
      "metadata": {
        "id": "sMmmF1X8Wxon"
      },
      "source": [
        "## Lama baseline\n",
        "\n",
        "Проверим несколько конфигураций LightAutoMl для классификации отзывов.\n",
        "- Быстрый вариант решения задачи (дефолтный и с определением модели для векторизации эмбеддингов)\n",
        "- Решение задачи с препроцессингом текста\n",
        "- Ручное выставление гиперпараметров (с использованием optuna)\n",
        "\n",
        "\n",
        "Для нахождения оптимального варианта использования LightAutoML уменьшим размер тренировочных данных до 150000, на которых проверим резульататы различных подходов"
      ]
    },
    {
      "cell_type": "code",
      "execution_count": null,
      "metadata": {
        "execution": {
          "iopub.execute_input": "2023-12-26T16:57:42.194236Z",
          "iopub.status.busy": "2023-12-26T16:57:42.193792Z",
          "iopub.status.idle": "2023-12-26T16:57:42.201801Z",
          "shell.execute_reply": "2023-12-26T16:57:42.200931Z",
          "shell.execute_reply.started": "2023-12-26T16:57:42.194202Z"
        },
        "id": "A4tQACgOWxon",
        "trusted": true
      },
      "outputs": [],
      "source": [
        "# Определеяем метрику, которой будем оценивать наши результаты - в данном случае используем f1_score (weighted)\n",
        "\n",
        "from sklearn.metrics import f1_score\n",
        "def f1_weighted(y_true, y_pred):\n",
        "    return f1_score(y_true, np.argmax(y_pred, axis=1), average='weighted')"
      ]
    },
    {
      "cell_type": "code",
      "execution_count": null,
      "metadata": {
        "id": "vKNZDzNBV5IL"
      },
      "outputs": [],
      "source": [
        "# Определяем константные значения\n",
        "\n",
        "import os\n",
        "import torch\n",
        "N_THREADS = os.cpu_count() # Количество vCPUs для LightAutoM\n",
        "GPU_IDS = '0' if torch.cuda.is_available() else None\n",
        "TEST_SIZE = 0.2\n",
        "RANDOM_STATE = 42\n",
        "TIMEOUT = 200\n",
        "TARGET_NAME = 'rating'"
      ]
    },
    {
      "cell_type": "code",
      "execution_count": null,
      "metadata": {
        "colab": {
          "base_uri": "https://localhost:8080/"
        },
        "execution": {
          "iopub.execute_input": "2023-12-26T16:59:18.223185Z",
          "iopub.status.busy": "2023-12-26T16:59:18.222787Z",
          "iopub.status.idle": "2023-12-26T16:59:18.425207Z",
          "shell.execute_reply": "2023-12-26T16:59:18.424201Z",
          "shell.execute_reply.started": "2023-12-26T16:59:18.223156Z"
        },
        "id": "MOvi6ARSWxon",
        "outputId": "79161590-239e-4f51-b128-d869b12a0fb9",
        "trusted": true
      },
      "outputs": [
        {
          "name": "stdout",
          "output_type": "stream",
          "text": [
            "Размер исходного тренировочного датасета: (900000, 12)\n",
            "\n",
            "Размер уменьшенного тренировочного датасета: (150000, 12)\n"
          ]
        }
      ],
      "source": [
        "# Уменьшим исходную тренировочную выборку для тестирования LightAutoMl\n",
        "\n",
        "train_data = df_train.sample(150000).reset_index(drop=True)\n",
        "\n",
        "print(f\"Размер исходного тренировочного датасета: {df_train.shape}\\n\\nРазмер уменьшенного тренировочного датасета: {train_data.shape}\")"
      ]
    },
    {
      "cell_type": "code",
      "execution_count": null,
      "metadata": {
        "id": "dgDbvs7aWUZ9"
      },
      "outputs": [],
      "source": [
        "# Скорректируем тренировочный датасет\n",
        "\n",
        "from sklearn.model_selection import train_test_split\n",
        "\n",
        "X = train_data[['review_text', 'review_text_cleaned']] # Посмотрим, есть ли разница, если подавать подчищенные текста вместо исходных\n",
        "y = train_data[['rating']]\n",
        "\n",
        "X_train, X_test, y_train, y_test = train_test_split(X,\n",
        "                                                    y,\n",
        "                                                    test_size=TEST_SIZE,\n",
        "                                                    random_state=RANDOM_STATE)"
      ]
    },
    {
      "cell_type": "code",
      "execution_count": null,
      "metadata": {
        "colab": {
          "base_uri": "https://localhost:8080/",
          "height": 468
        },
        "id": "_c3jrqtn0pj5",
        "outputId": "c3fcc207-9fce-436f-b11a-b7ac0453b177"
      },
      "outputs": [
        {
          "data": {
            "image/png": "[encoded data removed]",
            "text/plain": [
              "<Figure size 1200x500 with 2 Axes>"
            ]
          },
          "metadata": {},
          "output_type": "display_data"
        }
      ],
      "source": [
        "# На всякий случай посмотрим на распределение таргета в тренировочном и тестовом наборах\n",
        "\n",
        "def compare_label_distributions(y_train, y_val):\n",
        "    fig, ax = plt.subplots(1, 2, figsize=(12, 5))\n",
        "\n",
        "    ax[0].hist(y_train, bins=30, color='blue', alpha=0.7)\n",
        "    ax[0].set_title('Training Set Label Distribution')\n",
        "\n",
        "    ax[1].hist(y_test, bins=30, color='green', alpha=0.7)\n",
        "    ax[1].set_title('Test Set Label Distribution')\n",
        "\n",
        "    plt.show()\n",
        "\n",
        "compare_label_distributions(y_train, y_test)"
      ]
    },
    {
      "cell_type": "code",
      "execution_count": null,
      "metadata": {
        "colab": {
          "base_uri": "https://localhost:8080/",
          "height": 206
        },
        "id": "-5KjYGuIWuoV",
        "outputId": "e2c72136-7b72-4ac4-f3ea-b339c3a00234"
      },
      "outputs": [
        {
          "data": {
            "text/html": [
              "\n",
              "  <div id=\"df-1ce1e0ff-0520-408b-8332-d269d510b31a\" class=\"colab-df-container\">\n",
              "    <div>\n",
              "<style scoped>\n",
              "    .dataframe tbody tr th:only-of-type {\n",
              "        vertical-align: middle;\n",
              "    }\n",
              "\n",
              "    .dataframe tbody tr th {\n",
              "        vertical-align: top;\n",
              "    }\n",
              "\n",
              "    .dataframe thead th {\n",
              "        text-align: right;\n",
              "    }\n",
              "</style>\n",
              "<table border=\"1\" class=\"dataframe\">\n",
              "  <thead>\n",
              "    <tr style=\"text-align: right;\">\n",
              "      <th></th>\n",
              "      <th>review_text</th>\n",
              "      <th>review_text_cleaned</th>\n",
              "      <th>rating</th>\n",
              "    </tr>\n",
              "  </thead>\n",
              "  <tbody>\n",
              "    <tr>\n",
              "      <th>104025</th>\n",
              "      <td>Like Matched, this book felt like it was echoi...</td>\n",
              "      <td>like matched this book felt like it was echoin...</td>\n",
              "      <td>3</td>\n",
              "    </tr>\n",
              "    <tr>\n",
              "      <th>5415</th>\n",
              "      <td>Money. It's all about the money. I mean, why e...</td>\n",
              "      <td>money it s all about the money i mean why else...</td>\n",
              "      <td>5</td>\n",
              "    </tr>\n",
              "    <tr>\n",
              "      <th>75612</th>\n",
              "      <td>This is the first book I have read by the auth...</td>\n",
              "      <td>this is the first book i have read by the auth...</td>\n",
              "      <td>4</td>\n",
              "    </tr>\n",
              "    <tr>\n",
              "      <th>138169</th>\n",
              "      <td>5 stars - Vampire Romance \\n Great second inst...</td>\n",
              "      <td>5 stars vampire romance great second installme...</td>\n",
              "      <td>5</td>\n",
              "    </tr>\n",
              "    <tr>\n",
              "      <th>87184</th>\n",
              "      <td>4 stars \\n This is book 2 of the Too Far Serie...</td>\n",
              "      <td>4 stars this is book 2 of the too far series b...</td>\n",
              "      <td>4</td>\n",
              "    </tr>\n",
              "  </tbody>\n",
              "</table>\n",
              "</div>\n",
              "    <div class=\"colab-df-buttons\">\n",
              "\n",
              "  <div class=\"colab-df-container\">\n",
              "    <button class=\"colab-df-convert\" onclick=\"convertToInteractive('df-1ce1e0ff-0520-408b-8332-d269d510b31a')\"\n",
              "            title=\"Convert this dataframe to an interactive table.\"\n",
              "            style=\"display:none;\">\n",
              "\n",
              "  <svg xmlns=\"http://www.w3.org/2000/svg\" height=\"24px\" viewBox=\"0 -960 960 960\">\n",
              "    <path d=\"M120-120v-720h720v720H120Zm60-500h600v-160H180v160Zm220 220h160v-160H400v160Zm0 220h160v-160H400v160ZM180-400h160v-160H180v160Zm440 0h160v-160H620v160ZM180-180h160v-160H180v160Zm440 0h160v-160H620v160Z\"/>\n",
              "  </svg>\n",
              "    </button>\n",
              "\n",
              "  <style>\n",
              "    .colab-df-container {\n",
              "      display:flex;\n",
              "      gap: 12px;\n",
              "    }\n",
              "\n",
              "    .colab-df-convert {\n",
              "      background-color: #E8F0FE;\n",
              "      border: none;\n",
              "      border-radius: 50%;\n",
              "      cursor: pointer;\n",
              "      display: none;\n",
              "      fill: #1967D2;\n",
              "      height: 32px;\n",
              "      padding: 0 0 0 0;\n",
              "      width: 32px;\n",
              "    }\n",
              "\n",
              "    .colab-df-convert:hover {\n",
              "      background-color: #E2EBFA;\n",
              "      box-shadow: 0px 1px 2px rgba(60, 64, 67, 0.3), 0px 1px 3px 1px rgba(60, 64, 67, 0.15);\n",
              "      fill: #174EA6;\n",
              "    }\n",
              "\n",
              "    .colab-df-buttons div {\n",
              "      margin-bottom: 4px;\n",
              "    }\n",
              "\n",
              "    [theme=dark] .colab-df-convert {\n",
              "      background-color: #3B4455;\n",
              "      fill: #D2E3FC;\n",
              "    }\n",
              "\n",
              "    [theme=dark] .colab-df-convert:hover {\n",
              "      background-color: #434B5C;\n",
              "      box-shadow: 0px 1px 3px 1px rgba(0, 0, 0, 0.15);\n",
              "      filter: drop-shadow(0px 1px 2px rgba(0, 0, 0, 0.3));\n",
              "      fill: #FFFFFF;\n",
              "    }\n",
              "  </style>\n",
              "\n",
              "    <script>\n",
              "      const buttonEl =\n",
              "        document.querySelector('#df-1ce1e0ff-0520-408b-8332-d269d510b31a button.colab-df-convert');\n",
              "      buttonEl.style.display =\n",
              "        google.colab.kernel.accessAllowed ? 'block' : 'none';\n",
              "\n",
              "      async function convertToInteractive(key) {\n",
              "        const element = document.querySelector('#df-1ce1e0ff-0520-408b-8332-d269d510b31a');\n",
              "        const dataTable =\n",
              "          await google.colab.kernel.invokeFunction('convertToInteractive',\n",
              "                                                    [key], {});\n",
              "        if (!dataTable) return;\n",
              "\n",
              "        const docLinkHtml = 'Like what you see? Visit the ' +\n",
              "          '<a target=\"_blank\" href=https://colab.research.google.com/notebooks/data_table.ipynb>data table notebook</a>'\n",
              "          + ' to learn more about interactive tables.';\n",
              "        element.innerHTML = '';\n",
              "        dataTable['output_type'] = 'display_data';\n",
              "        await google.colab.output.renderOutput(dataTable, element);\n",
              "        const docLink = document.createElement('div');\n",
              "        docLink.innerHTML = docLinkHtml;\n",
              "        element.appendChild(docLink);\n",
              "      }\n",
              "    </script>\n",
              "  </div>\n",
              "\n",
              "\n",
              "<div id=\"df-732c7755-64a0-414b-8ddc-f363a6a94c32\">\n",
              "  <button class=\"colab-df-quickchart\" onclick=\"quickchart('df-732c7755-64a0-414b-8ddc-f363a6a94c32')\"\n",
              "            title=\"Suggest charts\"\n",
              "            style=\"display:none;\">\n",
              "\n",
              "<svg xmlns=\"http://www.w3.org/2000/svg\" height=\"24px\"viewBox=\"0 0 24 24\"\n",
              "     width=\"24px\">\n",
              "    <g>\n",
              "        <path d=\"M19 3H5c-1.1 0-2 .9-2 2v14c0 1.1.9 2 2 2h14c1.1 0 2-.9 2-2V5c0-1.1-.9-2-2-2zM9 17H7v-7h2v7zm4 0h-2V7h2v10zm4 0h-2v-4h2v4z\"/>\n",
              "    </g>\n",
              "</svg>\n",
              "  </button>\n",
              "\n",
              "<style>\n",
              "  .colab-df-quickchart {\n",
              "      --bg-color: #E8F0FE;\n",
              "      --fill-color: #1967D2;\n",
              "      --hover-bg-color: #E2EBFA;\n",
              "      --hover-fill-color: #174EA6;\n",
              "      --disabled-fill-color: #AAA;\n",
              "      --disabled-bg-color: #DDD;\n",
              "  }\n",
              "\n",
              "  [theme=dark] .colab-df-quickchart {\n",
              "      --bg-color: #3B4455;\n",
              "      --fill-color: #D2E3FC;\n",
              "      --hover-bg-color: #434B5C;\n",
              "      --hover-fill-color: #FFFFFF;\n",
              "      --disabled-bg-color: #3B4455;\n",
              "      --disabled-fill-color: #666;\n",
              "  }\n",
              "\n",
              "  .colab-df-quickchart {\n",
              "    background-color: var(--bg-color);\n",
              "    border: none;\n",
              "    border-radius: 50%;\n",
              "    cursor: pointer;\n",
              "    display: none;\n",
              "    fill: var(--fill-color);\n",
              "    height: 32px;\n",
              "    padding: 0;\n",
              "    width: 32px;\n",
              "  }\n",
              "\n",
              "  .colab-df-quickchart:hover {\n",
              "    background-color: var(--hover-bg-color);\n",
              "    box-shadow: 0 1px 2px rgba(60, 64, 67, 0.3), 0 1px 3px 1px rgba(60, 64, 67, 0.15);\n",
              "    fill: var(--button-hover-fill-color);\n",
              "  }\n",
              "\n",
              "  .colab-df-quickchart-complete:disabled,\n",
              "  .colab-df-quickchart-complete:disabled:hover {\n",
              "    background-color: var(--disabled-bg-color);\n",
              "    fill: var(--disabled-fill-color);\n",
              "    box-shadow: none;\n",
              "  }\n",
              "\n",
              "  .colab-df-spinner {\n",
              "    border: 2px solid var(--fill-color);\n",
              "    border-color: transparent;\n",
              "    border-bottom-color: var(--fill-color);\n",
              "    animation:\n",
              "      spin 1s steps(1) infinite;\n",
              "  }\n",
              "\n",
              "  @keyframes spin {\n",
              "    0% {\n",
              "      border-color: transparent;\n",
              "      border-bottom-color: var(--fill-color);\n",
              "      border-left-color: var(--fill-color);\n",
              "    }\n",
              "    20% {\n",
              "      border-color: transparent;\n",
              "      border-left-color: var(--fill-color);\n",
              "      border-top-color: var(--fill-color);\n",
              "    }\n",
              "    30% {\n",
              "      border-color: transparent;\n",
              "      border-left-color: var(--fill-color);\n",
              "      border-top-color: var(--fill-color);\n",
              "      border-right-color: var(--fill-color);\n",
              "    }\n",
              "    40% {\n",
              "      border-color: transparent;\n",
              "      border-right-color: var(--fill-color);\n",
              "      border-top-color: var(--fill-color);\n",
              "    }\n",
              "    60% {\n",
              "      border-color: transparent;\n",
              "      border-right-color: var(--fill-color);\n",
              "    }\n",
              "    80% {\n",
              "      border-color: transparent;\n",
              "      border-right-color: var(--fill-color);\n",
              "      border-bottom-color: var(--fill-color);\n",
              "    }\n",
              "    90% {\n",
              "      border-color: transparent;\n",
              "      border-bottom-color: var(--fill-color);\n",
              "    }\n",
              "  }\n",
              "</style>\n",
              "\n",
              "  <script>\n",
              "    async function quickchart(key) {\n",
              "      const quickchartButtonEl =\n",
              "        document.querySelector('#' + key + ' button');\n",
              "      quickchartButtonEl.disabled = true;  // To prevent multiple clicks.\n",
              "      quickchartButtonEl.classList.add('colab-df-spinner');\n",
              "      try {\n",
              "        const charts = await google.colab.kernel.invokeFunction(\n",
              "            'suggestCharts', [key], {});\n",
              "      } catch (error) {\n",
              "        console.error('Error during call to suggestCharts:', error);\n",
              "      }\n",
              "      quickchartButtonEl.classList.remove('colab-df-spinner');\n",
              "      quickchartButtonEl.classList.add('colab-df-quickchart-complete');\n",
              "    }\n",
              "    (() => {\n",
              "      let quickchartButtonEl =\n",
              "        document.querySelector('#df-732c7755-64a0-414b-8ddc-f363a6a94c32 button');\n",
              "      quickchartButtonEl.style.display =\n",
              "        google.colab.kernel.accessAllowed ? 'block' : 'none';\n",
              "    })();\n",
              "  </script>\n",
              "</div>\n",
              "    </div>\n",
              "  </div>\n"
            ],
            "text/plain": [
              "                                              review_text  \\\n",
              "104025  Like Matched, this book felt like it was echoi...   \n",
              "5415    Money. It's all about the money. I mean, why e...   \n",
              "75612   This is the first book I have read by the auth...   \n",
              "138169  5 stars - Vampire Romance \\n Great second inst...   \n",
              "87184   4 stars \\n This is book 2 of the Too Far Serie...   \n",
              "\n",
              "                                      review_text_cleaned  rating  \n",
              "104025  like matched this book felt like it was echoin...       3  \n",
              "5415    money it s all about the money i mean why else...       5  \n",
              "75612   this is the first book i have read by the auth...       4  \n",
              "138169  5 stars vampire romance great second installme...       5  \n",
              "87184   4 stars this is book 2 of the too far series b...       4  "
            ]
          },
          "execution_count": 52,
          "metadata": {},
          "output_type": "execute_result"
        }
      ],
      "source": [
        "# Для удобства работы с LightAutoML\n",
        "\n",
        "train_data=pd.concat([X_train, y_train], axis=1)\n",
        "train_data.head()"
      ]
    },
    {
      "cell_type": "markdown",
      "metadata": {
        "id": "v8F9267xTvsf"
      },
      "source": [
        "### Быстрый вариант решения задачи\n",
        "\n",
        "В данном подразделе рассмотрим модель со значениями по умолчанию, а также вариант с определением модели для агрегации эмбеддингов слов.\n",
        "\n",
        "В данном случае мы не занимаемся подбором гиперпараметров для модели.\n"
      ]
    },
    {
      "cell_type": "markdown",
      "metadata": {
        "id": "4xBGvd5HanWR"
      },
      "source": [
        "1. Классический вариант со значениями по умолчанию (единственное: укажем язык, на котором написаны тексты (английский), поскольку по умолчанию ставится русский)"
      ]
    },
    {
      "cell_type": "code",
      "execution_count": null,
      "metadata": {
        "colab": {
          "base_uri": "https://localhost:8080/"
        },
        "execution": {
          "iopub.execute_input": "2023-12-26T16:56:45.704136Z",
          "iopub.status.busy": "2023-12-26T16:56:45.703763Z",
          "iopub.status.idle": "2023-12-26T16:56:45.756889Z",
          "shell.execute_reply": "2023-12-26T16:56:45.756020Z",
          "shell.execute_reply.started": "2023-12-26T16:56:45.704105Z"
        },
        "id": "sPveYO9SazlM",
        "outputId": "20b9ab91-eacc-4c40-9d44-168d4586e599",
        "trusted": true
      },
      "outputs": [
        {
          "name": "stdout",
          "output_type": "stream",
          "text": [
            "CPU times: user 29.7 ms, sys: 0 ns, total: 29.7 ms\n",
            "Wall time: 29.2 ms\n"
          ]
        }
      ],
      "source": [
        "%%time\n",
        "\n",
        "automl = TabularNLPAutoML(\n",
        "    task=Task('multiclass', metric=f1_weighted),\n",
        "    timeout=TIMEOUT,\n",
        "    cpu_limit=N_THREADS,\n",
        "    gpu_ids = GPU_IDS,\n",
        "    memory_limit=45, # 45 GB\n",
        "    text_params={'lang': 'en'}\n",
        "\n",
        ")"
      ]
    },
    {
      "cell_type": "code",
      "execution_count": null,
      "metadata": {
        "colab": {
          "base_uri": "https://localhost:8080/",
          "height": 1000,
          "referenced_widgets": [
            "0f05e70f5ba341e087889f57bdb079f6",
            "d89dc18c19de488e9285d877ced39b33",
            "db78fbe0c1f34bd89e56c628c4585aae",
            "e4636c91e3334867ae3930ee7070c180",
            "130613dafbc64012a5675316856ddfff",
            "ce711b62cf4643c3a46766cd8eff7d53",
            "8f75fa8c520d470e9966fb31199112b1",
            "51d393464d824217b764257ed5485be2",
            "021d38da45ca4297845734e3f0dc71b4",
            "ae1f5e7f7df9401c988cfdca7e40118f",
            "6d52e112cf46499593df537ffd824628",
            "938c89ec9d494f2bb67afc8ac36a3b0c",
            "2d05e598a50846f098330b1dfceabce8",
            "103d4696cadf4ec08cff517b727e1862",
            "35a296abcb584e5a9f3ce688fcfc2308",
            "9109947a9f2947fda2205240c3bdd56a",
            "bf1f7069eb0c40b3bc4255cc5de22674",
            "fde40e01a4bf411ca83bb54d16331769",
            "b4c7cda384764dcab8110e042f9c6068",
            "8a3954812d3e4889ab64bc8caf213ad2",
            "3121898ced784d12ad6bb86dbbae6d32",
            "fc0a8f7b61914be5bb7154dac9048ac5",
            "1bb0fcec8a54413e9493da931d4f3640",
            "1a4480f004664ba5965262aa03a8c594",
            "04d69f033703413f89c8dcc6f0577f9e",
            "15320c0f551b438c956c0bce208a613d",
            "5aef2896ec354a96b0cf702adde7ce05",
            "af1e945bb8f24aaa8d44162cfa44354e",
            "960c7547297c40a9993bffc9f4646da7",
            "94db6278e7814bbc9e9eb50a3d3d36f8",
            "0ff74a3474c24a3da5c1ee5504b55a61",
            "bec46be6339e4db3a7b5f714fb3cfa41",
            "4594121596fa4dcc928618d6feffaf1d",
            "b99f10ff542b4f11a565a38ee6e9bbf2",
            "cca4ded44ad34199a88a6a7165a52b87",
            "b929f3d73a814dc29fe556d2859402a9",
            "ecd33d06a40044f4a70c08379de4609c",
            "5a65ddc097d24028aac705fb12f739bb",
            "aca9bbedbd1e461fa031635895e45cdf",
            "0bbfa15649364ee981afa0403c17a442",
            "bb4181c9799b4f4a978848e60ec21e93",
            "ce33fb6ede1e472c92d2c19a99bfcf82",
            "0af4c95763ba4a879889fc783965afc5",
            "463c96174b4f430799a74baf057e8f0a",
            "854c499c096c43a1a166ac3dcac0fbea",
            "9e4f3d3921ba4aefa2ba97c3d743ebcb",
            "082a0119e9aa44549c73a58777efa623",
            "74199281beb8439b9513266289eb21b5",
            "7be4f86ddbdc4c51bd9ae231fc5e0ae7",
            "9279307c80324362a592ec0015d4c017",
            "9a9cce5a929444e4a3683bca91e949ba",
            "f1f938bfc9124994ab8a6204179397da",
            "a8e355689ef24ee4b6d35e95b4f48df0",
            "b9cc48d994884728865ffb64fe187a3b",
            "640d415e3a30462f95974430280a0fec"
          ]
        },
        "execution": {
          "iopub.execute_input": "2023-12-26T17:15:50.606614Z",
          "iopub.status.busy": "2023-12-26T17:15:50.606245Z",
          "iopub.status.idle": "2023-12-26T17:15:50.685354Z",
          "shell.execute_reply": "2023-12-26T17:15:50.684480Z",
          "shell.execute_reply.started": "2023-12-26T17:15:50.606585Z"
        },
        "id": "Ji4Z4EiHazlb",
        "outputId": "70114ae6-e78c-4da2-e3fc-09b67307c3b5",
        "trusted": true
      },
      "outputs": [
        {
          "name": "stdout",
          "output_type": "stream",
          "text": [
            "[14:42:56] Stdout logging level is DEBUG.\n"
          ]
        },
        {
          "name": "stderr",
          "output_type": "stream",
          "text": [
            "INFO:lightautoml.automl.presets.base:Stdout logging level is DEBUG.\n"
          ]
        },
        {
          "name": "stdout",
          "output_type": "stream",
          "text": [
            "[14:42:56] Model language mode: en\n"
          ]
        },
        {
          "name": "stderr",
          "output_type": "stream",
          "text": [
            "INFO3:lightautoml.automl.presets.text_presets:Model language mode: en\n"
          ]
        },
        {
          "name": "stdout",
          "output_type": "stream",
          "text": [
            "[14:42:56] Task: multiclass\n",
            "\n"
          ]
        },
        {
          "name": "stderr",
          "output_type": "stream",
          "text": [
            "INFO:lightautoml.automl.presets.base:Task: multiclass\n",
            "\n"
          ]
        },
        {
          "name": "stdout",
          "output_type": "stream",
          "text": [
            "[14:42:56] Start automl preset with listed constraints:\n"
          ]
        },
        {
          "name": "stderr",
          "output_type": "stream",
          "text": [
            "INFO:lightautoml.automl.presets.base:Start automl preset with listed constraints:\n"
          ]
        },
        {
          "name": "stdout",
          "output_type": "stream",
          "text": [
            "[14:42:56] - time: 200.00 seconds\n"
          ]
        },
        {
          "name": "stderr",
          "output_type": "stream",
          "text": [
            "INFO:lightautoml.automl.presets.base:- time: 200.00 seconds\n"
          ]
        },
        {
          "name": "stdout",
          "output_type": "stream",
          "text": [
            "[14:42:56] - CPU: 8 cores\n"
          ]
        },
        {
          "name": "stderr",
          "output_type": "stream",
          "text": [
            "INFO:lightautoml.automl.presets.base:- CPU: 8 cores\n"
          ]
        },
        {
          "name": "stdout",
          "output_type": "stream",
          "text": [
            "[14:42:56] - memory: 45 GB\n",
            "\n"
          ]
        },
        {
          "name": "stderr",
          "output_type": "stream",
          "text": [
            "INFO:lightautoml.automl.presets.base:- memory: 45 GB\n",
            "\n"
          ]
        },
        {
          "name": "stdout",
          "output_type": "stream",
          "text": [
            "[14:42:56] \u001b[1mTrain data shape: (120000, 3)\u001b[0m\n",
            "\n"
          ]
        },
        {
          "name": "stderr",
          "output_type": "stream",
          "text": [
            "INFO:lightautoml.reader.base:\u001b[1mTrain data shape: (120000, 3)\u001b[0m\n",
            "\n"
          ]
        },
        {
          "name": "stdout",
          "output_type": "stream",
          "text": [
            "[14:42:57] Feats was rejected during automatic roles guess: []\n"
          ]
        },
        {
          "name": "stderr",
          "output_type": "stream",
          "text": [
            "INFO3:lightautoml.reader.base:Feats was rejected during automatic roles guess: []\n"
          ]
        },
        {
          "name": "stdout",
          "output_type": "stream",
          "text": [
            "[14:42:57] Layer \u001b[1m1\u001b[0m train process start. Time left 198.52 secs\n"
          ]
        },
        {
          "name": "stderr",
          "output_type": "stream",
          "text": [
            "INFO:lightautoml.automl.base:Layer \u001b[1m1\u001b[0m train process start. Time left 198.52 secs\n"
          ]
        },
        {
          "name": "stdout",
          "output_type": "stream",
          "text": [
            "[14:43:49] Start fitting \u001b[1mLvl_0_Pipe_0_Mod_0_LinearL2\u001b[0m ...\n"
          ]
        },
        {
          "name": "stderr",
          "output_type": "stream",
          "text": [
            "INFO:lightautoml.ml_algo.base:Start fitting \u001b[1mLvl_0_Pipe_0_Mod_0_LinearL2\u001b[0m ...\n"
          ]
        },
        {
          "name": "stdout",
          "output_type": "stream",
          "text": [
            "[14:43:49] Training params: {'tol': 1e-06, 'max_iter': 100, 'cs': [1e-05, 5e-05, 0.0001, 0.0005, 0.001, 0.005, 0.01, 0.05, 0.1, 0.5, 1, 5, 10, 50, 100, 500, 1000, 5000, 10000, 50000, 100000], 'early_stopping': 2, 'categorical_idx': [], 'embed_sizes': (), 'data_size': 101}\n"
          ]
        },
        {
          "name": "stderr",
          "output_type": "stream",
          "text": [
            "DEBUG:lightautoml.ml_algo.base:Training params: {'tol': 1e-06, 'max_iter': 100, 'cs': [1e-05, 5e-05, 0.0001, 0.0005, 0.001, 0.005, 0.01, 0.05, 0.1, 0.5, 1, 5, 10, 50, 100, 500, 1000, 5000, 10000, 50000, 100000], 'early_stopping': 2, 'categorical_idx': [], 'embed_sizes': (), 'data_size': 101}\n"
          ]
        },
        {
          "name": "stdout",
          "output_type": "stream",
          "text": [
            "[14:43:49] ===== Start working with \u001b[1mfold 0\u001b[0m for \u001b[1mLvl_0_Pipe_0_Mod_0_LinearL2\u001b[0m =====\n"
          ]
        },
        {
          "name": "stderr",
          "output_type": "stream",
          "text": [
            "INFO2:lightautoml.ml_algo.base:===== Start working with \u001b[1mfold 0\u001b[0m for \u001b[1mLvl_0_Pipe_0_Mod_0_LinearL2\u001b[0m =====\n"
          ]
        },
        {
          "name": "stdout",
          "output_type": "stream",
          "text": [
            "[14:43:49] Linear model: C = 1e-05 score = 0.180219427554501\n"
          ]
        },
        {
          "name": "stderr",
          "output_type": "stream",
          "text": [
            "INFO3:lightautoml.ml_algo.torch_based.linear_model:Linear model: C = 1e-05 score = 0.180219427554501\n"
          ]
        },
        {
          "name": "stdout",
          "output_type": "stream",
          "text": [
            "[14:43:49] Linear model: C = 5e-05 score = 0.180219427554501\n"
          ]
        },
        {
          "name": "stderr",
          "output_type": "stream",
          "text": [
            "INFO3:lightautoml.ml_algo.torch_based.linear_model:Linear model: C = 5e-05 score = 0.180219427554501\n"
          ]
        },
        {
          "name": "stdout",
          "output_type": "stream",
          "text": [
            "[14:43:50] Linear model: C = 0.0001 score = 0.180219427554501\n"
          ]
        },
        {
          "name": "stderr",
          "output_type": "stream",
          "text": [
            "INFO3:lightautoml.ml_algo.torch_based.linear_model:Linear model: C = 0.0001 score = 0.180219427554501\n"
          ]
        },
        {
          "name": "stdout",
          "output_type": "stream",
          "text": [
            "[14:43:51] ===== Start working with \u001b[1mfold 1\u001b[0m for \u001b[1mLvl_0_Pipe_0_Mod_0_LinearL2\u001b[0m =====\n"
          ]
        },
        {
          "name": "stderr",
          "output_type": "stream",
          "text": [
            "INFO2:lightautoml.ml_algo.base:===== Start working with \u001b[1mfold 1\u001b[0m for \u001b[1mLvl_0_Pipe_0_Mod_0_LinearL2\u001b[0m =====\n"
          ]
        },
        {
          "name": "stdout",
          "output_type": "stream",
          "text": [
            "[14:43:52] Linear model: C = 1e-05 score = 0.180219427554501\n"
          ]
        },
        {
          "name": "stderr",
          "output_type": "stream",
          "text": [
            "INFO3:lightautoml.ml_algo.torch_based.linear_model:Linear model: C = 1e-05 score = 0.180219427554501\n"
          ]
        },
        {
          "name": "stdout",
          "output_type": "stream",
          "text": [
            "[14:43:52] Linear model: C = 5e-05 score = 0.180219427554501\n"
          ]
        },
        {
          "name": "stderr",
          "output_type": "stream",
          "text": [
            "INFO3:lightautoml.ml_algo.torch_based.linear_model:Linear model: C = 5e-05 score = 0.180219427554501\n"
          ]
        },
        {
          "name": "stdout",
          "output_type": "stream",
          "text": [
            "[14:43:52] Linear model: C = 0.0001 score = 0.180219427554501\n"
          ]
        },
        {
          "name": "stderr",
          "output_type": "stream",
          "text": [
            "INFO3:lightautoml.ml_algo.torch_based.linear_model:Linear model: C = 0.0001 score = 0.180219427554501\n"
          ]
        },
        {
          "name": "stdout",
          "output_type": "stream",
          "text": [
            "[14:43:52] ===== Start working with \u001b[1mfold 2\u001b[0m for \u001b[1mLvl_0_Pipe_0_Mod_0_LinearL2\u001b[0m =====\n"
          ]
        },
        {
          "name": "stderr",
          "output_type": "stream",
          "text": [
            "INFO2:lightautoml.ml_algo.base:===== Start working with \u001b[1mfold 2\u001b[0m for \u001b[1mLvl_0_Pipe_0_Mod_0_LinearL2\u001b[0m =====\n"
          ]
        },
        {
          "name": "stdout",
          "output_type": "stream",
          "text": [
            "[14:43:53] Linear model: C = 1e-05 score = 0.180219427554501\n"
          ]
        },
        {
          "name": "stderr",
          "output_type": "stream",
          "text": [
            "INFO3:lightautoml.ml_algo.torch_based.linear_model:Linear model: C = 1e-05 score = 0.180219427554501\n"
          ]
        },
        {
          "name": "stdout",
          "output_type": "stream",
          "text": [
            "[14:43:53] Linear model: C = 5e-05 score = 0.180219427554501\n"
          ]
        },
        {
          "name": "stderr",
          "output_type": "stream",
          "text": [
            "INFO3:lightautoml.ml_algo.torch_based.linear_model:Linear model: C = 5e-05 score = 0.180219427554501\n"
          ]
        },
        {
          "name": "stdout",
          "output_type": "stream",
          "text": [
            "[14:43:53] Linear model: C = 0.0001 score = 0.180219427554501\n"
          ]
        },
        {
          "name": "stderr",
          "output_type": "stream",
          "text": [
            "INFO3:lightautoml.ml_algo.torch_based.linear_model:Linear model: C = 0.0001 score = 0.180219427554501\n"
          ]
        },
        {
          "name": "stdout",
          "output_type": "stream",
          "text": [
            "[14:43:53] Fitting \u001b[1mLvl_0_Pipe_0_Mod_0_LinearL2\u001b[0m finished. score = \u001b[1m0.180219427554501\u001b[0m\n"
          ]
        },
        {
          "name": "stderr",
          "output_type": "stream",
          "text": [
            "INFO:lightautoml.ml_algo.base:Fitting \u001b[1mLvl_0_Pipe_0_Mod_0_LinearL2\u001b[0m finished. score = \u001b[1m0.180219427554501\u001b[0m\n"
          ]
        },
        {
          "name": "stdout",
          "output_type": "stream",
          "text": [
            "[14:43:53] \u001b[1mLvl_0_Pipe_0_Mod_0_LinearL2\u001b[0m fitting and predicting completed\n"
          ]
        },
        {
          "name": "stderr",
          "output_type": "stream",
          "text": [
            "INFO:lightautoml.ml_algo.base:\u001b[1mLvl_0_Pipe_0_Mod_0_LinearL2\u001b[0m fitting and predicting completed\n"
          ]
        },
        {
          "name": "stdout",
          "output_type": "stream",
          "text": [
            "[14:43:53] Time left 142.52 secs\n",
            "\n"
          ]
        },
        {
          "name": "stderr",
          "output_type": "stream",
          "text": [
            "INFO:lightautoml.automl.base:Time left 142.52 secs\n",
            "\n"
          ]
        },
        {
          "data": {
            "application/vnd.jupyter.widget-view+json": {
              "model_id": "0f05e70f5ba341e087889f57bdb079f6",
              "version_major": 2,
              "version_minor": 0
            },
            "text/plain": [
              "config.json:   0%|          | 0.00/570 [00:00<?, ?B/s]"
            ]
          },
          "metadata": {},
          "output_type": "display_data"
        },
        {
          "data": {
            "application/vnd.jupyter.widget-view+json": {
              "model_id": "938c89ec9d494f2bb67afc8ac36a3b0c",
              "version_major": 2,
              "version_minor": 0
            },
            "text/plain": [
              "model.safetensors:   0%|          | 0.00/436M [00:00<?, ?B/s]"
            ]
          },
          "metadata": {},
          "output_type": "display_data"
        },
        {
          "name": "stdout",
          "output_type": "stream",
          "text": [
            "[14:44:05] Feature concated__review_text fitted\n"
          ]
        },
        {
          "name": "stderr",
          "output_type": "stream",
          "text": [
            "INFO3:lightautoml.transformers.text:Feature concated__review_text fitted\n"
          ]
        },
        {
          "data": {
            "application/vnd.jupyter.widget-view+json": {
              "model_id": "1bb0fcec8a54413e9493da931d4f3640",
              "version_major": 2,
              "version_minor": 0
            },
            "text/plain": [
              "tokenizer_config.json:   0%|          | 0.00/29.0 [00:00<?, ?B/s]"
            ]
          },
          "metadata": {},
          "output_type": "display_data"
        },
        {
          "data": {
            "application/vnd.jupyter.widget-view+json": {
              "model_id": "b99f10ff542b4f11a565a38ee6e9bbf2",
              "version_major": 2,
              "version_minor": 0
            },
            "text/plain": [
              "vocab.txt:   0%|          | 0.00/213k [00:00<?, ?B/s]"
            ]
          },
          "metadata": {},
          "output_type": "display_data"
        },
        {
          "data": {
            "application/vnd.jupyter.widget-view+json": {
              "model_id": "854c499c096c43a1a166ac3dcac0fbea",
              "version_major": 2,
              "version_minor": 0
            },
            "text/plain": [
              "tokenizer.json:   0%|          | 0.00/436k [00:00<?, ?B/s]"
            ]
          },
          "metadata": {},
          "output_type": "display_data"
        },
        {
          "name": "stderr",
          "output_type": "stream",
          "text": [
            "100%|██████████| 375/375 [28:24<00:00,  4.55s/it]\n"
          ]
        },
        {
          "name": "stdout",
          "output_type": "stream",
          "text": [
            "[15:12:48] Feature concated__review_text transformed\n"
          ]
        },
        {
          "name": "stderr",
          "output_type": "stream",
          "text": [
            "INFO3:lightautoml.transformers.text:Feature concated__review_text transformed\n"
          ]
        },
        {
          "name": "stdout",
          "output_type": "stream",
          "text": [
            "[15:12:49] Start fitting \u001b[1mLvl_0_Pipe_1_Mod_0_CatBoost\u001b[0m ...\n"
          ]
        },
        {
          "name": "stderr",
          "output_type": "stream",
          "text": [
            "INFO:lightautoml.ml_algo.base:Start fitting \u001b[1mLvl_0_Pipe_1_Mod_0_CatBoost\u001b[0m ...\n"
          ]
        },
        {
          "name": "stdout",
          "output_type": "stream",
          "text": [
            "[15:12:49] Training params: {'task_type': 'GPU', 'thread_count': 8, 'random_seed': 42, 'num_trees': 4000, 'learning_rate': 0.03, 'l2_leaf_reg': 0.01, 'bootstrap_type': 'Bernoulli', 'grow_policy': 'SymmetricTree', 'max_depth': 5, 'min_data_in_leaf': 1, 'one_hot_max_size': 10, 'fold_permutation_block': 1, 'boosting_type': 'Plain', 'boost_from_average': True, 'od_type': 'Iter', 'od_wait': 100, 'max_bin': 32, 'feature_border_type': 'GreedyLogSum', 'nan_mode': 'Min', 'verbose': 100, 'allow_writing_files': False, 'devices': '0'}\n"
          ]
        },
        {
          "name": "stderr",
          "output_type": "stream",
          "text": [
            "DEBUG:lightautoml.ml_algo.base:Training params: {'task_type': 'GPU', 'thread_count': 8, 'random_seed': 42, 'num_trees': 4000, 'learning_rate': 0.03, 'l2_leaf_reg': 0.01, 'bootstrap_type': 'Bernoulli', 'grow_policy': 'SymmetricTree', 'max_depth': 5, 'min_data_in_leaf': 1, 'one_hot_max_size': 10, 'fold_permutation_block': 1, 'boosting_type': 'Plain', 'boost_from_average': True, 'od_type': 'Iter', 'od_wait': 100, 'max_bin': 32, 'feature_border_type': 'GreedyLogSum', 'nan_mode': 'Min', 'verbose': 100, 'allow_writing_files': False, 'devices': '0'}\n"
          ]
        },
        {
          "name": "stdout",
          "output_type": "stream",
          "text": [
            "[15:12:50] ===== Start working with \u001b[1mfold 0\u001b[0m for \u001b[1mLvl_0_Pipe_1_Mod_0_CatBoost\u001b[0m =====\n"
          ]
        },
        {
          "name": "stderr",
          "output_type": "stream",
          "text": [
            "INFO2:lightautoml.ml_algo.base:===== Start working with \u001b[1mfold 0\u001b[0m for \u001b[1mLvl_0_Pipe_1_Mod_0_CatBoost\u001b[0m =====\n"
          ]
        },
        {
          "name": "stdout",
          "output_type": "stream",
          "text": [
            "[15:12:52] 0:\tlearn: 1.7678629\ttest: 1.7680699\tbest: 1.7680699 (0)\ttotal: 24.5ms\tremaining: 1m 37s\n"
          ]
        },
        {
          "name": "stderr",
          "output_type": "stream",
          "text": [
            "INFO3:lightautoml.ml_algo.boost_cb:0:\tlearn: 1.7678629\ttest: 1.7680699\tbest: 1.7680699 (0)\ttotal: 24.5ms\tremaining: 1m 37s\n"
          ]
        },
        {
          "name": "stdout",
          "output_type": "stream",
          "text": [
            "[15:12:53] 100:\tlearn: 1.2934769\ttest: 1.3023300\tbest: 1.3023300 (100)\ttotal: 1.28s\tremaining: 49.6s\n"
          ]
        },
        {
          "name": "stderr",
          "output_type": "stream",
          "text": [
            "DEBUG:lightautoml.ml_algo.boost_cb:100:\tlearn: 1.2934769\ttest: 1.3023300\tbest: 1.3023300 (100)\ttotal: 1.28s\tremaining: 49.6s\n"
          ]
        },
        {
          "name": "stdout",
          "output_type": "stream",
          "text": [
            "[15:12:54] 200:\tlearn: 1.2354536\ttest: 1.2522022\tbest: 1.2522022 (200)\ttotal: 2.42s\tremaining: 45.8s\n"
          ]
        },
        {
          "name": "stderr",
          "output_type": "stream",
          "text": [
            "DEBUG:lightautoml.ml_algo.boost_cb:200:\tlearn: 1.2354536\ttest: 1.2522022\tbest: 1.2522022 (200)\ttotal: 2.42s\tremaining: 45.8s\n"
          ]
        },
        {
          "name": "stdout",
          "output_type": "stream",
          "text": [
            "[15:12:56] 300:\tlearn: 1.2061588\ttest: 1.2303752\tbest: 1.2303752 (300)\ttotal: 3.55s\tremaining: 43.6s\n"
          ]
        },
        {
          "name": "stderr",
          "output_type": "stream",
          "text": [
            "DEBUG:lightautoml.ml_algo.boost_cb:300:\tlearn: 1.2061588\ttest: 1.2303752\tbest: 1.2303752 (300)\ttotal: 3.55s\tremaining: 43.6s\n"
          ]
        },
        {
          "name": "stdout",
          "output_type": "stream",
          "text": [
            "[15:12:57] 400:\tlearn: 1.1867239\ttest: 1.2184055\tbest: 1.2184055 (400)\ttotal: 4.67s\tremaining: 41.9s\n"
          ]
        },
        {
          "name": "stderr",
          "output_type": "stream",
          "text": [
            "DEBUG:lightautoml.ml_algo.boost_cb:400:\tlearn: 1.1867239\ttest: 1.2184055\tbest: 1.2184055 (400)\ttotal: 4.67s\tremaining: 41.9s\n"
          ]
        },
        {
          "name": "stdout",
          "output_type": "stream",
          "text": [
            "[15:12:58] 500:\tlearn: 1.1714483\ttest: 1.2107138\tbest: 1.2107138 (500)\ttotal: 5.78s\tremaining: 40.3s\n"
          ]
        },
        {
          "name": "stderr",
          "output_type": "stream",
          "text": [
            "DEBUG:lightautoml.ml_algo.boost_cb:500:\tlearn: 1.1714483\ttest: 1.2107138\tbest: 1.2107138 (500)\ttotal: 5.78s\tremaining: 40.3s\n"
          ]
        },
        {
          "name": "stdout",
          "output_type": "stream",
          "text": [
            "[15:12:59] 600:\tlearn: 1.1581546\ttest: 1.2051073\tbest: 1.2051073 (600)\ttotal: 6.87s\tremaining: 38.9s\n"
          ]
        },
        {
          "name": "stderr",
          "output_type": "stream",
          "text": [
            "DEBUG:lightautoml.ml_algo.boost_cb:600:\tlearn: 1.1581546\ttest: 1.2051073\tbest: 1.2051073 (600)\ttotal: 6.87s\tremaining: 38.9s\n"
          ]
        },
        {
          "name": "stdout",
          "output_type": "stream",
          "text": [
            "[15:13:00] 700:\tlearn: 1.1462511\ttest: 1.2007967\tbest: 1.2007967 (700)\ttotal: 7.94s\tremaining: 37.4s\n"
          ]
        },
        {
          "name": "stderr",
          "output_type": "stream",
          "text": [
            "DEBUG:lightautoml.ml_algo.boost_cb:700:\tlearn: 1.1462511\ttest: 1.2007967\tbest: 1.2007967 (700)\ttotal: 7.94s\tremaining: 37.4s\n"
          ]
        },
        {
          "name": "stdout",
          "output_type": "stream",
          "text": [
            "[15:13:01] 800:\tlearn: 1.1353971\ttest: 1.1971985\tbest: 1.1971985 (800)\ttotal: 9.03s\tremaining: 36.1s\n"
          ]
        },
        {
          "name": "stderr",
          "output_type": "stream",
          "text": [
            "DEBUG:lightautoml.ml_algo.boost_cb:800:\tlearn: 1.1353971\ttest: 1.1971985\tbest: 1.1971985 (800)\ttotal: 9.03s\tremaining: 36.1s\n"
          ]
        },
        {
          "name": "stdout",
          "output_type": "stream",
          "text": [
            "[15:13:02] 900:\tlearn: 1.1251347\ttest: 1.1941869\tbest: 1.1941869 (900)\ttotal: 10.1s\tremaining: 34.8s\n"
          ]
        },
        {
          "name": "stderr",
          "output_type": "stream",
          "text": [
            "DEBUG:lightautoml.ml_algo.boost_cb:900:\tlearn: 1.1251347\ttest: 1.1941869\tbest: 1.1941869 (900)\ttotal: 10.1s\tremaining: 34.8s\n"
          ]
        },
        {
          "name": "stdout",
          "output_type": "stream",
          "text": [
            "[15:13:03] 1000:\tlearn: 1.1151739\ttest: 1.1913300\tbest: 1.1913300 (1000)\ttotal: 11.2s\tremaining: 33.6s\n"
          ]
        },
        {
          "name": "stderr",
          "output_type": "stream",
          "text": [
            "DEBUG:lightautoml.ml_algo.boost_cb:1000:\tlearn: 1.1151739\ttest: 1.1913300\tbest: 1.1913300 (1000)\ttotal: 11.2s\tremaining: 33.6s\n"
          ]
        },
        {
          "name": "stdout",
          "output_type": "stream",
          "text": [
            "[15:13:04] 1100:\tlearn: 1.1056533\ttest: 1.1889706\tbest: 1.1889706 (1100)\ttotal: 12.3s\tremaining: 32.3s\n"
          ]
        },
        {
          "name": "stderr",
          "output_type": "stream",
          "text": [
            "DEBUG:lightautoml.ml_algo.boost_cb:1100:\tlearn: 1.1056533\ttest: 1.1889706\tbest: 1.1889706 (1100)\ttotal: 12.3s\tremaining: 32.3s\n"
          ]
        },
        {
          "name": "stdout",
          "output_type": "stream",
          "text": [
            "[15:13:05] 1200:\tlearn: 1.0965120\ttest: 1.1870412\tbest: 1.1870412 (1200)\ttotal: 13.4s\tremaining: 31.1s\n"
          ]
        },
        {
          "name": "stderr",
          "output_type": "stream",
          "text": [
            "DEBUG:lightautoml.ml_algo.boost_cb:1200:\tlearn: 1.0965120\ttest: 1.1870412\tbest: 1.1870412 (1200)\ttotal: 13.4s\tremaining: 31.1s\n"
          ]
        },
        {
          "name": "stdout",
          "output_type": "stream",
          "text": [
            "[15:13:06] 1300:\tlearn: 1.0877137\ttest: 1.1852255\tbest: 1.1852255 (1300)\ttotal: 14.4s\tremaining: 29.9s\n"
          ]
        },
        {
          "name": "stderr",
          "output_type": "stream",
          "text": [
            "DEBUG:lightautoml.ml_algo.boost_cb:1300:\tlearn: 1.0877137\ttest: 1.1852255\tbest: 1.1852255 (1300)\ttotal: 14.4s\tremaining: 29.9s\n"
          ]
        },
        {
          "name": "stdout",
          "output_type": "stream",
          "text": [
            "[15:13:08] 1400:\tlearn: 1.0791360\ttest: 1.1836729\tbest: 1.1836729 (1400)\ttotal: 15.5s\tremaining: 28.7s\n"
          ]
        },
        {
          "name": "stderr",
          "output_type": "stream",
          "text": [
            "DEBUG:lightautoml.ml_algo.boost_cb:1400:\tlearn: 1.0791360\ttest: 1.1836729\tbest: 1.1836729 (1400)\ttotal: 15.5s\tremaining: 28.7s\n"
          ]
        },
        {
          "name": "stdout",
          "output_type": "stream",
          "text": [
            "[15:13:09] 1500:\tlearn: 1.0707956\ttest: 1.1820434\tbest: 1.1820409 (1499)\ttotal: 16.6s\tremaining: 27.6s\n"
          ]
        },
        {
          "name": "stderr",
          "output_type": "stream",
          "text": [
            "DEBUG:lightautoml.ml_algo.boost_cb:1500:\tlearn: 1.0707956\ttest: 1.1820434\tbest: 1.1820409 (1499)\ttotal: 16.6s\tremaining: 27.6s\n"
          ]
        },
        {
          "name": "stdout",
          "output_type": "stream",
          "text": [
            "[15:13:10] 1600:\tlearn: 1.0624873\ttest: 1.1806164\tbest: 1.1806164 (1600)\ttotal: 17.7s\tremaining: 26.5s\n"
          ]
        },
        {
          "name": "stderr",
          "output_type": "stream",
          "text": [
            "DEBUG:lightautoml.ml_algo.boost_cb:1600:\tlearn: 1.0624873\ttest: 1.1806164\tbest: 1.1806164 (1600)\ttotal: 17.7s\tremaining: 26.5s\n"
          ]
        },
        {
          "name": "stdout",
          "output_type": "stream",
          "text": [
            "[15:13:11] 1700:\tlearn: 1.0542430\ttest: 1.1793011\tbest: 1.1793011 (1700)\ttotal: 18.7s\tremaining: 25.3s\n"
          ]
        },
        {
          "name": "stderr",
          "output_type": "stream",
          "text": [
            "DEBUG:lightautoml.ml_algo.boost_cb:1700:\tlearn: 1.0542430\ttest: 1.1793011\tbest: 1.1793011 (1700)\ttotal: 18.7s\tremaining: 25.3s\n"
          ]
        },
        {
          "name": "stdout",
          "output_type": "stream",
          "text": [
            "[15:13:12] 1800:\tlearn: 1.0462732\ttest: 1.1779672\tbest: 1.1779633 (1799)\ttotal: 19.8s\tremaining: 24.2s\n"
          ]
        },
        {
          "name": "stderr",
          "output_type": "stream",
          "text": [
            "DEBUG:lightautoml.ml_algo.boost_cb:1800:\tlearn: 1.0462732\ttest: 1.1779672\tbest: 1.1779633 (1799)\ttotal: 19.8s\tremaining: 24.2s\n"
          ]
        },
        {
          "name": "stdout",
          "output_type": "stream",
          "text": [
            "[15:13:13] 1900:\tlearn: 1.0384783\ttest: 1.1769184\tbest: 1.1769183 (1899)\ttotal: 20.9s\tremaining: 23s\n"
          ]
        },
        {
          "name": "stderr",
          "output_type": "stream",
          "text": [
            "DEBUG:lightautoml.ml_algo.boost_cb:1900:\tlearn: 1.0384783\ttest: 1.1769184\tbest: 1.1769183 (1899)\ttotal: 20.9s\tremaining: 23s\n"
          ]
        },
        {
          "name": "stdout",
          "output_type": "stream",
          "text": [
            "[15:13:14] 2000:\tlearn: 1.0307198\ttest: 1.1758482\tbest: 1.1758482 (2000)\ttotal: 21.9s\tremaining: 21.9s\n"
          ]
        },
        {
          "name": "stderr",
          "output_type": "stream",
          "text": [
            "DEBUG:lightautoml.ml_algo.boost_cb:2000:\tlearn: 1.0307198\ttest: 1.1758482\tbest: 1.1758482 (2000)\ttotal: 21.9s\tremaining: 21.9s\n"
          ]
        },
        {
          "name": "stdout",
          "output_type": "stream",
          "text": [
            "[15:13:15] 2100:\tlearn: 1.0231741\ttest: 1.1750482\tbest: 1.1750482 (2100)\ttotal: 23s\tremaining: 20.8s\n"
          ]
        },
        {
          "name": "stderr",
          "output_type": "stream",
          "text": [
            "DEBUG:lightautoml.ml_algo.boost_cb:2100:\tlearn: 1.0231741\ttest: 1.1750482\tbest: 1.1750482 (2100)\ttotal: 23s\tremaining: 20.8s\n"
          ]
        },
        {
          "name": "stdout",
          "output_type": "stream",
          "text": [
            "[15:13:16] 2200:\tlearn: 1.0157171\ttest: 1.1741161\tbest: 1.1741161 (2200)\ttotal: 24.1s\tremaining: 19.7s\n"
          ]
        },
        {
          "name": "stderr",
          "output_type": "stream",
          "text": [
            "DEBUG:lightautoml.ml_algo.boost_cb:2200:\tlearn: 1.0157171\ttest: 1.1741161\tbest: 1.1741161 (2200)\ttotal: 24.1s\tremaining: 19.7s\n"
          ]
        },
        {
          "name": "stdout",
          "output_type": "stream",
          "text": [
            "[15:13:17] 2300:\tlearn: 1.0084985\ttest: 1.1732201\tbest: 1.1732201 (2300)\ttotal: 25.1s\tremaining: 18.6s\n"
          ]
        },
        {
          "name": "stderr",
          "output_type": "stream",
          "text": [
            "DEBUG:lightautoml.ml_algo.boost_cb:2300:\tlearn: 1.0084985\ttest: 1.1732201\tbest: 1.1732201 (2300)\ttotal: 25.1s\tremaining: 18.6s\n"
          ]
        },
        {
          "name": "stdout",
          "output_type": "stream",
          "text": [
            "[15:13:18] 2400:\tlearn: 1.0013194\ttest: 1.1723124\tbest: 1.1723124 (2400)\ttotal: 26.2s\tremaining: 17.4s\n"
          ]
        },
        {
          "name": "stderr",
          "output_type": "stream",
          "text": [
            "DEBUG:lightautoml.ml_algo.boost_cb:2400:\tlearn: 1.0013194\ttest: 1.1723124\tbest: 1.1723124 (2400)\ttotal: 26.2s\tremaining: 17.4s\n"
          ]
        },
        {
          "name": "stdout",
          "output_type": "stream",
          "text": [
            "[15:13:19] 2500:\tlearn: 0.9942974\ttest: 1.1714894\tbest: 1.1714894 (2500)\ttotal: 27.3s\tremaining: 16.4s\n"
          ]
        },
        {
          "name": "stderr",
          "output_type": "stream",
          "text": [
            "DEBUG:lightautoml.ml_algo.boost_cb:2500:\tlearn: 0.9942974\ttest: 1.1714894\tbest: 1.1714894 (2500)\ttotal: 27.3s\tremaining: 16.4s\n"
          ]
        },
        {
          "name": "stdout",
          "output_type": "stream",
          "text": [
            "[15:13:20] 2600:\tlearn: 0.9872535\ttest: 1.1707681\tbest: 1.1707681 (2600)\ttotal: 28.4s\tremaining: 15.3s\n"
          ]
        },
        {
          "name": "stderr",
          "output_type": "stream",
          "text": [
            "DEBUG:lightautoml.ml_algo.boost_cb:2600:\tlearn: 0.9872535\ttest: 1.1707681\tbest: 1.1707681 (2600)\ttotal: 28.4s\tremaining: 15.3s\n"
          ]
        },
        {
          "name": "stdout",
          "output_type": "stream",
          "text": [
            "[15:13:22] 2700:\tlearn: 0.9803100\ttest: 1.1701363\tbest: 1.1701363 (2700)\ttotal: 29.5s\tremaining: 14.2s\n"
          ]
        },
        {
          "name": "stderr",
          "output_type": "stream",
          "text": [
            "DEBUG:lightautoml.ml_algo.boost_cb:2700:\tlearn: 0.9803100\ttest: 1.1701363\tbest: 1.1701363 (2700)\ttotal: 29.5s\tremaining: 14.2s\n"
          ]
        },
        {
          "name": "stdout",
          "output_type": "stream",
          "text": [
            "[15:13:23] 2800:\tlearn: 0.9734298\ttest: 1.1695656\tbest: 1.1695656 (2800)\ttotal: 30.5s\tremaining: 13.1s\n"
          ]
        },
        {
          "name": "stderr",
          "output_type": "stream",
          "text": [
            "DEBUG:lightautoml.ml_algo.boost_cb:2800:\tlearn: 0.9734298\ttest: 1.1695656\tbest: 1.1695656 (2800)\ttotal: 30.5s\tremaining: 13.1s\n"
          ]
        },
        {
          "name": "stdout",
          "output_type": "stream",
          "text": [
            "[15:13:24] 2900:\tlearn: 0.9667355\ttest: 1.1689519\tbest: 1.1689519 (2900)\ttotal: 31.6s\tremaining: 12s\n"
          ]
        },
        {
          "name": "stderr",
          "output_type": "stream",
          "text": [
            "DEBUG:lightautoml.ml_algo.boost_cb:2900:\tlearn: 0.9667355\ttest: 1.1689519\tbest: 1.1689519 (2900)\ttotal: 31.6s\tremaining: 12s\n"
          ]
        },
        {
          "name": "stdout",
          "output_type": "stream",
          "text": [
            "[15:13:25] 3000:\tlearn: 0.9599970\ttest: 1.1684245\tbest: 1.1684245 (3000)\ttotal: 32.7s\tremaining: 10.9s\n"
          ]
        },
        {
          "name": "stderr",
          "output_type": "stream",
          "text": [
            "DEBUG:lightautoml.ml_algo.boost_cb:3000:\tlearn: 0.9599970\ttest: 1.1684245\tbest: 1.1684245 (3000)\ttotal: 32.7s\tremaining: 10.9s\n"
          ]
        },
        {
          "name": "stdout",
          "output_type": "stream",
          "text": [
            "[15:13:26] 3100:\tlearn: 0.9532979\ttest: 1.1679386\tbest: 1.1679386 (3100)\ttotal: 33.8s\tremaining: 9.8s\n"
          ]
        },
        {
          "name": "stderr",
          "output_type": "stream",
          "text": [
            "DEBUG:lightautoml.ml_algo.boost_cb:3100:\tlearn: 0.9532979\ttest: 1.1679386\tbest: 1.1679386 (3100)\ttotal: 33.8s\tremaining: 9.8s\n"
          ]
        },
        {
          "name": "stdout",
          "output_type": "stream",
          "text": [
            "[15:13:27] 3200:\tlearn: 0.9467872\ttest: 1.1673938\tbest: 1.1673938 (3200)\ttotal: 34.9s\tremaining: 8.71s\n"
          ]
        },
        {
          "name": "stderr",
          "output_type": "stream",
          "text": [
            "DEBUG:lightautoml.ml_algo.boost_cb:3200:\tlearn: 0.9467872\ttest: 1.1673938\tbest: 1.1673938 (3200)\ttotal: 34.9s\tremaining: 8.71s\n"
          ]
        },
        {
          "name": "stdout",
          "output_type": "stream",
          "text": [
            "[15:13:28] 3300:\tlearn: 0.9401509\ttest: 1.1669726\tbest: 1.1669595 (3292)\ttotal: 36s\tremaining: 7.62s\n"
          ]
        },
        {
          "name": "stderr",
          "output_type": "stream",
          "text": [
            "DEBUG:lightautoml.ml_algo.boost_cb:3300:\tlearn: 0.9401509\ttest: 1.1669726\tbest: 1.1669595 (3292)\ttotal: 36s\tremaining: 7.62s\n"
          ]
        },
        {
          "name": "stdout",
          "output_type": "stream",
          "text": [
            "[15:13:29] 3400:\tlearn: 0.9336406\ttest: 1.1664531\tbest: 1.1664531 (3400)\ttotal: 37.1s\tremaining: 6.53s\n"
          ]
        },
        {
          "name": "stderr",
          "output_type": "stream",
          "text": [
            "DEBUG:lightautoml.ml_algo.boost_cb:3400:\tlearn: 0.9336406\ttest: 1.1664531\tbest: 1.1664531 (3400)\ttotal: 37.1s\tremaining: 6.53s\n"
          ]
        },
        {
          "name": "stdout",
          "output_type": "stream",
          "text": [
            "[15:13:30] 3500:\tlearn: 0.9273119\ttest: 1.1660744\tbest: 1.1660744 (3500)\ttotal: 38.2s\tremaining: 5.44s\n"
          ]
        },
        {
          "name": "stderr",
          "output_type": "stream",
          "text": [
            "DEBUG:lightautoml.ml_algo.boost_cb:3500:\tlearn: 0.9273119\ttest: 1.1660744\tbest: 1.1660744 (3500)\ttotal: 38.2s\tremaining: 5.44s\n"
          ]
        },
        {
          "name": "stdout",
          "output_type": "stream",
          "text": [
            "[15:13:31] 3600:\tlearn: 0.9210709\ttest: 1.1656370\tbest: 1.1656334 (3599)\ttotal: 39.3s\tremaining: 4.35s\n"
          ]
        },
        {
          "name": "stderr",
          "output_type": "stream",
          "text": [
            "DEBUG:lightautoml.ml_algo.boost_cb:3600:\tlearn: 0.9210709\ttest: 1.1656370\tbest: 1.1656334 (3599)\ttotal: 39.3s\tremaining: 4.35s\n"
          ]
        },
        {
          "name": "stdout",
          "output_type": "stream",
          "text": [
            "[15:13:32] 3700:\tlearn: 0.9148550\ttest: 1.1651337\tbest: 1.1651310 (3699)\ttotal: 40.3s\tremaining: 3.26s\n"
          ]
        },
        {
          "name": "stderr",
          "output_type": "stream",
          "text": [
            "DEBUG:lightautoml.ml_algo.boost_cb:3700:\tlearn: 0.9148550\ttest: 1.1651337\tbest: 1.1651310 (3699)\ttotal: 40.3s\tremaining: 3.26s\n"
          ]
        },
        {
          "name": "stdout",
          "output_type": "stream",
          "text": [
            "[15:13:34] 3800:\tlearn: 0.9087444\ttest: 1.1646960\tbest: 1.1646960 (3800)\ttotal: 41.4s\tremaining: 2.17s\n"
          ]
        },
        {
          "name": "stderr",
          "output_type": "stream",
          "text": [
            "DEBUG:lightautoml.ml_algo.boost_cb:3800:\tlearn: 0.9087444\ttest: 1.1646960\tbest: 1.1646960 (3800)\ttotal: 41.4s\tremaining: 2.17s\n"
          ]
        },
        {
          "name": "stdout",
          "output_type": "stream",
          "text": [
            "[15:13:35] 3900:\tlearn: 0.9026343\ttest: 1.1644247\tbest: 1.1644246 (3898)\ttotal: 42.5s\tremaining: 1.08s\n"
          ]
        },
        {
          "name": "stderr",
          "output_type": "stream",
          "text": [
            "DEBUG:lightautoml.ml_algo.boost_cb:3900:\tlearn: 0.9026343\ttest: 1.1644247\tbest: 1.1644246 (3898)\ttotal: 42.5s\tremaining: 1.08s\n"
          ]
        },
        {
          "name": "stdout",
          "output_type": "stream",
          "text": [
            "[15:13:36] 3999:\tlearn: 0.8966476\ttest: 1.1641029\tbest: 1.1640915 (3985)\ttotal: 43.5s\tremaining: 0us\n"
          ]
        },
        {
          "name": "stderr",
          "output_type": "stream",
          "text": [
            "DEBUG:lightautoml.ml_algo.boost_cb:3999:\tlearn: 0.8966476\ttest: 1.1641029\tbest: 1.1640915 (3985)\ttotal: 43.5s\tremaining: 0us\n"
          ]
        },
        {
          "name": "stdout",
          "output_type": "stream",
          "text": [
            "[15:13:36] bestTest = 1.164091504\n"
          ]
        },
        {
          "name": "stderr",
          "output_type": "stream",
          "text": [
            "INFO3:lightautoml.ml_algo.boost_cb:bestTest = 1.164091504\n"
          ]
        },
        {
          "name": "stdout",
          "output_type": "stream",
          "text": [
            "[15:13:36] bestIteration = 3985\n"
          ]
        },
        {
          "name": "stderr",
          "output_type": "stream",
          "text": [
            "INFO3:lightautoml.ml_algo.boost_cb:bestIteration = 3985\n"
          ]
        },
        {
          "name": "stdout",
          "output_type": "stream",
          "text": [
            "[15:13:36] Shrink model to first 3986 iterations.\n"
          ]
        },
        {
          "name": "stderr",
          "output_type": "stream",
          "text": [
            "INFO3:lightautoml.ml_algo.boost_cb:Shrink model to first 3986 iterations.\n"
          ]
        },
        {
          "name": "stdout",
          "output_type": "stream",
          "text": [
            "[15:13:36] Time limit exceeded after calculating fold 0\n",
            "\n"
          ]
        },
        {
          "name": "stderr",
          "output_type": "stream",
          "text": [
            "INFO:lightautoml.ml_algo.base:Time limit exceeded after calculating fold 0\n",
            "\n"
          ]
        },
        {
          "name": "stdout",
          "output_type": "stream",
          "text": [
            "[15:13:36] Fitting \u001b[1mLvl_0_Pipe_1_Mod_0_CatBoost\u001b[0m finished. score = \u001b[1m0.4840714542497537\u001b[0m\n"
          ]
        },
        {
          "name": "stderr",
          "output_type": "stream",
          "text": [
            "INFO:lightautoml.ml_algo.base:Fitting \u001b[1mLvl_0_Pipe_1_Mod_0_CatBoost\u001b[0m finished. score = \u001b[1m0.4840714542497537\u001b[0m\n"
          ]
        },
        {
          "name": "stdout",
          "output_type": "stream",
          "text": [
            "[15:13:36] \u001b[1mLvl_0_Pipe_1_Mod_0_CatBoost\u001b[0m fitting and predicting completed\n"
          ]
        },
        {
          "name": "stderr",
          "output_type": "stream",
          "text": [
            "INFO:lightautoml.ml_algo.base:\u001b[1mLvl_0_Pipe_1_Mod_0_CatBoost\u001b[0m fitting and predicting completed\n"
          ]
        },
        {
          "name": "stdout",
          "output_type": "stream",
          "text": [
            "[15:13:36] Time left -1640.68 secs\n",
            "\n"
          ]
        },
        {
          "name": "stderr",
          "output_type": "stream",
          "text": [
            "INFO:lightautoml.automl.base:Time left -1640.68 secs\n",
            "\n"
          ]
        },
        {
          "name": "stdout",
          "output_type": "stream",
          "text": [
            "[15:13:36] Time limit exceeded. Last level models will be blended and unused pipelines will be pruned.\n",
            "\n"
          ]
        },
        {
          "name": "stderr",
          "output_type": "stream",
          "text": [
            "INFO:lightautoml.automl.base:Time limit exceeded. Last level models will be blended and unused pipelines will be pruned.\n",
            "\n"
          ]
        },
        {
          "name": "stdout",
          "output_type": "stream",
          "text": [
            "[15:13:36] \u001b[1mLayer 1 training completed.\u001b[0m\n",
            "\n"
          ]
        },
        {
          "name": "stderr",
          "output_type": "stream",
          "text": [
            "INFO:lightautoml.automl.base:\u001b[1mLayer 1 training completed.\u001b[0m\n",
            "\n"
          ]
        },
        {
          "name": "stdout",
          "output_type": "stream",
          "text": [
            "[15:13:36] Blending: optimization starts with equal weights and score \u001b[1m0.3044932442092449\u001b[0m\n"
          ]
        },
        {
          "name": "stderr",
          "output_type": "stream",
          "text": [
            "INFO:lightautoml.automl.blend:Blending: optimization starts with equal weights and score \u001b[1m0.3044932442092449\u001b[0m\n"
          ]
        },
        {
          "name": "stdout",
          "output_type": "stream",
          "text": [
            "[15:13:37] Blending: iteration \u001b[1m0\u001b[0m: score = \u001b[1m0.4840714542497537\u001b[0m, weights = \u001b[1m[0. 1.]\u001b[0m\n"
          ]
        },
        {
          "name": "stderr",
          "output_type": "stream",
          "text": [
            "INFO:lightautoml.automl.blend:Blending: iteration \u001b[1m0\u001b[0m: score = \u001b[1m0.4840714542497537\u001b[0m, weights = \u001b[1m[0. 1.]\u001b[0m\n"
          ]
        },
        {
          "name": "stdout",
          "output_type": "stream",
          "text": [
            "[15:13:37] Blending: iteration \u001b[1m1\u001b[0m: score = \u001b[1m0.4840714542497537\u001b[0m, weights = \u001b[1m[0. 1.]\u001b[0m\n"
          ]
        },
        {
          "name": "stderr",
          "output_type": "stream",
          "text": [
            "INFO:lightautoml.automl.blend:Blending: iteration \u001b[1m1\u001b[0m: score = \u001b[1m0.4840714542497537\u001b[0m, weights = \u001b[1m[0. 1.]\u001b[0m\n"
          ]
        },
        {
          "name": "stdout",
          "output_type": "stream",
          "text": [
            "[15:13:37] Blending: no score update. Terminated\n",
            "\n"
          ]
        },
        {
          "name": "stderr",
          "output_type": "stream",
          "text": [
            "INFO:lightautoml.automl.blend:Blending: no score update. Terminated\n",
            "\n"
          ]
        },
        {
          "name": "stdout",
          "output_type": "stream",
          "text": [
            "[15:13:37] \u001b[1mAutoml preset training completed in 1841.55 seconds\u001b[0m\n",
            "\n"
          ]
        },
        {
          "name": "stderr",
          "output_type": "stream",
          "text": [
            "INFO:lightautoml.automl.presets.base:\u001b[1mAutoml preset training completed in 1841.55 seconds\u001b[0m\n",
            "\n"
          ]
        },
        {
          "name": "stdout",
          "output_type": "stream",
          "text": [
            "[15:13:37] Model description:\n",
            "Final prediction for new objects (level 0) = \n",
            "\t 1.00000 * (1 averaged models Lvl_0_Pipe_1_Mod_0_CatBoost) \n",
            "\n"
          ]
        },
        {
          "name": "stderr",
          "output_type": "stream",
          "text": [
            "INFO:lightautoml.automl.presets.base:Model description:\n",
            "Final prediction for new objects (level 0) = \n",
            "\t 1.00000 * (1 averaged models Lvl_0_Pipe_1_Mod_0_CatBoost) \n",
            "\n"
          ]
        },
        {
          "name": "stdout",
          "output_type": "stream",
          "text": [
            "CPU times: user 33min 42s, sys: 49.7 s, total: 34min 31s\n",
            "Wall time: 30min 41s\n"
          ]
        },
        {
          "data": {
            "text/plain": [
              "array([[0.00163104, 0.00161634, 0.02808766, 0.38148236, 0.49234873,\n",
              "        0.09483386],\n",
              "       [       nan,        nan,        nan,        nan,        nan,\n",
              "               nan],\n",
              "       [0.01409889, 0.00136617, 0.01333405, 0.10299289, 0.4531605 ,\n",
              "        0.4150475 ],\n",
              "       ...,\n",
              "       [       nan,        nan,        nan,        nan,        nan,\n",
              "               nan],\n",
              "       [       nan,        nan,        nan,        nan,        nan,\n",
              "               nan],\n",
              "       [       nan,        nan,        nan,        nan,        nan,\n",
              "               nan]], dtype=float32)"
            ]
          },
          "execution_count": 33,
          "metadata": {},
          "output_type": "execute_result"
        }
      ],
      "source": [
        "%%time\n",
        "\n",
        "roles = {'target': [TARGET_NAME], 'text' : ['review_text']}\n",
        "automl.fit_predict(train_data, roles = roles, verbose=100)"
      ]
    },
    {
      "cell_type": "code",
      "execution_count": null,
      "metadata": {
        "colab": {
          "base_uri": "https://localhost:8080/"
        },
        "id": "_FXkDZzsCbRV",
        "outputId": "88f178e6-198e-46ec-de16-2bb6b8c312a5"
      },
      "outputs": [
        {
          "name": "stderr",
          "output_type": "stream",
          "text": [
            "100%|██████████| 94/94 [07:05<00:00,  4.53s/it]\n"
          ]
        },
        {
          "name": "stdout",
          "output_type": "stream",
          "text": [
            "[15:21:06] Feature concated__review_text transformed\n"
          ]
        },
        {
          "name": "stderr",
          "output_type": "stream",
          "text": [
            "INFO3:lightautoml.transformers.text:Feature concated__review_text transformed\n"
          ]
        },
        {
          "name": "stdout",
          "output_type": "stream",
          "text": [
            "f1_score is 0.4869919948968139\n"
          ]
        }
      ],
      "source": [
        "predictions = automl.predict(X_test)\n",
        "print(f\"f1_score is {f1_weighted(y_test['rating'], predictions.data)}\")"
      ]
    },
    {
      "cell_type": "markdown",
      "metadata": {
        "id": "Om9yyuFRbgId"
      },
      "source": [
        "Получили очень хороший f1_score (~ топ-169) за ~ 40 минут"
      ]
    },
    {
      "cell_type": "markdown",
      "metadata": {
        "id": "-dZSGXo7cyfD"
      },
      "source": [
        "2. Рассмотрим вариант с выбором модели агрегации эмбеддингов (рассмотрим BOREP и LSTM).\n",
        "\n",
        "В отличие от первого варианта, функционирующем на основе использования предобученных моделей, BOREP и RandomLSTM выполняются быстрее."
      ]
    },
    {
      "cell_type": "code",
      "execution_count": null,
      "metadata": {
        "colab": {
          "base_uri": "https://localhost:8080/"
        },
        "id": "ZbVRC2wXsapa",
        "outputId": "44fbc5f6-9b9e-4b9b-d7bb-e3895ca39d93"
      },
      "outputs": [
        {
          "name": "stdout",
          "output_type": "stream",
          "text": [
            "CPU times: user 32.1 ms, sys: 1.62 ms, total: 33.7 ms\n",
            "Wall time: 33.1 ms\n"
          ]
        }
      ],
      "source": [
        "%%time\n",
        "\n",
        "automl = TabularNLPAutoML(\n",
        "    task=Task('multiclass', metric=f1_weighted),\n",
        "    timeout=TIMEOUT,\n",
        "    cpu_limit=N_THREADS,\n",
        "    gpu_ids = GPU_IDS,\n",
        "    memory_limit=45, # 45 GB\n",
        "    autonlp_params = {\n",
        "        'model_name' : 'borep'\n",
        "    },\n",
        "    text_params={'lang': 'en'}\n",
        ")"
      ]
    },
    {
      "cell_type": "code",
      "execution_count": null,
      "metadata": {
        "colab": {
          "base_uri": "https://localhost:8080/"
        },
        "id": "0CezACeHshYo",
        "outputId": "992f1e18-44af-45cc-d6a0-7ab7f9e97ec9"
      },
      "outputs": [
        {
          "name": "stdout",
          "output_type": "stream",
          "text": [
            "[14:38:29] Stdout logging level is DEBUG.\n"
          ]
        },
        {
          "name": "stderr",
          "output_type": "stream",
          "text": [
            "INFO:lightautoml.automl.presets.base:Stdout logging level is DEBUG.\n"
          ]
        },
        {
          "name": "stdout",
          "output_type": "stream",
          "text": [
            "[14:38:29] Model language mode: en\n"
          ]
        },
        {
          "name": "stderr",
          "output_type": "stream",
          "text": [
            "INFO3:lightautoml.automl.presets.text_presets:Model language mode: en\n"
          ]
        },
        {
          "name": "stdout",
          "output_type": "stream",
          "text": [
            "[14:38:29] Task: multiclass\n",
            "\n"
          ]
        },
        {
          "name": "stderr",
          "output_type": "stream",
          "text": [
            "INFO:lightautoml.automl.presets.base:Task: multiclass\n",
            "\n"
          ]
        },
        {
          "name": "stdout",
          "output_type": "stream",
          "text": [
            "[14:38:29] Start automl preset with listed constraints:\n"
          ]
        },
        {
          "name": "stderr",
          "output_type": "stream",
          "text": [
            "INFO:lightautoml.automl.presets.base:Start automl preset with listed constraints:\n"
          ]
        },
        {
          "name": "stdout",
          "output_type": "stream",
          "text": [
            "[14:38:29] - time: 200.00 seconds\n"
          ]
        },
        {
          "name": "stderr",
          "output_type": "stream",
          "text": [
            "INFO:lightautoml.automl.presets.base:- time: 200.00 seconds\n"
          ]
        },
        {
          "name": "stdout",
          "output_type": "stream",
          "text": [
            "[14:38:29] - CPU: 8 cores\n"
          ]
        },
        {
          "name": "stderr",
          "output_type": "stream",
          "text": [
            "INFO:lightautoml.automl.presets.base:- CPU: 8 cores\n"
          ]
        },
        {
          "name": "stdout",
          "output_type": "stream",
          "text": [
            "[14:38:29] - memory: 45 GB\n",
            "\n"
          ]
        },
        {
          "name": "stderr",
          "output_type": "stream",
          "text": [
            "INFO:lightautoml.automl.presets.base:- memory: 45 GB\n",
            "\n"
          ]
        },
        {
          "name": "stdout",
          "output_type": "stream",
          "text": [
            "[14:38:29] \u001b[1mTrain data shape: (120000, 3)\u001b[0m\n",
            "\n"
          ]
        },
        {
          "name": "stderr",
          "output_type": "stream",
          "text": [
            "INFO:lightautoml.reader.base:\u001b[1mTrain data shape: (120000, 3)\u001b[0m\n",
            "\n"
          ]
        },
        {
          "name": "stdout",
          "output_type": "stream",
          "text": [
            "[14:38:30] Feats was rejected during automatic roles guess: []\n"
          ]
        },
        {
          "name": "stderr",
          "output_type": "stream",
          "text": [
            "INFO3:lightautoml.reader.base:Feats was rejected during automatic roles guess: []\n"
          ]
        },
        {
          "name": "stdout",
          "output_type": "stream",
          "text": [
            "[14:38:30] Layer \u001b[1m1\u001b[0m train process start. Time left 198.50 secs\n"
          ]
        },
        {
          "name": "stderr",
          "output_type": "stream",
          "text": [
            "INFO:lightautoml.automl.base:Layer \u001b[1m1\u001b[0m train process start. Time left 198.50 secs\n"
          ]
        },
        {
          "name": "stdout",
          "output_type": "stream",
          "text": [
            "[14:39:22] Start fitting \u001b[1mLvl_0_Pipe_0_Mod_0_LinearL2\u001b[0m ...\n"
          ]
        },
        {
          "name": "stderr",
          "output_type": "stream",
          "text": [
            "INFO:lightautoml.ml_algo.base:Start fitting \u001b[1mLvl_0_Pipe_0_Mod_0_LinearL2\u001b[0m ...\n"
          ]
        },
        {
          "name": "stdout",
          "output_type": "stream",
          "text": [
            "[14:39:22] Training params: {'tol': 1e-06, 'max_iter': 100, 'cs': [1e-05, 5e-05, 0.0001, 0.0005, 0.001, 0.005, 0.01, 0.05, 0.1, 0.5, 1, 5, 10, 50, 100, 500, 1000, 5000, 10000, 50000, 100000], 'early_stopping': 2, 'categorical_idx': [], 'embed_sizes': (), 'data_size': 101}\n"
          ]
        },
        {
          "name": "stderr",
          "output_type": "stream",
          "text": [
            "DEBUG:lightautoml.ml_algo.base:Training params: {'tol': 1e-06, 'max_iter': 100, 'cs': [1e-05, 5e-05, 0.0001, 0.0005, 0.001, 0.005, 0.01, 0.05, 0.1, 0.5, 1, 5, 10, 50, 100, 500, 1000, 5000, 10000, 50000, 100000], 'early_stopping': 2, 'categorical_idx': [], 'embed_sizes': (), 'data_size': 101}\n"
          ]
        },
        {
          "name": "stdout",
          "output_type": "stream",
          "text": [
            "[14:39:22] ===== Start working with \u001b[1mfold 0\u001b[0m for \u001b[1mLvl_0_Pipe_0_Mod_0_LinearL2\u001b[0m =====\n"
          ]
        },
        {
          "name": "stderr",
          "output_type": "stream",
          "text": [
            "INFO2:lightautoml.ml_algo.base:===== Start working with \u001b[1mfold 0\u001b[0m for \u001b[1mLvl_0_Pipe_0_Mod_0_LinearL2\u001b[0m =====\n"
          ]
        },
        {
          "name": "stdout",
          "output_type": "stream",
          "text": [
            "[14:39:23] Linear model: C = 1e-05 score = 0.180219427554501\n"
          ]
        },
        {
          "name": "stderr",
          "output_type": "stream",
          "text": [
            "INFO3:lightautoml.ml_algo.torch_based.linear_model:Linear model: C = 1e-05 score = 0.180219427554501\n"
          ]
        },
        {
          "name": "stdout",
          "output_type": "stream",
          "text": [
            "[14:39:23] Linear model: C = 5e-05 score = 0.180219427554501\n"
          ]
        },
        {
          "name": "stderr",
          "output_type": "stream",
          "text": [
            "INFO3:lightautoml.ml_algo.torch_based.linear_model:Linear model: C = 5e-05 score = 0.180219427554501\n"
          ]
        },
        {
          "name": "stdout",
          "output_type": "stream",
          "text": [
            "[14:39:23] Linear model: C = 0.0001 score = 0.180219427554501\n"
          ]
        },
        {
          "name": "stderr",
          "output_type": "stream",
          "text": [
            "INFO3:lightautoml.ml_algo.torch_based.linear_model:Linear model: C = 0.0001 score = 0.180219427554501\n"
          ]
        },
        {
          "name": "stdout",
          "output_type": "stream",
          "text": [
            "[14:39:23] ===== Start working with \u001b[1mfold 1\u001b[0m for \u001b[1mLvl_0_Pipe_0_Mod_0_LinearL2\u001b[0m =====\n"
          ]
        },
        {
          "name": "stderr",
          "output_type": "stream",
          "text": [
            "INFO2:lightautoml.ml_algo.base:===== Start working with \u001b[1mfold 1\u001b[0m for \u001b[1mLvl_0_Pipe_0_Mod_0_LinearL2\u001b[0m =====\n"
          ]
        },
        {
          "name": "stdout",
          "output_type": "stream",
          "text": [
            "[14:39:23] Linear model: C = 1e-05 score = 0.180219427554501\n"
          ]
        },
        {
          "name": "stderr",
          "output_type": "stream",
          "text": [
            "INFO3:lightautoml.ml_algo.torch_based.linear_model:Linear model: C = 1e-05 score = 0.180219427554501\n"
          ]
        },
        {
          "name": "stdout",
          "output_type": "stream",
          "text": [
            "[14:39:24] Linear model: C = 5e-05 score = 0.180219427554501\n"
          ]
        },
        {
          "name": "stderr",
          "output_type": "stream",
          "text": [
            "INFO3:lightautoml.ml_algo.torch_based.linear_model:Linear model: C = 5e-05 score = 0.180219427554501\n"
          ]
        },
        {
          "name": "stdout",
          "output_type": "stream",
          "text": [
            "[14:39:24] Linear model: C = 0.0001 score = 0.180219427554501\n"
          ]
        },
        {
          "name": "stderr",
          "output_type": "stream",
          "text": [
            "INFO3:lightautoml.ml_algo.torch_based.linear_model:Linear model: C = 0.0001 score = 0.180219427554501\n"
          ]
        },
        {
          "name": "stdout",
          "output_type": "stream",
          "text": [
            "[14:39:24] ===== Start working with \u001b[1mfold 2\u001b[0m for \u001b[1mLvl_0_Pipe_0_Mod_0_LinearL2\u001b[0m =====\n"
          ]
        },
        {
          "name": "stderr",
          "output_type": "stream",
          "text": [
            "INFO2:lightautoml.ml_algo.base:===== Start working with \u001b[1mfold 2\u001b[0m for \u001b[1mLvl_0_Pipe_0_Mod_0_LinearL2\u001b[0m =====\n"
          ]
        },
        {
          "name": "stdout",
          "output_type": "stream",
          "text": [
            "[14:39:24] Linear model: C = 1e-05 score = 0.180219427554501\n"
          ]
        },
        {
          "name": "stderr",
          "output_type": "stream",
          "text": [
            "INFO3:lightautoml.ml_algo.torch_based.linear_model:Linear model: C = 1e-05 score = 0.180219427554501\n"
          ]
        },
        {
          "name": "stdout",
          "output_type": "stream",
          "text": [
            "[14:39:24] Linear model: C = 5e-05 score = 0.180219427554501\n"
          ]
        },
        {
          "name": "stderr",
          "output_type": "stream",
          "text": [
            "INFO3:lightautoml.ml_algo.torch_based.linear_model:Linear model: C = 5e-05 score = 0.180219427554501\n"
          ]
        },
        {
          "name": "stdout",
          "output_type": "stream",
          "text": [
            "[14:39:24] Linear model: C = 0.0001 score = 0.180219427554501\n"
          ]
        },
        {
          "name": "stderr",
          "output_type": "stream",
          "text": [
            "INFO3:lightautoml.ml_algo.torch_based.linear_model:Linear model: C = 0.0001 score = 0.180219427554501\n"
          ]
        },
        {
          "name": "stdout",
          "output_type": "stream",
          "text": [
            "[14:39:25] Fitting \u001b[1mLvl_0_Pipe_0_Mod_0_LinearL2\u001b[0m finished. score = \u001b[1m0.180219427554501\u001b[0m\n"
          ]
        },
        {
          "name": "stderr",
          "output_type": "stream",
          "text": [
            "INFO:lightautoml.ml_algo.base:Fitting \u001b[1mLvl_0_Pipe_0_Mod_0_LinearL2\u001b[0m finished. score = \u001b[1m0.180219427554501\u001b[0m\n"
          ]
        },
        {
          "name": "stdout",
          "output_type": "stream",
          "text": [
            "[14:39:25] \u001b[1mLvl_0_Pipe_0_Mod_0_LinearL2\u001b[0m fitting and predicting completed\n"
          ]
        },
        {
          "name": "stderr",
          "output_type": "stream",
          "text": [
            "INFO:lightautoml.ml_algo.base:\u001b[1mLvl_0_Pipe_0_Mod_0_LinearL2\u001b[0m fitting and predicting completed\n"
          ]
        },
        {
          "name": "stdout",
          "output_type": "stream",
          "text": [
            "[14:39:25] Time left 144.28 secs\n",
            "\n"
          ]
        },
        {
          "name": "stderr",
          "output_type": "stream",
          "text": [
            "INFO:lightautoml.automl.base:Time left 144.28 secs\n",
            "\n"
          ]
        },
        {
          "name": "stdout",
          "output_type": "stream",
          "text": [
            "[14:41:37] Feature concated__review_text fitted\n"
          ]
        },
        {
          "name": "stderr",
          "output_type": "stream",
          "text": [
            "INFO3:lightautoml.transformers.text:Feature concated__review_text fitted\n",
            "100%|██████████| 118/118 [00:23<00:00,  5.00it/s]\n"
          ]
        },
        {
          "name": "stdout",
          "output_type": "stream",
          "text": [
            "[14:42:02] Feature concated__review_text transformed\n"
          ]
        },
        {
          "name": "stderr",
          "output_type": "stream",
          "text": [
            "INFO3:lightautoml.transformers.text:Feature concated__review_text transformed\n"
          ]
        },
        {
          "name": "stdout",
          "output_type": "stream",
          "text": [
            "[14:42:02] Start fitting \u001b[1mLvl_0_Pipe_1_Mod_0_CatBoost\u001b[0m ...\n"
          ]
        },
        {
          "name": "stderr",
          "output_type": "stream",
          "text": [
            "INFO:lightautoml.ml_algo.base:Start fitting \u001b[1mLvl_0_Pipe_1_Mod_0_CatBoost\u001b[0m ...\n"
          ]
        },
        {
          "name": "stdout",
          "output_type": "stream",
          "text": [
            "[14:42:02] Training params: {'task_type': 'GPU', 'thread_count': 8, 'random_seed': 42, 'num_trees': 4000, 'learning_rate': 0.03, 'l2_leaf_reg': 0.01, 'bootstrap_type': 'Bernoulli', 'grow_policy': 'SymmetricTree', 'max_depth': 5, 'min_data_in_leaf': 1, 'one_hot_max_size': 10, 'fold_permutation_block': 1, 'boosting_type': 'Plain', 'boost_from_average': True, 'od_type': 'Iter', 'od_wait': 100, 'max_bin': 32, 'feature_border_type': 'GreedyLogSum', 'nan_mode': 'Min', 'verbose': 100, 'allow_writing_files': False, 'devices': '0'}\n"
          ]
        },
        {
          "name": "stderr",
          "output_type": "stream",
          "text": [
            "DEBUG:lightautoml.ml_algo.base:Training params: {'task_type': 'GPU', 'thread_count': 8, 'random_seed': 42, 'num_trees': 4000, 'learning_rate': 0.03, 'l2_leaf_reg': 0.01, 'bootstrap_type': 'Bernoulli', 'grow_policy': 'SymmetricTree', 'max_depth': 5, 'min_data_in_leaf': 1, 'one_hot_max_size': 10, 'fold_permutation_block': 1, 'boosting_type': 'Plain', 'boost_from_average': True, 'od_type': 'Iter', 'od_wait': 100, 'max_bin': 32, 'feature_border_type': 'GreedyLogSum', 'nan_mode': 'Min', 'verbose': 100, 'allow_writing_files': False, 'devices': '0'}\n"
          ]
        },
        {
          "name": "stdout",
          "output_type": "stream",
          "text": [
            "[14:42:03] ===== Start working with \u001b[1mfold 0\u001b[0m for \u001b[1mLvl_0_Pipe_1_Mod_0_CatBoost\u001b[0m =====\n"
          ]
        },
        {
          "name": "stderr",
          "output_type": "stream",
          "text": [
            "INFO2:lightautoml.ml_algo.base:===== Start working with \u001b[1mfold 0\u001b[0m for \u001b[1mLvl_0_Pipe_1_Mod_0_CatBoost\u001b[0m =====\n"
          ]
        },
        {
          "name": "stdout",
          "output_type": "stream",
          "text": [
            "[14:42:04] 0:\tlearn: 1.7738852\ttest: 1.7739885\tbest: 1.7739885 (0)\ttotal: 14.3ms\tremaining: 57.2s\n"
          ]
        },
        {
          "name": "stderr",
          "output_type": "stream",
          "text": [
            "INFO3:lightautoml.ml_algo.boost_cb:0:\tlearn: 1.7738852\ttest: 1.7739885\tbest: 1.7739885 (0)\ttotal: 14.3ms\tremaining: 57.2s\n"
          ]
        },
        {
          "name": "stdout",
          "output_type": "stream",
          "text": [
            "[14:42:04] 100:\tlearn: 1.4552121\ttest: 1.4627374\tbest: 1.4627374 (100)\ttotal: 747ms\tremaining: 28.8s\n"
          ]
        },
        {
          "name": "stderr",
          "output_type": "stream",
          "text": [
            "DEBUG:lightautoml.ml_algo.boost_cb:100:\tlearn: 1.4552121\ttest: 1.4627374\tbest: 1.4627374 (100)\ttotal: 747ms\tremaining: 28.8s\n"
          ]
        },
        {
          "name": "stdout",
          "output_type": "stream",
          "text": [
            "[14:42:05] 200:\tlearn: 1.4418655\ttest: 1.4561994\tbest: 1.4561994 (200)\ttotal: 1.35s\tremaining: 25.4s\n"
          ]
        },
        {
          "name": "stderr",
          "output_type": "stream",
          "text": [
            "DEBUG:lightautoml.ml_algo.boost_cb:200:\tlearn: 1.4418655\ttest: 1.4561994\tbest: 1.4561994 (200)\ttotal: 1.35s\tremaining: 25.4s\n"
          ]
        },
        {
          "name": "stdout",
          "output_type": "stream",
          "text": [
            "[14:42:06] 300:\tlearn: 1.4327143\ttest: 1.4538107\tbest: 1.4538107 (300)\ttotal: 1.94s\tremaining: 23.9s\n"
          ]
        },
        {
          "name": "stderr",
          "output_type": "stream",
          "text": [
            "DEBUG:lightautoml.ml_algo.boost_cb:300:\tlearn: 1.4327143\ttest: 1.4538107\tbest: 1.4538107 (300)\ttotal: 1.94s\tremaining: 23.9s\n"
          ]
        },
        {
          "name": "stdout",
          "output_type": "stream",
          "text": [
            "[14:42:06] 400:\tlearn: 1.4247216\ttest: 1.4523364\tbest: 1.4523364 (400)\ttotal: 2.55s\tremaining: 22.9s\n"
          ]
        },
        {
          "name": "stderr",
          "output_type": "stream",
          "text": [
            "DEBUG:lightautoml.ml_algo.boost_cb:400:\tlearn: 1.4247216\ttest: 1.4523364\tbest: 1.4523364 (400)\ttotal: 2.55s\tremaining: 22.9s\n"
          ]
        },
        {
          "name": "stdout",
          "output_type": "stream",
          "text": [
            "[14:42:07] 500:\tlearn: 1.4174505\ttest: 1.4513016\tbest: 1.4513016 (500)\ttotal: 3.16s\tremaining: 22.1s\n"
          ]
        },
        {
          "name": "stderr",
          "output_type": "stream",
          "text": [
            "DEBUG:lightautoml.ml_algo.boost_cb:500:\tlearn: 1.4174505\ttest: 1.4513016\tbest: 1.4513016 (500)\ttotal: 3.16s\tremaining: 22.1s\n"
          ]
        },
        {
          "name": "stdout",
          "output_type": "stream",
          "text": [
            "[14:42:07] 600:\tlearn: 1.4102491\ttest: 1.4504433\tbest: 1.4504243 (599)\ttotal: 3.77s\tremaining: 21.3s\n"
          ]
        },
        {
          "name": "stderr",
          "output_type": "stream",
          "text": [
            "DEBUG:lightautoml.ml_algo.boost_cb:600:\tlearn: 1.4102491\ttest: 1.4504433\tbest: 1.4504243 (599)\ttotal: 3.77s\tremaining: 21.3s\n"
          ]
        },
        {
          "name": "stdout",
          "output_type": "stream",
          "text": [
            "[14:42:08] 700:\tlearn: 1.4035752\ttest: 1.4499449\tbest: 1.4499357 (699)\ttotal: 4.38s\tremaining: 20.6s\n"
          ]
        },
        {
          "name": "stderr",
          "output_type": "stream",
          "text": [
            "DEBUG:lightautoml.ml_algo.boost_cb:700:\tlearn: 1.4035752\ttest: 1.4499449\tbest: 1.4499357 (699)\ttotal: 4.38s\tremaining: 20.6s\n"
          ]
        },
        {
          "name": "stdout",
          "output_type": "stream",
          "text": [
            "[14:42:09] 800:\tlearn: 1.3970715\ttest: 1.4494274\tbest: 1.4494274 (800)\ttotal: 4.99s\tremaining: 19.9s\n"
          ]
        },
        {
          "name": "stderr",
          "output_type": "stream",
          "text": [
            "DEBUG:lightautoml.ml_algo.boost_cb:800:\tlearn: 1.3970715\ttest: 1.4494274\tbest: 1.4494274 (800)\ttotal: 4.99s\tremaining: 19.9s\n"
          ]
        },
        {
          "name": "stdout",
          "output_type": "stream",
          "text": [
            "[14:42:09] 900:\tlearn: 1.3908629\ttest: 1.4490555\tbest: 1.4490555 (900)\ttotal: 5.59s\tremaining: 19.2s\n"
          ]
        },
        {
          "name": "stderr",
          "output_type": "stream",
          "text": [
            "DEBUG:lightautoml.ml_algo.boost_cb:900:\tlearn: 1.3908629\ttest: 1.4490555\tbest: 1.4490555 (900)\ttotal: 5.59s\tremaining: 19.2s\n"
          ]
        },
        {
          "name": "stdout",
          "output_type": "stream",
          "text": [
            "[14:42:10] 1000:\tlearn: 1.3847385\ttest: 1.4486229\tbest: 1.4486229 (1000)\ttotal: 6.21s\tremaining: 18.6s\n"
          ]
        },
        {
          "name": "stderr",
          "output_type": "stream",
          "text": [
            "DEBUG:lightautoml.ml_algo.boost_cb:1000:\tlearn: 1.3847385\ttest: 1.4486229\tbest: 1.4486229 (1000)\ttotal: 6.21s\tremaining: 18.6s\n"
          ]
        },
        {
          "name": "stdout",
          "output_type": "stream",
          "text": [
            "[14:42:10] 1100:\tlearn: 1.3788463\ttest: 1.4482684\tbest: 1.4482418 (1097)\ttotal: 6.81s\tremaining: 17.9s\n"
          ]
        },
        {
          "name": "stderr",
          "output_type": "stream",
          "text": [
            "DEBUG:lightautoml.ml_algo.boost_cb:1100:\tlearn: 1.3788463\ttest: 1.4482684\tbest: 1.4482418 (1097)\ttotal: 6.81s\tremaining: 17.9s\n"
          ]
        },
        {
          "name": "stdout",
          "output_type": "stream",
          "text": [
            "[14:42:11] 1200:\tlearn: 1.3728771\ttest: 1.4480651\tbest: 1.4480651 (1200)\ttotal: 7.44s\tremaining: 17.3s\n"
          ]
        },
        {
          "name": "stderr",
          "output_type": "stream",
          "text": [
            "DEBUG:lightautoml.ml_algo.boost_cb:1200:\tlearn: 1.3728771\ttest: 1.4480651\tbest: 1.4480651 (1200)\ttotal: 7.44s\tremaining: 17.3s\n"
          ]
        },
        {
          "name": "stdout",
          "output_type": "stream",
          "text": [
            "[14:42:12] 1300:\tlearn: 1.3669714\ttest: 1.4477053\tbest: 1.4476966 (1298)\ttotal: 8.05s\tremaining: 16.7s\n"
          ]
        },
        {
          "name": "stderr",
          "output_type": "stream",
          "text": [
            "DEBUG:lightautoml.ml_algo.boost_cb:1300:\tlearn: 1.3669714\ttest: 1.4477053\tbest: 1.4476966 (1298)\ttotal: 8.05s\tremaining: 16.7s\n"
          ]
        },
        {
          "name": "stdout",
          "output_type": "stream",
          "text": [
            "[14:42:12] 1400:\tlearn: 1.3614521\ttest: 1.4475195\tbest: 1.4475195 (1400)\ttotal: 8.67s\tremaining: 16.1s\n"
          ]
        },
        {
          "name": "stderr",
          "output_type": "stream",
          "text": [
            "DEBUG:lightautoml.ml_algo.boost_cb:1400:\tlearn: 1.3614521\ttest: 1.4475195\tbest: 1.4475195 (1400)\ttotal: 8.67s\tremaining: 16.1s\n"
          ]
        },
        {
          "name": "stdout",
          "output_type": "stream",
          "text": [
            "[14:42:13] 1500:\tlearn: 1.3559041\ttest: 1.4473739\tbest: 1.4473457 (1493)\ttotal: 9.28s\tremaining: 15.5s\n"
          ]
        },
        {
          "name": "stderr",
          "output_type": "stream",
          "text": [
            "DEBUG:lightautoml.ml_algo.boost_cb:1500:\tlearn: 1.3559041\ttest: 1.4473739\tbest: 1.4473457 (1493)\ttotal: 9.28s\tremaining: 15.5s\n"
          ]
        },
        {
          "name": "stdout",
          "output_type": "stream",
          "text": [
            "[14:42:14] 1600:\tlearn: 1.3505116\ttest: 1.4472787\tbest: 1.4472548 (1586)\ttotal: 9.88s\tremaining: 14.8s\n"
          ]
        },
        {
          "name": "stderr",
          "output_type": "stream",
          "text": [
            "DEBUG:lightautoml.ml_algo.boost_cb:1600:\tlearn: 1.3505116\ttest: 1.4472787\tbest: 1.4472548 (1586)\ttotal: 9.88s\tremaining: 14.8s\n"
          ]
        },
        {
          "name": "stdout",
          "output_type": "stream",
          "text": [
            "[14:42:14] 1700:\tlearn: 1.3451813\ttest: 1.4470854\tbest: 1.4470638 (1684)\ttotal: 10.5s\tremaining: 14.2s\n"
          ]
        },
        {
          "name": "stderr",
          "output_type": "stream",
          "text": [
            "DEBUG:lightautoml.ml_algo.boost_cb:1700:\tlearn: 1.3451813\ttest: 1.4470854\tbest: 1.4470638 (1684)\ttotal: 10.5s\tremaining: 14.2s\n"
          ]
        },
        {
          "name": "stdout",
          "output_type": "stream",
          "text": [
            "[14:42:15] 1800:\tlearn: 1.3399278\ttest: 1.4469920\tbest: 1.4469879 (1798)\ttotal: 11.1s\tremaining: 13.6s\n"
          ]
        },
        {
          "name": "stderr",
          "output_type": "stream",
          "text": [
            "DEBUG:lightautoml.ml_algo.boost_cb:1800:\tlearn: 1.3399278\ttest: 1.4469920\tbest: 1.4469879 (1798)\ttotal: 11.1s\tremaining: 13.6s\n"
          ]
        },
        {
          "name": "stdout",
          "output_type": "stream",
          "text": [
            "[14:42:15] 1900:\tlearn: 1.3347312\ttest: 1.4469546\tbest: 1.4469328 (1891)\ttotal: 11.7s\tremaining: 13s\n"
          ]
        },
        {
          "name": "stderr",
          "output_type": "stream",
          "text": [
            "DEBUG:lightautoml.ml_algo.boost_cb:1900:\tlearn: 1.3347312\ttest: 1.4469546\tbest: 1.4469328 (1891)\ttotal: 11.7s\tremaining: 13s\n"
          ]
        },
        {
          "name": "stdout",
          "output_type": "stream",
          "text": [
            "[14:42:16] 2000:\tlearn: 1.3296842\ttest: 1.4469217\tbest: 1.4469039 (1997)\ttotal: 12.3s\tremaining: 12.3s\n"
          ]
        },
        {
          "name": "stderr",
          "output_type": "stream",
          "text": [
            "DEBUG:lightautoml.ml_algo.boost_cb:2000:\tlearn: 1.3296842\ttest: 1.4469217\tbest: 1.4469039 (1997)\ttotal: 12.3s\tremaining: 12.3s\n"
          ]
        },
        {
          "name": "stdout",
          "output_type": "stream",
          "text": [
            "[14:42:17] bestTest = 1.446903906\n"
          ]
        },
        {
          "name": "stderr",
          "output_type": "stream",
          "text": [
            "INFO3:lightautoml.ml_algo.boost_cb:bestTest = 1.446903906\n"
          ]
        },
        {
          "name": "stdout",
          "output_type": "stream",
          "text": [
            "[14:42:17] bestIteration = 1997\n"
          ]
        },
        {
          "name": "stderr",
          "output_type": "stream",
          "text": [
            "INFO3:lightautoml.ml_algo.boost_cb:bestIteration = 1997\n"
          ]
        },
        {
          "name": "stdout",
          "output_type": "stream",
          "text": [
            "[14:42:17] Shrink model to first 1998 iterations.\n"
          ]
        },
        {
          "name": "stderr",
          "output_type": "stream",
          "text": [
            "INFO3:lightautoml.ml_algo.boost_cb:Shrink model to first 1998 iterations.\n"
          ]
        },
        {
          "name": "stdout",
          "output_type": "stream",
          "text": [
            "[14:42:17] Time limit exceeded after calculating fold 0\n",
            "\n"
          ]
        },
        {
          "name": "stderr",
          "output_type": "stream",
          "text": [
            "INFO:lightautoml.ml_algo.base:Time limit exceeded after calculating fold 0\n",
            "\n"
          ]
        },
        {
          "name": "stdout",
          "output_type": "stream",
          "text": [
            "[14:42:17] Fitting \u001b[1mLvl_0_Pipe_1_Mod_0_CatBoost\u001b[0m finished. score = \u001b[1m0.2980276989017518\u001b[0m\n"
          ]
        },
        {
          "name": "stderr",
          "output_type": "stream",
          "text": [
            "INFO:lightautoml.ml_algo.base:Fitting \u001b[1mLvl_0_Pipe_1_Mod_0_CatBoost\u001b[0m finished. score = \u001b[1m0.2980276989017518\u001b[0m\n"
          ]
        },
        {
          "name": "stdout",
          "output_type": "stream",
          "text": [
            "[14:42:17] \u001b[1mLvl_0_Pipe_1_Mod_0_CatBoost\u001b[0m fitting and predicting completed\n"
          ]
        },
        {
          "name": "stderr",
          "output_type": "stream",
          "text": [
            "INFO:lightautoml.ml_algo.base:\u001b[1mLvl_0_Pipe_1_Mod_0_CatBoost\u001b[0m fitting and predicting completed\n"
          ]
        },
        {
          "name": "stdout",
          "output_type": "stream",
          "text": [
            "[14:42:17] Time left -28.19 secs\n",
            "\n"
          ]
        },
        {
          "name": "stderr",
          "output_type": "stream",
          "text": [
            "INFO:lightautoml.automl.base:Time left -28.19 secs\n",
            "\n"
          ]
        },
        {
          "name": "stdout",
          "output_type": "stream",
          "text": [
            "[14:42:17] Time limit exceeded. Last level models will be blended and unused pipelines will be pruned.\n",
            "\n"
          ]
        },
        {
          "name": "stderr",
          "output_type": "stream",
          "text": [
            "INFO:lightautoml.automl.base:Time limit exceeded. Last level models will be blended and unused pipelines will be pruned.\n",
            "\n"
          ]
        },
        {
          "name": "stdout",
          "output_type": "stream",
          "text": [
            "[14:42:17] \u001b[1mLayer 1 training completed.\u001b[0m\n",
            "\n"
          ]
        },
        {
          "name": "stderr",
          "output_type": "stream",
          "text": [
            "INFO:lightautoml.automl.base:\u001b[1mLayer 1 training completed.\u001b[0m\n",
            "\n"
          ]
        },
        {
          "name": "stdout",
          "output_type": "stream",
          "text": [
            "[14:42:17] Blending: optimization starts with equal weights and score \u001b[1m0.21606498891960849\u001b[0m\n"
          ]
        },
        {
          "name": "stderr",
          "output_type": "stream",
          "text": [
            "INFO:lightautoml.automl.blend:Blending: optimization starts with equal weights and score \u001b[1m0.21606498891960849\u001b[0m\n"
          ]
        },
        {
          "name": "stdout",
          "output_type": "stream",
          "text": [
            "[14:42:17] Blending: iteration \u001b[1m0\u001b[0m: score = \u001b[1m0.2980276989017518\u001b[0m, weights = \u001b[1m[0. 1.]\u001b[0m\n"
          ]
        },
        {
          "name": "stderr",
          "output_type": "stream",
          "text": [
            "INFO:lightautoml.automl.blend:Blending: iteration \u001b[1m0\u001b[0m: score = \u001b[1m0.2980276989017518\u001b[0m, weights = \u001b[1m[0. 1.]\u001b[0m\n"
          ]
        },
        {
          "name": "stdout",
          "output_type": "stream",
          "text": [
            "[14:42:18] Blending: iteration \u001b[1m1\u001b[0m: score = \u001b[1m0.2980276989017518\u001b[0m, weights = \u001b[1m[0. 1.]\u001b[0m\n"
          ]
        },
        {
          "name": "stderr",
          "output_type": "stream",
          "text": [
            "INFO:lightautoml.automl.blend:Blending: iteration \u001b[1m1\u001b[0m: score = \u001b[1m0.2980276989017518\u001b[0m, weights = \u001b[1m[0. 1.]\u001b[0m\n"
          ]
        },
        {
          "name": "stdout",
          "output_type": "stream",
          "text": [
            "[14:42:18] Blending: no score update. Terminated\n",
            "\n"
          ]
        },
        {
          "name": "stderr",
          "output_type": "stream",
          "text": [
            "INFO:lightautoml.automl.blend:Blending: no score update. Terminated\n",
            "\n"
          ]
        },
        {
          "name": "stdout",
          "output_type": "stream",
          "text": [
            "[14:42:18] \u001b[1mAutoml preset training completed in 228.99 seconds\u001b[0m\n",
            "\n"
          ]
        },
        {
          "name": "stderr",
          "output_type": "stream",
          "text": [
            "INFO:lightautoml.automl.presets.base:\u001b[1mAutoml preset training completed in 228.99 seconds\u001b[0m\n",
            "\n"
          ]
        },
        {
          "name": "stdout",
          "output_type": "stream",
          "text": [
            "[14:42:18] Model description:\n",
            "Final prediction for new objects (level 0) = \n",
            "\t 1.00000 * (1 averaged models Lvl_0_Pipe_1_Mod_0_CatBoost) \n",
            "\n"
          ]
        },
        {
          "name": "stderr",
          "output_type": "stream",
          "text": [
            "INFO:lightautoml.automl.presets.base:Model description:\n",
            "Final prediction for new objects (level 0) = \n",
            "\t 1.00000 * (1 averaged models Lvl_0_Pipe_1_Mod_0_CatBoost) \n",
            "\n"
          ]
        },
        {
          "name": "stdout",
          "output_type": "stream",
          "text": [
            "CPU times: user 5min 57s, sys: 32.1 s, total: 6min 30s\n",
            "Wall time: 3min 49s\n"
          ]
        },
        {
          "data": {
            "text/plain": [
              "array([[0.03110255, 0.02492913, 0.06944723, 0.3103426 , 0.36513034,\n",
              "        0.19904815],\n",
              "       [       nan,        nan,        nan,        nan,        nan,\n",
              "               nan],\n",
              "       [0.05069344, 0.03944595, 0.10368769, 0.1963189 , 0.2911189 ,\n",
              "        0.31873512],\n",
              "       ...,\n",
              "       [       nan,        nan,        nan,        nan,        nan,\n",
              "               nan],\n",
              "       [       nan,        nan,        nan,        nan,        nan,\n",
              "               nan],\n",
              "       [       nan,        nan,        nan,        nan,        nan,\n",
              "               nan]], dtype=float32)"
            ]
          },
          "execution_count": 30,
          "metadata": {},
          "output_type": "execute_result"
        }
      ],
      "source": [
        "%%time\n",
        "\n",
        "roles = {'target': [TARGET_NAME], 'text' : ['review_text']}\n",
        "automl.fit_predict(train_data, roles = roles, verbose=100)"
      ]
    },
    {
      "cell_type": "code",
      "execution_count": null,
      "metadata": {
        "colab": {
          "base_uri": "https://localhost:8080/"
        },
        "id": "LMMC-9Cisj3f",
        "outputId": "064a29ee-732b-464e-abc3-2393bdff66c3"
      },
      "outputs": [
        {
          "name": "stderr",
          "output_type": "stream",
          "text": [
            "100%|██████████| 30/30 [00:07<00:00,  4.14it/s]\n"
          ]
        },
        {
          "name": "stdout",
          "output_type": "stream",
          "text": [
            "[14:42:34] Feature concated__review_text transformed\n"
          ]
        },
        {
          "name": "stderr",
          "output_type": "stream",
          "text": [
            "INFO3:lightautoml.transformers.text:Feature concated__review_text transformed\n"
          ]
        },
        {
          "name": "stdout",
          "output_type": "stream",
          "text": [
            "f1_score is 0.29983389225868246\n"
          ]
        }
      ],
      "source": [
        "predictions = automl.predict(X_test)\n",
        "print(f\"f1_score is {f1_weighted(y_test['rating'], predictions.data)}\")"
      ]
    },
    {
      "cell_type": "code",
      "execution_count": null,
      "metadata": {
        "colab": {
          "base_uri": "https://localhost:8080/"
        },
        "id": "MVWp4f82sAG_",
        "outputId": "208dcc94-455b-47b3-da9f-7064e0c9c18c"
      },
      "outputs": [
        {
          "name": "stdout",
          "output_type": "stream",
          "text": [
            "CPU times: user 29.3 ms, sys: 2.01 ms, total: 31.3 ms\n",
            "Wall time: 30.9 ms\n"
          ]
        }
      ],
      "source": [
        "%%time\n",
        "\n",
        "automl = TabularNLPAutoML(\n",
        "    task=Task('multiclass', metric=f1_weighted),\n",
        "    timeout=TIMEOUT,\n",
        "    cpu_limit=N_THREADS,\n",
        "    gpu_ids = GPU_IDS,\n",
        "    memory_limit=45, # 45 GB\n",
        "    autonlp_params = {\n",
        "        'model_name' : 'random_lstm'\n",
        "    },\n",
        "    text_params={'lang': 'en'}\n",
        ")"
      ]
    },
    {
      "cell_type": "code",
      "execution_count": null,
      "metadata": {
        "colab": {
          "base_uri": "https://localhost:8080/"
        },
        "id": "UpQHV2Vn2kBT",
        "outputId": "13679ad2-057e-4497-89f0-8ef669c2075e"
      },
      "outputs": [
        {
          "name": "stdout",
          "output_type": "stream",
          "text": [
            "[14:32:00] Stdout logging level is DEBUG.\n"
          ]
        },
        {
          "name": "stderr",
          "output_type": "stream",
          "text": [
            "INFO:lightautoml.automl.presets.base:Stdout logging level is DEBUG.\n"
          ]
        },
        {
          "name": "stdout",
          "output_type": "stream",
          "text": [
            "[14:32:00] Model language mode: en\n"
          ]
        },
        {
          "name": "stderr",
          "output_type": "stream",
          "text": [
            "INFO3:lightautoml.automl.presets.text_presets:Model language mode: en\n"
          ]
        },
        {
          "name": "stdout",
          "output_type": "stream",
          "text": [
            "[14:32:00] Task: multiclass\n",
            "\n"
          ]
        },
        {
          "name": "stderr",
          "output_type": "stream",
          "text": [
            "INFO:lightautoml.automl.presets.base:Task: multiclass\n",
            "\n"
          ]
        },
        {
          "name": "stdout",
          "output_type": "stream",
          "text": [
            "[14:32:00] Start automl preset with listed constraints:\n"
          ]
        },
        {
          "name": "stderr",
          "output_type": "stream",
          "text": [
            "INFO:lightautoml.automl.presets.base:Start automl preset with listed constraints:\n"
          ]
        },
        {
          "name": "stdout",
          "output_type": "stream",
          "text": [
            "[14:32:00] - time: 200.00 seconds\n"
          ]
        },
        {
          "name": "stderr",
          "output_type": "stream",
          "text": [
            "INFO:lightautoml.automl.presets.base:- time: 200.00 seconds\n"
          ]
        },
        {
          "name": "stdout",
          "output_type": "stream",
          "text": [
            "[14:32:00] - CPU: 8 cores\n"
          ]
        },
        {
          "name": "stderr",
          "output_type": "stream",
          "text": [
            "INFO:lightautoml.automl.presets.base:- CPU: 8 cores\n"
          ]
        },
        {
          "name": "stdout",
          "output_type": "stream",
          "text": [
            "[14:32:00] - memory: 45 GB\n",
            "\n"
          ]
        },
        {
          "name": "stderr",
          "output_type": "stream",
          "text": [
            "INFO:lightautoml.automl.presets.base:- memory: 45 GB\n",
            "\n"
          ]
        },
        {
          "name": "stdout",
          "output_type": "stream",
          "text": [
            "[14:32:00] \u001b[1mTrain data shape: (120000, 3)\u001b[0m\n",
            "\n"
          ]
        },
        {
          "name": "stderr",
          "output_type": "stream",
          "text": [
            "INFO:lightautoml.reader.base:\u001b[1mTrain data shape: (120000, 3)\u001b[0m\n",
            "\n"
          ]
        },
        {
          "name": "stdout",
          "output_type": "stream",
          "text": [
            "[14:32:02] Feats was rejected during automatic roles guess: []\n"
          ]
        },
        {
          "name": "stderr",
          "output_type": "stream",
          "text": [
            "INFO3:lightautoml.reader.base:Feats was rejected during automatic roles guess: []\n"
          ]
        },
        {
          "name": "stdout",
          "output_type": "stream",
          "text": [
            "[14:32:02] Layer \u001b[1m1\u001b[0m train process start. Time left 198.61 secs\n"
          ]
        },
        {
          "name": "stderr",
          "output_type": "stream",
          "text": [
            "INFO:lightautoml.automl.base:Layer \u001b[1m1\u001b[0m train process start. Time left 198.61 secs\n"
          ]
        },
        {
          "name": "stdout",
          "output_type": "stream",
          "text": [
            "[14:32:53] Start fitting \u001b[1mLvl_0_Pipe_0_Mod_0_LinearL2\u001b[0m ...\n"
          ]
        },
        {
          "name": "stderr",
          "output_type": "stream",
          "text": [
            "INFO:lightautoml.ml_algo.base:Start fitting \u001b[1mLvl_0_Pipe_0_Mod_0_LinearL2\u001b[0m ...\n"
          ]
        },
        {
          "name": "stdout",
          "output_type": "stream",
          "text": [
            "[14:32:53] Training params: {'tol': 1e-06, 'max_iter': 100, 'cs': [1e-05, 5e-05, 0.0001, 0.0005, 0.001, 0.005, 0.01, 0.05, 0.1, 0.5, 1, 5, 10, 50, 100, 500, 1000, 5000, 10000, 50000, 100000], 'early_stopping': 2, 'categorical_idx': [], 'embed_sizes': (), 'data_size': 101}\n"
          ]
        },
        {
          "name": "stderr",
          "output_type": "stream",
          "text": [
            "DEBUG:lightautoml.ml_algo.base:Training params: {'tol': 1e-06, 'max_iter': 100, 'cs': [1e-05, 5e-05, 0.0001, 0.0005, 0.001, 0.005, 0.01, 0.05, 0.1, 0.5, 1, 5, 10, 50, 100, 500, 1000, 5000, 10000, 50000, 100000], 'early_stopping': 2, 'categorical_idx': [], 'embed_sizes': (), 'data_size': 101}\n"
          ]
        },
        {
          "name": "stdout",
          "output_type": "stream",
          "text": [
            "[14:32:53] ===== Start working with \u001b[1mfold 0\u001b[0m for \u001b[1mLvl_0_Pipe_0_Mod_0_LinearL2\u001b[0m =====\n"
          ]
        },
        {
          "name": "stderr",
          "output_type": "stream",
          "text": [
            "INFO2:lightautoml.ml_algo.base:===== Start working with \u001b[1mfold 0\u001b[0m for \u001b[1mLvl_0_Pipe_0_Mod_0_LinearL2\u001b[0m =====\n"
          ]
        },
        {
          "name": "stdout",
          "output_type": "stream",
          "text": [
            "[14:32:53] Linear model: C = 1e-05 score = 0.180219427554501\n"
          ]
        },
        {
          "name": "stderr",
          "output_type": "stream",
          "text": [
            "INFO3:lightautoml.ml_algo.torch_based.linear_model:Linear model: C = 1e-05 score = 0.180219427554501\n"
          ]
        },
        {
          "name": "stdout",
          "output_type": "stream",
          "text": [
            "[14:32:53] Linear model: C = 5e-05 score = 0.180219427554501\n"
          ]
        },
        {
          "name": "stderr",
          "output_type": "stream",
          "text": [
            "INFO3:lightautoml.ml_algo.torch_based.linear_model:Linear model: C = 5e-05 score = 0.180219427554501\n"
          ]
        },
        {
          "name": "stdout",
          "output_type": "stream",
          "text": [
            "[14:32:54] Linear model: C = 0.0001 score = 0.180219427554501\n"
          ]
        },
        {
          "name": "stderr",
          "output_type": "stream",
          "text": [
            "INFO3:lightautoml.ml_algo.torch_based.linear_model:Linear model: C = 0.0001 score = 0.180219427554501\n"
          ]
        },
        {
          "name": "stdout",
          "output_type": "stream",
          "text": [
            "[14:32:55] ===== Start working with \u001b[1mfold 1\u001b[0m for \u001b[1mLvl_0_Pipe_0_Mod_0_LinearL2\u001b[0m =====\n"
          ]
        },
        {
          "name": "stderr",
          "output_type": "stream",
          "text": [
            "INFO2:lightautoml.ml_algo.base:===== Start working with \u001b[1mfold 1\u001b[0m for \u001b[1mLvl_0_Pipe_0_Mod_0_LinearL2\u001b[0m =====\n"
          ]
        },
        {
          "name": "stdout",
          "output_type": "stream",
          "text": [
            "[14:32:56] Linear model: C = 1e-05 score = 0.180219427554501\n"
          ]
        },
        {
          "name": "stderr",
          "output_type": "stream",
          "text": [
            "INFO3:lightautoml.ml_algo.torch_based.linear_model:Linear model: C = 1e-05 score = 0.180219427554501\n"
          ]
        },
        {
          "name": "stdout",
          "output_type": "stream",
          "text": [
            "[14:32:56] Linear model: C = 5e-05 score = 0.180219427554501\n"
          ]
        },
        {
          "name": "stderr",
          "output_type": "stream",
          "text": [
            "INFO3:lightautoml.ml_algo.torch_based.linear_model:Linear model: C = 5e-05 score = 0.180219427554501\n"
          ]
        },
        {
          "name": "stdout",
          "output_type": "stream",
          "text": [
            "[14:32:56] Linear model: C = 0.0001 score = 0.180219427554501\n"
          ]
        },
        {
          "name": "stderr",
          "output_type": "stream",
          "text": [
            "INFO3:lightautoml.ml_algo.torch_based.linear_model:Linear model: C = 0.0001 score = 0.180219427554501\n"
          ]
        },
        {
          "name": "stdout",
          "output_type": "stream",
          "text": [
            "[14:32:56] ===== Start working with \u001b[1mfold 2\u001b[0m for \u001b[1mLvl_0_Pipe_0_Mod_0_LinearL2\u001b[0m =====\n"
          ]
        },
        {
          "name": "stderr",
          "output_type": "stream",
          "text": [
            "INFO2:lightautoml.ml_algo.base:===== Start working with \u001b[1mfold 2\u001b[0m for \u001b[1mLvl_0_Pipe_0_Mod_0_LinearL2\u001b[0m =====\n"
          ]
        },
        {
          "name": "stdout",
          "output_type": "stream",
          "text": [
            "[14:32:57] Linear model: C = 1e-05 score = 0.180219427554501\n"
          ]
        },
        {
          "name": "stderr",
          "output_type": "stream",
          "text": [
            "INFO3:lightautoml.ml_algo.torch_based.linear_model:Linear model: C = 1e-05 score = 0.180219427554501\n"
          ]
        },
        {
          "name": "stdout",
          "output_type": "stream",
          "text": [
            "[14:32:57] Linear model: C = 5e-05 score = 0.180219427554501\n"
          ]
        },
        {
          "name": "stderr",
          "output_type": "stream",
          "text": [
            "INFO3:lightautoml.ml_algo.torch_based.linear_model:Linear model: C = 5e-05 score = 0.180219427554501\n"
          ]
        },
        {
          "name": "stdout",
          "output_type": "stream",
          "text": [
            "[14:32:57] Linear model: C = 0.0001 score = 0.180219427554501\n"
          ]
        },
        {
          "name": "stderr",
          "output_type": "stream",
          "text": [
            "INFO3:lightautoml.ml_algo.torch_based.linear_model:Linear model: C = 0.0001 score = 0.180219427554501\n"
          ]
        },
        {
          "name": "stdout",
          "output_type": "stream",
          "text": [
            "[14:32:57] Fitting \u001b[1mLvl_0_Pipe_0_Mod_0_LinearL2\u001b[0m finished. score = \u001b[1m0.180219427554501\u001b[0m\n"
          ]
        },
        {
          "name": "stderr",
          "output_type": "stream",
          "text": [
            "INFO:lightautoml.ml_algo.base:Fitting \u001b[1mLvl_0_Pipe_0_Mod_0_LinearL2\u001b[0m finished. score = \u001b[1m0.180219427554501\u001b[0m\n"
          ]
        },
        {
          "name": "stdout",
          "output_type": "stream",
          "text": [
            "[14:32:57] \u001b[1mLvl_0_Pipe_0_Mod_0_LinearL2\u001b[0m fitting and predicting completed\n"
          ]
        },
        {
          "name": "stderr",
          "output_type": "stream",
          "text": [
            "INFO:lightautoml.ml_algo.base:\u001b[1mLvl_0_Pipe_0_Mod_0_LinearL2\u001b[0m fitting and predicting completed\n"
          ]
        },
        {
          "name": "stdout",
          "output_type": "stream",
          "text": [
            "[14:32:57] Time left 143.26 secs\n",
            "\n"
          ]
        },
        {
          "name": "stderr",
          "output_type": "stream",
          "text": [
            "INFO:lightautoml.automl.base:Time left 143.26 secs\n",
            "\n"
          ]
        },
        {
          "name": "stdout",
          "output_type": "stream",
          "text": [
            "[14:35:13] Feature concated__review_text fitted\n"
          ]
        },
        {
          "name": "stderr",
          "output_type": "stream",
          "text": [
            "INFO3:lightautoml.transformers.text:Feature concated__review_text fitted\n",
            "100%|██████████| 118/118 [00:27<00:00,  4.24it/s]\n"
          ]
        },
        {
          "name": "stdout",
          "output_type": "stream",
          "text": [
            "[14:35:42] Feature concated__review_text transformed\n"
          ]
        },
        {
          "name": "stderr",
          "output_type": "stream",
          "text": [
            "INFO3:lightautoml.transformers.text:Feature concated__review_text transformed\n"
          ]
        },
        {
          "name": "stdout",
          "output_type": "stream",
          "text": [
            "[14:35:43] Start fitting \u001b[1mLvl_0_Pipe_1_Mod_0_CatBoost\u001b[0m ...\n"
          ]
        },
        {
          "name": "stderr",
          "output_type": "stream",
          "text": [
            "INFO:lightautoml.ml_algo.base:Start fitting \u001b[1mLvl_0_Pipe_1_Mod_0_CatBoost\u001b[0m ...\n"
          ]
        },
        {
          "name": "stdout",
          "output_type": "stream",
          "text": [
            "[14:35:43] Training params: {'task_type': 'GPU', 'thread_count': 8, 'random_seed': 42, 'num_trees': 4000, 'learning_rate': 0.03, 'l2_leaf_reg': 0.01, 'bootstrap_type': 'Bernoulli', 'grow_policy': 'SymmetricTree', 'max_depth': 5, 'min_data_in_leaf': 1, 'one_hot_max_size': 10, 'fold_permutation_block': 1, 'boosting_type': 'Plain', 'boost_from_average': True, 'od_type': 'Iter', 'od_wait': 100, 'max_bin': 32, 'feature_border_type': 'GreedyLogSum', 'nan_mode': 'Min', 'verbose': 100, 'allow_writing_files': False, 'devices': '0'}\n"
          ]
        },
        {
          "name": "stderr",
          "output_type": "stream",
          "text": [
            "DEBUG:lightautoml.ml_algo.base:Training params: {'task_type': 'GPU', 'thread_count': 8, 'random_seed': 42, 'num_trees': 4000, 'learning_rate': 0.03, 'l2_leaf_reg': 0.01, 'bootstrap_type': 'Bernoulli', 'grow_policy': 'SymmetricTree', 'max_depth': 5, 'min_data_in_leaf': 1, 'one_hot_max_size': 10, 'fold_permutation_block': 1, 'boosting_type': 'Plain', 'boost_from_average': True, 'od_type': 'Iter', 'od_wait': 100, 'max_bin': 32, 'feature_border_type': 'GreedyLogSum', 'nan_mode': 'Min', 'verbose': 100, 'allow_writing_files': False, 'devices': '0'}\n"
          ]
        },
        {
          "name": "stdout",
          "output_type": "stream",
          "text": [
            "[14:35:43] ===== Start working with \u001b[1mfold 0\u001b[0m for \u001b[1mLvl_0_Pipe_1_Mod_0_CatBoost\u001b[0m =====\n"
          ]
        },
        {
          "name": "stderr",
          "output_type": "stream",
          "text": [
            "INFO2:lightautoml.ml_algo.base:===== Start working with \u001b[1mfold 0\u001b[0m for \u001b[1mLvl_0_Pipe_1_Mod_0_CatBoost\u001b[0m =====\n"
          ]
        },
        {
          "name": "stdout",
          "output_type": "stream",
          "text": [
            "[14:35:45] 0:\tlearn: 1.7737682\ttest: 1.7738660\tbest: 1.7738660 (0)\ttotal: 27.2ms\tremaining: 1m 48s\n"
          ]
        },
        {
          "name": "stderr",
          "output_type": "stream",
          "text": [
            "INFO3:lightautoml.ml_algo.boost_cb:0:\tlearn: 1.7737682\ttest: 1.7738660\tbest: 1.7738660 (0)\ttotal: 27.2ms\tremaining: 1m 48s\n"
          ]
        },
        {
          "name": "stdout",
          "output_type": "stream",
          "text": [
            "[14:35:46] 100:\tlearn: 1.4471637\ttest: 1.4556967\tbest: 1.4556967 (100)\ttotal: 972ms\tremaining: 37.5s\n"
          ]
        },
        {
          "name": "stderr",
          "output_type": "stream",
          "text": [
            "DEBUG:lightautoml.ml_algo.boost_cb:100:\tlearn: 1.4471637\ttest: 1.4556967\tbest: 1.4556967 (100)\ttotal: 972ms\tremaining: 37.5s\n"
          ]
        },
        {
          "name": "stdout",
          "output_type": "stream",
          "text": [
            "[14:35:47] 200:\tlearn: 1.4301422\ttest: 1.4464536\tbest: 1.4464536 (200)\ttotal: 1.79s\tremaining: 33.8s\n"
          ]
        },
        {
          "name": "stderr",
          "output_type": "stream",
          "text": [
            "DEBUG:lightautoml.ml_algo.boost_cb:200:\tlearn: 1.4301422\ttest: 1.4464536\tbest: 1.4464536 (200)\ttotal: 1.79s\tremaining: 33.8s\n"
          ]
        },
        {
          "name": "stdout",
          "output_type": "stream",
          "text": [
            "[14:35:48] 300:\tlearn: 1.4187771\ttest: 1.4424162\tbest: 1.4424162 (300)\ttotal: 2.6s\tremaining: 31.9s\n"
          ]
        },
        {
          "name": "stderr",
          "output_type": "stream",
          "text": [
            "DEBUG:lightautoml.ml_algo.boost_cb:300:\tlearn: 1.4187771\ttest: 1.4424162\tbest: 1.4424162 (300)\ttotal: 2.6s\tremaining: 31.9s\n"
          ]
        },
        {
          "name": "stdout",
          "output_type": "stream",
          "text": [
            "[14:35:49] 400:\tlearn: 1.4090748\ttest: 1.4399556\tbest: 1.4399556 (400)\ttotal: 3.41s\tremaining: 30.6s\n"
          ]
        },
        {
          "name": "stderr",
          "output_type": "stream",
          "text": [
            "DEBUG:lightautoml.ml_algo.boost_cb:400:\tlearn: 1.4090748\ttest: 1.4399556\tbest: 1.4399556 (400)\ttotal: 3.41s\tremaining: 30.6s\n"
          ]
        },
        {
          "name": "stdout",
          "output_type": "stream",
          "text": [
            "[14:35:49] 500:\tlearn: 1.4003880\ttest: 1.4380710\tbest: 1.4380710 (500)\ttotal: 4.22s\tremaining: 29.5s\n"
          ]
        },
        {
          "name": "stderr",
          "output_type": "stream",
          "text": [
            "DEBUG:lightautoml.ml_algo.boost_cb:500:\tlearn: 1.4003880\ttest: 1.4380710\tbest: 1.4380710 (500)\ttotal: 4.22s\tremaining: 29.5s\n"
          ]
        },
        {
          "name": "stdout",
          "output_type": "stream",
          "text": [
            "[14:35:50] 600:\tlearn: 1.3919982\ttest: 1.4366515\tbest: 1.4366515 (600)\ttotal: 5.04s\tremaining: 28.5s\n"
          ]
        },
        {
          "name": "stderr",
          "output_type": "stream",
          "text": [
            "DEBUG:lightautoml.ml_algo.boost_cb:600:\tlearn: 1.3919982\ttest: 1.4366515\tbest: 1.4366515 (600)\ttotal: 5.04s\tremaining: 28.5s\n"
          ]
        },
        {
          "name": "stdout",
          "output_type": "stream",
          "text": [
            "[14:35:51] 700:\tlearn: 1.3841118\ttest: 1.4354329\tbest: 1.4354329 (700)\ttotal: 5.84s\tremaining: 27.5s\n"
          ]
        },
        {
          "name": "stderr",
          "output_type": "stream",
          "text": [
            "DEBUG:lightautoml.ml_algo.boost_cb:700:\tlearn: 1.3841118\ttest: 1.4354329\tbest: 1.4354329 (700)\ttotal: 5.84s\tremaining: 27.5s\n"
          ]
        },
        {
          "name": "stdout",
          "output_type": "stream",
          "text": [
            "[14:35:52] 800:\tlearn: 1.3766412\ttest: 1.4345865\tbest: 1.4345840 (799)\ttotal: 6.65s\tremaining: 26.6s\n"
          ]
        },
        {
          "name": "stderr",
          "output_type": "stream",
          "text": [
            "DEBUG:lightautoml.ml_algo.boost_cb:800:\tlearn: 1.3766412\ttest: 1.4345865\tbest: 1.4345840 (799)\ttotal: 6.65s\tremaining: 26.6s\n"
          ]
        },
        {
          "name": "stdout",
          "output_type": "stream",
          "text": [
            "[14:35:53] 900:\tlearn: 1.3694698\ttest: 1.4337056\tbest: 1.4337056 (900)\ttotal: 7.46s\tremaining: 25.6s\n"
          ]
        },
        {
          "name": "stderr",
          "output_type": "stream",
          "text": [
            "DEBUG:lightautoml.ml_algo.boost_cb:900:\tlearn: 1.3694698\ttest: 1.4337056\tbest: 1.4337056 (900)\ttotal: 7.46s\tremaining: 25.6s\n"
          ]
        },
        {
          "name": "stdout",
          "output_type": "stream",
          "text": [
            "[14:35:54] 1000:\tlearn: 1.3624532\ttest: 1.4329409\tbest: 1.4329409 (1000)\ttotal: 8.26s\tremaining: 24.8s\n"
          ]
        },
        {
          "name": "stderr",
          "output_type": "stream",
          "text": [
            "DEBUG:lightautoml.ml_algo.boost_cb:1000:\tlearn: 1.3624532\ttest: 1.4329409\tbest: 1.4329409 (1000)\ttotal: 8.26s\tremaining: 24.8s\n"
          ]
        },
        {
          "name": "stdout",
          "output_type": "stream",
          "text": [
            "[14:35:54] 1100:\tlearn: 1.3556237\ttest: 1.4323733\tbest: 1.4323733 (1100)\ttotal: 9.07s\tremaining: 23.9s\n"
          ]
        },
        {
          "name": "stderr",
          "output_type": "stream",
          "text": [
            "DEBUG:lightautoml.ml_algo.boost_cb:1100:\tlearn: 1.3556237\ttest: 1.4323733\tbest: 1.4323733 (1100)\ttotal: 9.07s\tremaining: 23.9s\n"
          ]
        },
        {
          "name": "stdout",
          "output_type": "stream",
          "text": [
            "[14:35:55] 1200:\tlearn: 1.3488661\ttest: 1.4317282\tbest: 1.4317282 (1200)\ttotal: 9.9s\tremaining: 23.1s\n"
          ]
        },
        {
          "name": "stderr",
          "output_type": "stream",
          "text": [
            "DEBUG:lightautoml.ml_algo.boost_cb:1200:\tlearn: 1.3488661\ttest: 1.4317282\tbest: 1.4317282 (1200)\ttotal: 9.9s\tremaining: 23.1s\n"
          ]
        },
        {
          "name": "stdout",
          "output_type": "stream",
          "text": [
            "[14:35:56] 1300:\tlearn: 1.3425484\ttest: 1.4313777\tbest: 1.4313674 (1293)\ttotal: 10.7s\tremaining: 22.2s\n"
          ]
        },
        {
          "name": "stderr",
          "output_type": "stream",
          "text": [
            "DEBUG:lightautoml.ml_algo.boost_cb:1300:\tlearn: 1.3425484\ttest: 1.4313777\tbest: 1.4313674 (1293)\ttotal: 10.7s\tremaining: 22.2s\n"
          ]
        },
        {
          "name": "stdout",
          "output_type": "stream",
          "text": [
            "[14:35:57] 1400:\tlearn: 1.3360987\ttest: 1.4309396\tbest: 1.4309396 (1400)\ttotal: 11.5s\tremaining: 21.4s\n"
          ]
        },
        {
          "name": "stderr",
          "output_type": "stream",
          "text": [
            "DEBUG:lightautoml.ml_algo.boost_cb:1400:\tlearn: 1.3360987\ttest: 1.4309396\tbest: 1.4309396 (1400)\ttotal: 11.5s\tremaining: 21.4s\n"
          ]
        },
        {
          "name": "stdout",
          "output_type": "stream",
          "text": [
            "[14:35:58] 1500:\tlearn: 1.3297494\ttest: 1.4304183\tbest: 1.4304166 (1494)\ttotal: 12.4s\tremaining: 20.6s\n"
          ]
        },
        {
          "name": "stderr",
          "output_type": "stream",
          "text": [
            "DEBUG:lightautoml.ml_algo.boost_cb:1500:\tlearn: 1.3297494\ttest: 1.4304183\tbest: 1.4304166 (1494)\ttotal: 12.4s\tremaining: 20.6s\n"
          ]
        },
        {
          "name": "stdout",
          "output_type": "stream",
          "text": [
            "[14:35:58] 1600:\tlearn: 1.3235669\ttest: 1.4300133\tbest: 1.4299979 (1597)\ttotal: 13.2s\tremaining: 19.7s\n"
          ]
        },
        {
          "name": "stderr",
          "output_type": "stream",
          "text": [
            "DEBUG:lightautoml.ml_algo.boost_cb:1600:\tlearn: 1.3235669\ttest: 1.4300133\tbest: 1.4299979 (1597)\ttotal: 13.2s\tremaining: 19.7s\n"
          ]
        },
        {
          "name": "stdout",
          "output_type": "stream",
          "text": [
            "[14:35:59] 1700:\tlearn: 1.3175292\ttest: 1.4296955\tbest: 1.4296941 (1699)\ttotal: 14s\tremaining: 18.9s\n"
          ]
        },
        {
          "name": "stderr",
          "output_type": "stream",
          "text": [
            "DEBUG:lightautoml.ml_algo.boost_cb:1700:\tlearn: 1.3175292\ttest: 1.4296955\tbest: 1.4296941 (1699)\ttotal: 14s\tremaining: 18.9s\n"
          ]
        },
        {
          "name": "stdout",
          "output_type": "stream",
          "text": [
            "[14:36:00] 1800:\tlearn: 1.3114213\ttest: 1.4293611\tbest: 1.4293553 (1799)\ttotal: 14.8s\tremaining: 18.1s\n"
          ]
        },
        {
          "name": "stderr",
          "output_type": "stream",
          "text": [
            "DEBUG:lightautoml.ml_algo.boost_cb:1800:\tlearn: 1.3114213\ttest: 1.4293611\tbest: 1.4293553 (1799)\ttotal: 14.8s\tremaining: 18.1s\n"
          ]
        },
        {
          "name": "stdout",
          "output_type": "stream",
          "text": [
            "[14:36:01] 1900:\tlearn: 1.3054642\ttest: 1.4289471\tbest: 1.4289409 (1899)\ttotal: 15.6s\tremaining: 17.3s\n"
          ]
        },
        {
          "name": "stderr",
          "output_type": "stream",
          "text": [
            "DEBUG:lightautoml.ml_algo.boost_cb:1900:\tlearn: 1.3054642\ttest: 1.4289471\tbest: 1.4289409 (1899)\ttotal: 15.6s\tremaining: 17.3s\n"
          ]
        },
        {
          "name": "stdout",
          "output_type": "stream",
          "text": [
            "[14:36:02] 2000:\tlearn: 1.2995320\ttest: 1.4286796\tbest: 1.4286762 (1979)\ttotal: 16.5s\tremaining: 16.4s\n"
          ]
        },
        {
          "name": "stderr",
          "output_type": "stream",
          "text": [
            "DEBUG:lightautoml.ml_algo.boost_cb:2000:\tlearn: 1.2995320\ttest: 1.4286796\tbest: 1.4286762 (1979)\ttotal: 16.5s\tremaining: 16.4s\n"
          ]
        },
        {
          "name": "stdout",
          "output_type": "stream",
          "text": [
            "[14:36:03] 2100:\tlearn: 1.2937266\ttest: 1.4284853\tbest: 1.4284347 (2086)\ttotal: 17.3s\tremaining: 15.6s\n"
          ]
        },
        {
          "name": "stderr",
          "output_type": "stream",
          "text": [
            "DEBUG:lightautoml.ml_algo.boost_cb:2100:\tlearn: 1.2937266\ttest: 1.4284853\tbest: 1.4284347 (2086)\ttotal: 17.3s\tremaining: 15.6s\n"
          ]
        },
        {
          "name": "stdout",
          "output_type": "stream",
          "text": [
            "[14:36:03] 2200:\tlearn: 1.2880533\ttest: 1.4282565\tbest: 1.4282441 (2199)\ttotal: 18.1s\tremaining: 14.8s\n"
          ]
        },
        {
          "name": "stderr",
          "output_type": "stream",
          "text": [
            "DEBUG:lightautoml.ml_algo.boost_cb:2200:\tlearn: 1.2880533\ttest: 1.4282565\tbest: 1.4282441 (2199)\ttotal: 18.1s\tremaining: 14.8s\n"
          ]
        },
        {
          "name": "stdout",
          "output_type": "stream",
          "text": [
            "[14:36:04] 2300:\tlearn: 1.2824648\ttest: 1.4280927\tbest: 1.4280651 (2296)\ttotal: 18.9s\tremaining: 14s\n"
          ]
        },
        {
          "name": "stderr",
          "output_type": "stream",
          "text": [
            "DEBUG:lightautoml.ml_algo.boost_cb:2300:\tlearn: 1.2824648\ttest: 1.4280927\tbest: 1.4280651 (2296)\ttotal: 18.9s\tremaining: 14s\n"
          ]
        },
        {
          "name": "stdout",
          "output_type": "stream",
          "text": [
            "[14:36:05] 2400:\tlearn: 1.2768489\ttest: 1.4278500\tbest: 1.4278064 (2391)\ttotal: 19.7s\tremaining: 13.1s\n"
          ]
        },
        {
          "name": "stderr",
          "output_type": "stream",
          "text": [
            "DEBUG:lightautoml.ml_algo.boost_cb:2400:\tlearn: 1.2768489\ttest: 1.4278500\tbest: 1.4278064 (2391)\ttotal: 19.7s\tremaining: 13.1s\n"
          ]
        },
        {
          "name": "stdout",
          "output_type": "stream",
          "text": [
            "[14:36:06] 2500:\tlearn: 1.2714342\ttest: 1.4278051\tbest: 1.4277944 (2494)\ttotal: 20.5s\tremaining: 12.3s\n"
          ]
        },
        {
          "name": "stderr",
          "output_type": "stream",
          "text": [
            "DEBUG:lightautoml.ml_algo.boost_cb:2500:\tlearn: 1.2714342\ttest: 1.4278051\tbest: 1.4277944 (2494)\ttotal: 20.5s\tremaining: 12.3s\n"
          ]
        },
        {
          "name": "stdout",
          "output_type": "stream",
          "text": [
            "[14:36:07] 2600:\tlearn: 1.2660530\ttest: 1.4277069\tbest: 1.4276894 (2595)\ttotal: 21.3s\tremaining: 11.5s\n"
          ]
        },
        {
          "name": "stderr",
          "output_type": "stream",
          "text": [
            "DEBUG:lightautoml.ml_algo.boost_cb:2600:\tlearn: 1.2660530\ttest: 1.4277069\tbest: 1.4276894 (2595)\ttotal: 21.3s\tremaining: 11.5s\n"
          ]
        },
        {
          "name": "stdout",
          "output_type": "stream",
          "text": [
            "[14:36:07] 2700:\tlearn: 1.2606745\ttest: 1.4276988\tbest: 1.4276741 (2692)\ttotal: 22.2s\tremaining: 10.7s\n"
          ]
        },
        {
          "name": "stderr",
          "output_type": "stream",
          "text": [
            "DEBUG:lightautoml.ml_algo.boost_cb:2700:\tlearn: 1.2606745\ttest: 1.4276988\tbest: 1.4276741 (2692)\ttotal: 22.2s\tremaining: 10.7s\n"
          ]
        },
        {
          "name": "stdout",
          "output_type": "stream",
          "text": [
            "[14:36:08] 2800:\tlearn: 1.2552169\ttest: 1.4277157\tbest: 1.4276438 (2765)\ttotal: 23s\tremaining: 9.83s\n"
          ]
        },
        {
          "name": "stderr",
          "output_type": "stream",
          "text": [
            "DEBUG:lightautoml.ml_algo.boost_cb:2800:\tlearn: 1.2552169\ttest: 1.4277157\tbest: 1.4276438 (2765)\ttotal: 23s\tremaining: 9.83s\n"
          ]
        },
        {
          "name": "stdout",
          "output_type": "stream",
          "text": [
            "[14:36:09] bestTest = 1.42764375\n"
          ]
        },
        {
          "name": "stderr",
          "output_type": "stream",
          "text": [
            "INFO3:lightautoml.ml_algo.boost_cb:bestTest = 1.42764375\n"
          ]
        },
        {
          "name": "stdout",
          "output_type": "stream",
          "text": [
            "[14:36:09] bestIteration = 2765\n"
          ]
        },
        {
          "name": "stderr",
          "output_type": "stream",
          "text": [
            "INFO3:lightautoml.ml_algo.boost_cb:bestIteration = 2765\n"
          ]
        },
        {
          "name": "stdout",
          "output_type": "stream",
          "text": [
            "[14:36:09] Shrink model to first 2766 iterations.\n"
          ]
        },
        {
          "name": "stderr",
          "output_type": "stream",
          "text": [
            "INFO3:lightautoml.ml_algo.boost_cb:Shrink model to first 2766 iterations.\n"
          ]
        },
        {
          "name": "stdout",
          "output_type": "stream",
          "text": [
            "[14:36:09] Time limit exceeded after calculating fold 0\n",
            "\n"
          ]
        },
        {
          "name": "stderr",
          "output_type": "stream",
          "text": [
            "INFO:lightautoml.ml_algo.base:Time limit exceeded after calculating fold 0\n",
            "\n"
          ]
        },
        {
          "name": "stdout",
          "output_type": "stream",
          "text": [
            "[14:36:09] Fitting \u001b[1mLvl_0_Pipe_1_Mod_0_CatBoost\u001b[0m finished. score = \u001b[1m0.3264685451984004\u001b[0m\n"
          ]
        },
        {
          "name": "stderr",
          "output_type": "stream",
          "text": [
            "INFO:lightautoml.ml_algo.base:Fitting \u001b[1mLvl_0_Pipe_1_Mod_0_CatBoost\u001b[0m finished. score = \u001b[1m0.3264685451984004\u001b[0m\n"
          ]
        },
        {
          "name": "stdout",
          "output_type": "stream",
          "text": [
            "[14:36:09] \u001b[1mLvl_0_Pipe_1_Mod_0_CatBoost\u001b[0m fitting and predicting completed\n"
          ]
        },
        {
          "name": "stderr",
          "output_type": "stream",
          "text": [
            "INFO:lightautoml.ml_algo.base:\u001b[1mLvl_0_Pipe_1_Mod_0_CatBoost\u001b[0m fitting and predicting completed\n"
          ]
        },
        {
          "name": "stdout",
          "output_type": "stream",
          "text": [
            "[14:36:09] Time left -48.89 secs\n",
            "\n"
          ]
        },
        {
          "name": "stderr",
          "output_type": "stream",
          "text": [
            "INFO:lightautoml.automl.base:Time left -48.89 secs\n",
            "\n"
          ]
        },
        {
          "name": "stdout",
          "output_type": "stream",
          "text": [
            "[14:36:09] Time limit exceeded. Last level models will be blended and unused pipelines will be pruned.\n",
            "\n"
          ]
        },
        {
          "name": "stderr",
          "output_type": "stream",
          "text": [
            "INFO:lightautoml.automl.base:Time limit exceeded. Last level models will be blended and unused pipelines will be pruned.\n",
            "\n"
          ]
        },
        {
          "name": "stdout",
          "output_type": "stream",
          "text": [
            "[14:36:09] \u001b[1mLayer 1 training completed.\u001b[0m\n",
            "\n"
          ]
        },
        {
          "name": "stderr",
          "output_type": "stream",
          "text": [
            "INFO:lightautoml.automl.base:\u001b[1mLayer 1 training completed.\u001b[0m\n",
            "\n"
          ]
        },
        {
          "name": "stdout",
          "output_type": "stream",
          "text": [
            "[14:36:09] Blending: optimization starts with equal weights and score \u001b[1m0.22463491597248733\u001b[0m\n"
          ]
        },
        {
          "name": "stderr",
          "output_type": "stream",
          "text": [
            "INFO:lightautoml.automl.blend:Blending: optimization starts with equal weights and score \u001b[1m0.22463491597248733\u001b[0m\n"
          ]
        },
        {
          "name": "stdout",
          "output_type": "stream",
          "text": [
            "[14:36:10] Blending: iteration \u001b[1m0\u001b[0m: score = \u001b[1m0.3264685451984004\u001b[0m, weights = \u001b[1m[0. 1.]\u001b[0m\n"
          ]
        },
        {
          "name": "stderr",
          "output_type": "stream",
          "text": [
            "INFO:lightautoml.automl.blend:Blending: iteration \u001b[1m0\u001b[0m: score = \u001b[1m0.3264685451984004\u001b[0m, weights = \u001b[1m[0. 1.]\u001b[0m\n"
          ]
        },
        {
          "name": "stdout",
          "output_type": "stream",
          "text": [
            "[14:36:10] Blending: iteration \u001b[1m1\u001b[0m: score = \u001b[1m0.3264685451984004\u001b[0m, weights = \u001b[1m[0. 1.]\u001b[0m\n"
          ]
        },
        {
          "name": "stderr",
          "output_type": "stream",
          "text": [
            "INFO:lightautoml.automl.blend:Blending: iteration \u001b[1m1\u001b[0m: score = \u001b[1m0.3264685451984004\u001b[0m, weights = \u001b[1m[0. 1.]\u001b[0m\n"
          ]
        },
        {
          "name": "stdout",
          "output_type": "stream",
          "text": [
            "[14:36:10] Blending: no score update. Terminated\n",
            "\n"
          ]
        },
        {
          "name": "stderr",
          "output_type": "stream",
          "text": [
            "INFO:lightautoml.automl.blend:Blending: no score update. Terminated\n",
            "\n"
          ]
        },
        {
          "name": "stdout",
          "output_type": "stream",
          "text": [
            "[14:36:10] \u001b[1mAutoml preset training completed in 249.70 seconds\u001b[0m\n",
            "\n"
          ]
        },
        {
          "name": "stderr",
          "output_type": "stream",
          "text": [
            "INFO:lightautoml.automl.presets.base:\u001b[1mAutoml preset training completed in 249.70 seconds\u001b[0m\n",
            "\n"
          ]
        },
        {
          "name": "stdout",
          "output_type": "stream",
          "text": [
            "[14:36:10] Model description:\n",
            "Final prediction for new objects (level 0) = \n",
            "\t 1.00000 * (1 averaged models Lvl_0_Pipe_1_Mod_0_CatBoost) \n",
            "\n"
          ]
        },
        {
          "name": "stderr",
          "output_type": "stream",
          "text": [
            "INFO:lightautoml.automl.presets.base:Model description:\n",
            "Final prediction for new objects (level 0) = \n",
            "\t 1.00000 * (1 averaged models Lvl_0_Pipe_1_Mod_0_CatBoost) \n",
            "\n"
          ]
        },
        {
          "name": "stdout",
          "output_type": "stream",
          "text": [
            "CPU times: user 6min 44s, sys: 40 s, total: 7min 24s\n",
            "Wall time: 4min 9s\n"
          ]
        },
        {
          "data": {
            "text/plain": [
              "array([[0.01934675, 0.01720879, 0.06713362, 0.36797687, 0.36105847,\n",
              "        0.1672755 ],\n",
              "       [       nan,        nan,        nan,        nan,        nan,\n",
              "               nan],\n",
              "       [0.03903079, 0.03539817, 0.08518661, 0.2343368 , 0.29835624,\n",
              "        0.3076914 ],\n",
              "       ...,\n",
              "       [       nan,        nan,        nan,        nan,        nan,\n",
              "               nan],\n",
              "       [       nan,        nan,        nan,        nan,        nan,\n",
              "               nan],\n",
              "       [       nan,        nan,        nan,        nan,        nan,\n",
              "               nan]], dtype=float32)"
            ]
          },
          "execution_count": 27,
          "metadata": {},
          "output_type": "execute_result"
        }
      ],
      "source": [
        "%%time\n",
        "\n",
        "roles = {'target': [TARGET_NAME], 'text' : ['review_text']}\n",
        "automl.fit_predict(train_data, roles = roles, verbose=100)"
      ]
    },
    {
      "cell_type": "code",
      "execution_count": null,
      "metadata": {
        "colab": {
          "base_uri": "https://localhost:8080/"
        },
        "id": "2DqQ1GaU2iXV",
        "outputId": "defdf009-4fe9-43cb-b69d-b0c0f5609ff4"
      },
      "outputs": [
        {
          "name": "stderr",
          "output_type": "stream",
          "text": [
            "100%|██████████| 30/30 [00:07<00:00,  4.03it/s]\n"
          ]
        },
        {
          "name": "stdout",
          "output_type": "stream",
          "text": [
            "[14:37:47] Feature concated__review_text transformed\n"
          ]
        },
        {
          "name": "stderr",
          "output_type": "stream",
          "text": [
            "INFO3:lightautoml.transformers.text:Feature concated__review_text transformed\n"
          ]
        },
        {
          "name": "stdout",
          "output_type": "stream",
          "text": [
            "f1_score is 0.3259396487571955\n"
          ]
        }
      ],
      "source": [
        "predictions = automl.predict(X_test)\n",
        "print(f\"f1_score is {f1_weighted(y_test['rating'], predictions.data)}\")"
      ]
    },
    {
      "cell_type": "markdown",
      "metadata": {
        "id": "i-wlnzuWjGkl"
      },
      "source": [
        "Агрегация через BOREP и RandomLSTM хоть и выполняется быстрее, но показывает более слабый результат. Использование предобученных моделей дает более высокий результат по сравнению с обучением fastText на корпусе."
      ]
    },
    {
      "cell_type": "markdown",
      "metadata": {
        "id": "zc9bfVORW-mx"
      },
      "source": [
        "### Быстрый вариант решения задачи c препроцессингом текста\n",
        "\n",
        "В данном случае ключевым отличием станет использования обработанного текста (колонка ```review_text_cleaned```). В качестве модели возьмем дефолтную. Все параметры внутри TabularNLPAutoML остаются неизменными."
      ]
    },
    {
      "cell_type": "code",
      "execution_count": null,
      "metadata": {
        "id": "7m1dg1W1X_um"
      },
      "outputs": [],
      "source": [
        "%%time\n",
        "\n",
        "automl = TabularNLPAutoML(\n",
        "    task=Task('multiclass', metric=f1_weighted),\n",
        "    timeout=TIMEOUT,\n",
        "    cpu_limit=N_THREADS,\n",
        "    gpu_ids = GPU_IDS,\n",
        "    memory_limit=45, # 45 GB\n",
        "    text_params={'lang': 'en'}\n",
        "\n",
        ")"
      ]
    },
    {
      "cell_type": "code",
      "execution_count": null,
      "metadata": {
        "colab": {
          "base_uri": "https://localhost:8080/"
        },
        "id": "qIR44ZjelQaV",
        "outputId": "de8cf5e5-c5ee-4bbf-b42e-22f1e8b95998"
      },
      "outputs": [
        {
          "name": "stdout",
          "output_type": "stream",
          "text": [
            "[15:25:06] Stdout logging level is DEBUG.\n"
          ]
        },
        {
          "name": "stderr",
          "output_type": "stream",
          "text": [
            "INFO:lightautoml.automl.presets.base:Stdout logging level is DEBUG.\n"
          ]
        },
        {
          "name": "stdout",
          "output_type": "stream",
          "text": [
            "[15:25:06] Model language mode: en\n"
          ]
        },
        {
          "name": "stderr",
          "output_type": "stream",
          "text": [
            "INFO3:lightautoml.automl.presets.text_presets:Model language mode: en\n"
          ]
        },
        {
          "name": "stdout",
          "output_type": "stream",
          "text": [
            "[15:25:06] Task: multiclass\n",
            "\n"
          ]
        },
        {
          "name": "stderr",
          "output_type": "stream",
          "text": [
            "INFO:lightautoml.automl.presets.base:Task: multiclass\n",
            "\n"
          ]
        },
        {
          "name": "stdout",
          "output_type": "stream",
          "text": [
            "[15:25:06] Start automl preset with listed constraints:\n"
          ]
        },
        {
          "name": "stderr",
          "output_type": "stream",
          "text": [
            "INFO:lightautoml.automl.presets.base:Start automl preset with listed constraints:\n"
          ]
        },
        {
          "name": "stdout",
          "output_type": "stream",
          "text": [
            "[15:25:06] - time: 200.00 seconds\n"
          ]
        },
        {
          "name": "stderr",
          "output_type": "stream",
          "text": [
            "INFO:lightautoml.automl.presets.base:- time: 200.00 seconds\n"
          ]
        },
        {
          "name": "stdout",
          "output_type": "stream",
          "text": [
            "[15:25:06] - CPU: 8 cores\n"
          ]
        },
        {
          "name": "stderr",
          "output_type": "stream",
          "text": [
            "INFO:lightautoml.automl.presets.base:- CPU: 8 cores\n"
          ]
        },
        {
          "name": "stdout",
          "output_type": "stream",
          "text": [
            "[15:25:06] - memory: 45 GB\n",
            "\n"
          ]
        },
        {
          "name": "stderr",
          "output_type": "stream",
          "text": [
            "INFO:lightautoml.automl.presets.base:- memory: 45 GB\n",
            "\n"
          ]
        },
        {
          "name": "stdout",
          "output_type": "stream",
          "text": [
            "[15:25:06] \u001b[1mTrain data shape: (120000, 3)\u001b[0m\n",
            "\n"
          ]
        },
        {
          "name": "stderr",
          "output_type": "stream",
          "text": [
            "INFO:lightautoml.reader.base:\u001b[1mTrain data shape: (120000, 3)\u001b[0m\n",
            "\n"
          ]
        },
        {
          "name": "stdout",
          "output_type": "stream",
          "text": [
            "[15:25:07] Feats was rejected during automatic roles guess: []\n"
          ]
        },
        {
          "name": "stderr",
          "output_type": "stream",
          "text": [
            "INFO3:lightautoml.reader.base:Feats was rejected during automatic roles guess: []\n"
          ]
        },
        {
          "name": "stdout",
          "output_type": "stream",
          "text": [
            "[15:25:07] Layer \u001b[1m1\u001b[0m train process start. Time left 198.32 secs\n"
          ]
        },
        {
          "name": "stderr",
          "output_type": "stream",
          "text": [
            "INFO:lightautoml.automl.base:Layer \u001b[1m1\u001b[0m train process start. Time left 198.32 secs\n"
          ]
        },
        {
          "name": "stdout",
          "output_type": "stream",
          "text": [
            "[15:26:01] Start fitting \u001b[1mLvl_0_Pipe_0_Mod_0_LinearL2\u001b[0m ...\n"
          ]
        },
        {
          "name": "stderr",
          "output_type": "stream",
          "text": [
            "INFO:lightautoml.ml_algo.base:Start fitting \u001b[1mLvl_0_Pipe_0_Mod_0_LinearL2\u001b[0m ...\n"
          ]
        },
        {
          "name": "stdout",
          "output_type": "stream",
          "text": [
            "[15:26:01] Training params: {'tol': 1e-06, 'max_iter': 100, 'cs': [1e-05, 5e-05, 0.0001, 0.0005, 0.001, 0.005, 0.01, 0.05, 0.1, 0.5, 1, 5, 10, 50, 100, 500, 1000, 5000, 10000, 50000, 100000], 'early_stopping': 2, 'categorical_idx': [], 'embed_sizes': (), 'data_size': 101}\n"
          ]
        },
        {
          "name": "stderr",
          "output_type": "stream",
          "text": [
            "DEBUG:lightautoml.ml_algo.base:Training params: {'tol': 1e-06, 'max_iter': 100, 'cs': [1e-05, 5e-05, 0.0001, 0.0005, 0.001, 0.005, 0.01, 0.05, 0.1, 0.5, 1, 5, 10, 50, 100, 500, 1000, 5000, 10000, 50000, 100000], 'early_stopping': 2, 'categorical_idx': [], 'embed_sizes': (), 'data_size': 101}\n"
          ]
        },
        {
          "name": "stdout",
          "output_type": "stream",
          "text": [
            "[15:26:01] ===== Start working with \u001b[1mfold 0\u001b[0m for \u001b[1mLvl_0_Pipe_0_Mod_0_LinearL2\u001b[0m =====\n"
          ]
        },
        {
          "name": "stderr",
          "output_type": "stream",
          "text": [
            "INFO2:lightautoml.ml_algo.base:===== Start working with \u001b[1mfold 0\u001b[0m for \u001b[1mLvl_0_Pipe_0_Mod_0_LinearL2\u001b[0m =====\n"
          ]
        },
        {
          "name": "stdout",
          "output_type": "stream",
          "text": [
            "[15:26:02] Linear model: C = 1e-05 score = 0.180219427554501\n"
          ]
        },
        {
          "name": "stderr",
          "output_type": "stream",
          "text": [
            "INFO3:lightautoml.ml_algo.torch_based.linear_model:Linear model: C = 1e-05 score = 0.180219427554501\n"
          ]
        },
        {
          "name": "stdout",
          "output_type": "stream",
          "text": [
            "[15:26:02] Linear model: C = 5e-05 score = 0.180219427554501\n"
          ]
        },
        {
          "name": "stderr",
          "output_type": "stream",
          "text": [
            "INFO3:lightautoml.ml_algo.torch_based.linear_model:Linear model: C = 5e-05 score = 0.180219427554501\n"
          ]
        },
        {
          "name": "stdout",
          "output_type": "stream",
          "text": [
            "[15:26:02] Linear model: C = 0.0001 score = 0.180219427554501\n"
          ]
        },
        {
          "name": "stderr",
          "output_type": "stream",
          "text": [
            "INFO3:lightautoml.ml_algo.torch_based.linear_model:Linear model: C = 0.0001 score = 0.180219427554501\n"
          ]
        },
        {
          "name": "stdout",
          "output_type": "stream",
          "text": [
            "[15:26:02] ===== Start working with \u001b[1mfold 1\u001b[0m for \u001b[1mLvl_0_Pipe_0_Mod_0_LinearL2\u001b[0m =====\n"
          ]
        },
        {
          "name": "stderr",
          "output_type": "stream",
          "text": [
            "INFO2:lightautoml.ml_algo.base:===== Start working with \u001b[1mfold 1\u001b[0m for \u001b[1mLvl_0_Pipe_0_Mod_0_LinearL2\u001b[0m =====\n"
          ]
        },
        {
          "name": "stdout",
          "output_type": "stream",
          "text": [
            "[15:26:02] Linear model: C = 1e-05 score = 0.180219427554501\n"
          ]
        },
        {
          "name": "stderr",
          "output_type": "stream",
          "text": [
            "INFO3:lightautoml.ml_algo.torch_based.linear_model:Linear model: C = 1e-05 score = 0.180219427554501\n"
          ]
        },
        {
          "name": "stdout",
          "output_type": "stream",
          "text": [
            "[15:26:03] Linear model: C = 5e-05 score = 0.180219427554501\n"
          ]
        },
        {
          "name": "stderr",
          "output_type": "stream",
          "text": [
            "INFO3:lightautoml.ml_algo.torch_based.linear_model:Linear model: C = 5e-05 score = 0.180219427554501\n"
          ]
        },
        {
          "name": "stdout",
          "output_type": "stream",
          "text": [
            "[15:26:03] Linear model: C = 0.0001 score = 0.180219427554501\n"
          ]
        },
        {
          "name": "stderr",
          "output_type": "stream",
          "text": [
            "INFO3:lightautoml.ml_algo.torch_based.linear_model:Linear model: C = 0.0001 score = 0.180219427554501\n"
          ]
        },
        {
          "name": "stdout",
          "output_type": "stream",
          "text": [
            "[15:26:03] ===== Start working with \u001b[1mfold 2\u001b[0m for \u001b[1mLvl_0_Pipe_0_Mod_0_LinearL2\u001b[0m =====\n"
          ]
        },
        {
          "name": "stderr",
          "output_type": "stream",
          "text": [
            "INFO2:lightautoml.ml_algo.base:===== Start working with \u001b[1mfold 2\u001b[0m for \u001b[1mLvl_0_Pipe_0_Mod_0_LinearL2\u001b[0m =====\n"
          ]
        },
        {
          "name": "stdout",
          "output_type": "stream",
          "text": [
            "[15:26:03] Linear model: C = 1e-05 score = 0.180219427554501\n"
          ]
        },
        {
          "name": "stderr",
          "output_type": "stream",
          "text": [
            "INFO3:lightautoml.ml_algo.torch_based.linear_model:Linear model: C = 1e-05 score = 0.180219427554501\n"
          ]
        },
        {
          "name": "stdout",
          "output_type": "stream",
          "text": [
            "[15:26:03] Linear model: C = 5e-05 score = 0.180219427554501\n"
          ]
        },
        {
          "name": "stderr",
          "output_type": "stream",
          "text": [
            "INFO3:lightautoml.ml_algo.torch_based.linear_model:Linear model: C = 5e-05 score = 0.180219427554501\n"
          ]
        },
        {
          "name": "stdout",
          "output_type": "stream",
          "text": [
            "[15:26:04] Linear model: C = 0.0001 score = 0.180219427554501\n"
          ]
        },
        {
          "name": "stderr",
          "output_type": "stream",
          "text": [
            "INFO3:lightautoml.ml_algo.torch_based.linear_model:Linear model: C = 0.0001 score = 0.180219427554501\n"
          ]
        },
        {
          "name": "stdout",
          "output_type": "stream",
          "text": [
            "[15:26:04] Fitting \u001b[1mLvl_0_Pipe_0_Mod_0_LinearL2\u001b[0m finished. score = \u001b[1m0.180219427554501\u001b[0m\n"
          ]
        },
        {
          "name": "stderr",
          "output_type": "stream",
          "text": [
            "INFO:lightautoml.ml_algo.base:Fitting \u001b[1mLvl_0_Pipe_0_Mod_0_LinearL2\u001b[0m finished. score = \u001b[1m0.180219427554501\u001b[0m\n"
          ]
        },
        {
          "name": "stdout",
          "output_type": "stream",
          "text": [
            "[15:26:04] \u001b[1mLvl_0_Pipe_0_Mod_0_LinearL2\u001b[0m fitting and predicting completed\n"
          ]
        },
        {
          "name": "stderr",
          "output_type": "stream",
          "text": [
            "INFO:lightautoml.ml_algo.base:\u001b[1mLvl_0_Pipe_0_Mod_0_LinearL2\u001b[0m fitting and predicting completed\n"
          ]
        },
        {
          "name": "stdout",
          "output_type": "stream",
          "text": [
            "[15:26:04] Time left 142.15 secs\n",
            "\n"
          ]
        },
        {
          "name": "stderr",
          "output_type": "stream",
          "text": [
            "INFO:lightautoml.automl.base:Time left 142.15 secs\n",
            "\n"
          ]
        },
        {
          "name": "stdout",
          "output_type": "stream",
          "text": [
            "[15:26:08] Feature concated__review_text_cleaned fitted\n"
          ]
        },
        {
          "name": "stderr",
          "output_type": "stream",
          "text": [
            "INFO3:lightautoml.transformers.text:Feature concated__review_text_cleaned fitted\n",
            "100%|██████████| 375/375 [28:20<00:00,  4.54s/it]\n"
          ]
        },
        {
          "name": "stdout",
          "output_type": "stream",
          "text": [
            "[15:54:33] Feature concated__review_text_cleaned transformed\n"
          ]
        },
        {
          "name": "stderr",
          "output_type": "stream",
          "text": [
            "INFO3:lightautoml.transformers.text:Feature concated__review_text_cleaned transformed\n"
          ]
        },
        {
          "name": "stdout",
          "output_type": "stream",
          "text": [
            "[15:54:34] Start fitting \u001b[1mLvl_0_Pipe_1_Mod_0_CatBoost\u001b[0m ...\n"
          ]
        },
        {
          "name": "stderr",
          "output_type": "stream",
          "text": [
            "INFO:lightautoml.ml_algo.base:Start fitting \u001b[1mLvl_0_Pipe_1_Mod_0_CatBoost\u001b[0m ...\n"
          ]
        },
        {
          "name": "stdout",
          "output_type": "stream",
          "text": [
            "[15:54:34] Training params: {'task_type': 'GPU', 'thread_count': 8, 'random_seed': 42, 'num_trees': 4000, 'learning_rate': 0.03, 'l2_leaf_reg': 0.01, 'bootstrap_type': 'Bernoulli', 'grow_policy': 'SymmetricTree', 'max_depth': 5, 'min_data_in_leaf': 1, 'one_hot_max_size': 10, 'fold_permutation_block': 1, 'boosting_type': 'Plain', 'boost_from_average': True, 'od_type': 'Iter', 'od_wait': 100, 'max_bin': 32, 'feature_border_type': 'GreedyLogSum', 'nan_mode': 'Min', 'verbose': 100, 'allow_writing_files': False, 'devices': '0'}\n"
          ]
        },
        {
          "name": "stderr",
          "output_type": "stream",
          "text": [
            "DEBUG:lightautoml.ml_algo.base:Training params: {'task_type': 'GPU', 'thread_count': 8, 'random_seed': 42, 'num_trees': 4000, 'learning_rate': 0.03, 'l2_leaf_reg': 0.01, 'bootstrap_type': 'Bernoulli', 'grow_policy': 'SymmetricTree', 'max_depth': 5, 'min_data_in_leaf': 1, 'one_hot_max_size': 10, 'fold_permutation_block': 1, 'boosting_type': 'Plain', 'boost_from_average': True, 'od_type': 'Iter', 'od_wait': 100, 'max_bin': 32, 'feature_border_type': 'GreedyLogSum', 'nan_mode': 'Min', 'verbose': 100, 'allow_writing_files': False, 'devices': '0'}\n"
          ]
        },
        {
          "name": "stdout",
          "output_type": "stream",
          "text": [
            "[15:54:35] ===== Start working with \u001b[1mfold 0\u001b[0m for \u001b[1mLvl_0_Pipe_1_Mod_0_CatBoost\u001b[0m =====\n"
          ]
        },
        {
          "name": "stderr",
          "output_type": "stream",
          "text": [
            "INFO2:lightautoml.ml_algo.base:===== Start working with \u001b[1mfold 0\u001b[0m for \u001b[1mLvl_0_Pipe_1_Mod_0_CatBoost\u001b[0m =====\n"
          ]
        },
        {
          "name": "stdout",
          "output_type": "stream",
          "text": [
            "[15:54:37] 0:\tlearn: 1.7688195\ttest: 1.7690570\tbest: 1.7690570 (0)\ttotal: 24.2ms\tremaining: 1m 36s\n"
          ]
        },
        {
          "name": "stderr",
          "output_type": "stream",
          "text": [
            "INFO3:lightautoml.ml_algo.boost_cb:0:\tlearn: 1.7688195\ttest: 1.7690570\tbest: 1.7690570 (0)\ttotal: 24.2ms\tremaining: 1m 36s\n"
          ]
        },
        {
          "name": "stdout",
          "output_type": "stream",
          "text": [
            "[15:54:38] 100:\tlearn: 1.3082459\ttest: 1.3151457\tbest: 1.3151457 (100)\ttotal: 1.29s\tremaining: 50s\n"
          ]
        },
        {
          "name": "stderr",
          "output_type": "stream",
          "text": [
            "DEBUG:lightautoml.ml_algo.boost_cb:100:\tlearn: 1.3082459\ttest: 1.3151457\tbest: 1.3151457 (100)\ttotal: 1.29s\tremaining: 50s\n"
          ]
        },
        {
          "name": "stdout",
          "output_type": "stream",
          "text": [
            "[15:54:39] 200:\tlearn: 1.2541728\ttest: 1.2676087\tbest: 1.2676087 (200)\ttotal: 2.44s\tremaining: 46.1s\n"
          ]
        },
        {
          "name": "stderr",
          "output_type": "stream",
          "text": [
            "DEBUG:lightautoml.ml_algo.boost_cb:200:\tlearn: 1.2541728\ttest: 1.2676087\tbest: 1.2676087 (200)\ttotal: 2.44s\tremaining: 46.1s\n"
          ]
        },
        {
          "name": "stdout",
          "output_type": "stream",
          "text": [
            "[15:54:40] 300:\tlearn: 1.2269588\ttest: 1.2474129\tbest: 1.2474129 (300)\ttotal: 3.58s\tremaining: 44s\n"
          ]
        },
        {
          "name": "stderr",
          "output_type": "stream",
          "text": [
            "DEBUG:lightautoml.ml_algo.boost_cb:300:\tlearn: 1.2269588\ttest: 1.2474129\tbest: 1.2474129 (300)\ttotal: 3.58s\tremaining: 44s\n"
          ]
        },
        {
          "name": "stdout",
          "output_type": "stream",
          "text": [
            "[15:54:42] 400:\tlearn: 1.2081070\ttest: 1.2359639\tbest: 1.2359639 (400)\ttotal: 4.7s\tremaining: 42.2s\n"
          ]
        },
        {
          "name": "stderr",
          "output_type": "stream",
          "text": [
            "DEBUG:lightautoml.ml_algo.boost_cb:400:\tlearn: 1.2081070\ttest: 1.2359639\tbest: 1.2359639 (400)\ttotal: 4.7s\tremaining: 42.2s\n"
          ]
        },
        {
          "name": "stdout",
          "output_type": "stream",
          "text": [
            "[15:54:43] 500:\tlearn: 1.1928246\ttest: 1.2279256\tbest: 1.2279256 (500)\ttotal: 5.83s\tremaining: 40.7s\n"
          ]
        },
        {
          "name": "stderr",
          "output_type": "stream",
          "text": [
            "DEBUG:lightautoml.ml_algo.boost_cb:500:\tlearn: 1.1928246\ttest: 1.2279256\tbest: 1.2279256 (500)\ttotal: 5.83s\tremaining: 40.7s\n"
          ]
        },
        {
          "name": "stdout",
          "output_type": "stream",
          "text": [
            "[15:54:44] 600:\tlearn: 1.1796306\ttest: 1.2223884\tbest: 1.2223884 (600)\ttotal: 6.92s\tremaining: 39.2s\n"
          ]
        },
        {
          "name": "stderr",
          "output_type": "stream",
          "text": [
            "DEBUG:lightautoml.ml_algo.boost_cb:600:\tlearn: 1.1796306\ttest: 1.2223884\tbest: 1.2223884 (600)\ttotal: 6.92s\tremaining: 39.2s\n"
          ]
        },
        {
          "name": "stdout",
          "output_type": "stream",
          "text": [
            "[15:54:45] 700:\tlearn: 1.1674594\ttest: 1.2176747\tbest: 1.2176747 (700)\ttotal: 8.04s\tremaining: 37.8s\n"
          ]
        },
        {
          "name": "stderr",
          "output_type": "stream",
          "text": [
            "DEBUG:lightautoml.ml_algo.boost_cb:700:\tlearn: 1.1674594\ttest: 1.2176747\tbest: 1.2176747 (700)\ttotal: 8.04s\tremaining: 37.8s\n"
          ]
        },
        {
          "name": "stdout",
          "output_type": "stream",
          "text": [
            "[15:54:46] 800:\tlearn: 1.1562852\ttest: 1.2139675\tbest: 1.2139675 (800)\ttotal: 9.12s\tremaining: 36.4s\n"
          ]
        },
        {
          "name": "stderr",
          "output_type": "stream",
          "text": [
            "DEBUG:lightautoml.ml_algo.boost_cb:800:\tlearn: 1.1562852\ttest: 1.2139675\tbest: 1.2139675 (800)\ttotal: 9.12s\tremaining: 36.4s\n"
          ]
        },
        {
          "name": "stdout",
          "output_type": "stream",
          "text": [
            "[15:54:47] 900:\tlearn: 1.1457245\ttest: 1.2106556\tbest: 1.2106556 (900)\ttotal: 10.2s\tremaining: 35.2s\n"
          ]
        },
        {
          "name": "stderr",
          "output_type": "stream",
          "text": [
            "DEBUG:lightautoml.ml_algo.boost_cb:900:\tlearn: 1.1457245\ttest: 1.2106556\tbest: 1.2106556 (900)\ttotal: 10.2s\tremaining: 35.2s\n"
          ]
        },
        {
          "name": "stdout",
          "output_type": "stream",
          "text": [
            "[15:54:48] 1000:\tlearn: 1.1356090\ttest: 1.2079754\tbest: 1.2079754 (1000)\ttotal: 11.3s\tremaining: 33.9s\n"
          ]
        },
        {
          "name": "stderr",
          "output_type": "stream",
          "text": [
            "DEBUG:lightautoml.ml_algo.boost_cb:1000:\tlearn: 1.1356090\ttest: 1.2079754\tbest: 1.2079754 (1000)\ttotal: 11.3s\tremaining: 33.9s\n"
          ]
        },
        {
          "name": "stdout",
          "output_type": "stream",
          "text": [
            "[15:54:49] 1100:\tlearn: 1.1259107\ttest: 1.2054311\tbest: 1.2054311 (1100)\ttotal: 12.4s\tremaining: 32.6s\n"
          ]
        },
        {
          "name": "stderr",
          "output_type": "stream",
          "text": [
            "DEBUG:lightautoml.ml_algo.boost_cb:1100:\tlearn: 1.1259107\ttest: 1.2054311\tbest: 1.2054311 (1100)\ttotal: 12.4s\tremaining: 32.6s\n"
          ]
        },
        {
          "name": "stdout",
          "output_type": "stream",
          "text": [
            "[15:54:50] 1200:\tlearn: 1.1166118\ttest: 1.2032894\tbest: 1.2032894 (1200)\ttotal: 13.5s\tremaining: 31.4s\n"
          ]
        },
        {
          "name": "stderr",
          "output_type": "stream",
          "text": [
            "DEBUG:lightautoml.ml_algo.boost_cb:1200:\tlearn: 1.1166118\ttest: 1.2032894\tbest: 1.2032894 (1200)\ttotal: 13.5s\tremaining: 31.4s\n"
          ]
        },
        {
          "name": "stdout",
          "output_type": "stream",
          "text": [
            "[15:54:51] 1300:\tlearn: 1.1075743\ttest: 1.2012521\tbest: 1.2012521 (1300)\ttotal: 14.6s\tremaining: 30.2s\n"
          ]
        },
        {
          "name": "stderr",
          "output_type": "stream",
          "text": [
            "DEBUG:lightautoml.ml_algo.boost_cb:1300:\tlearn: 1.1075743\ttest: 1.2012521\tbest: 1.2012521 (1300)\ttotal: 14.6s\tremaining: 30.2s\n"
          ]
        },
        {
          "name": "stdout",
          "output_type": "stream",
          "text": [
            "[15:54:53] 1400:\tlearn: 1.0987723\ttest: 1.1996043\tbest: 1.1996043 (1400)\ttotal: 15.7s\tremaining: 29.1s\n"
          ]
        },
        {
          "name": "stderr",
          "output_type": "stream",
          "text": [
            "DEBUG:lightautoml.ml_algo.boost_cb:1400:\tlearn: 1.0987723\ttest: 1.1996043\tbest: 1.1996043 (1400)\ttotal: 15.7s\tremaining: 29.1s\n"
          ]
        },
        {
          "name": "stdout",
          "output_type": "stream",
          "text": [
            "[15:54:54] 1500:\tlearn: 1.0903042\ttest: 1.1980724\tbest: 1.1980724 (1500)\ttotal: 16.7s\tremaining: 27.9s\n"
          ]
        },
        {
          "name": "stderr",
          "output_type": "stream",
          "text": [
            "DEBUG:lightautoml.ml_algo.boost_cb:1500:\tlearn: 1.0903042\ttest: 1.1980724\tbest: 1.1980724 (1500)\ttotal: 16.7s\tremaining: 27.9s\n"
          ]
        },
        {
          "name": "stdout",
          "output_type": "stream",
          "text": [
            "[15:54:55] 1600:\tlearn: 1.0819146\ttest: 1.1967515\tbest: 1.1967515 (1600)\ttotal: 17.8s\tremaining: 26.7s\n"
          ]
        },
        {
          "name": "stderr",
          "output_type": "stream",
          "text": [
            "DEBUG:lightautoml.ml_algo.boost_cb:1600:\tlearn: 1.0819146\ttest: 1.1967515\tbest: 1.1967515 (1600)\ttotal: 17.8s\tremaining: 26.7s\n"
          ]
        },
        {
          "name": "stdout",
          "output_type": "stream",
          "text": [
            "[15:54:56] 1700:\tlearn: 1.0738859\ttest: 1.1954099\tbest: 1.1954099 (1700)\ttotal: 18.9s\tremaining: 25.5s\n"
          ]
        },
        {
          "name": "stderr",
          "output_type": "stream",
          "text": [
            "DEBUG:lightautoml.ml_algo.boost_cb:1700:\tlearn: 1.0738859\ttest: 1.1954099\tbest: 1.1954099 (1700)\ttotal: 18.9s\tremaining: 25.5s\n"
          ]
        },
        {
          "name": "stdout",
          "output_type": "stream",
          "text": [
            "[15:54:57] 1800:\tlearn: 1.0659233\ttest: 1.1942341\tbest: 1.1942249 (1799)\ttotal: 20s\tremaining: 24.4s\n"
          ]
        },
        {
          "name": "stderr",
          "output_type": "stream",
          "text": [
            "DEBUG:lightautoml.ml_algo.boost_cb:1800:\tlearn: 1.0659233\ttest: 1.1942341\tbest: 1.1942249 (1799)\ttotal: 20s\tremaining: 24.4s\n"
          ]
        },
        {
          "name": "stdout",
          "output_type": "stream",
          "text": [
            "[15:54:58] 1900:\tlearn: 1.0580608\ttest: 1.1930975\tbest: 1.1930975 (1900)\ttotal: 21s\tremaining: 23.2s\n"
          ]
        },
        {
          "name": "stderr",
          "output_type": "stream",
          "text": [
            "DEBUG:lightautoml.ml_algo.boost_cb:1900:\tlearn: 1.0580608\ttest: 1.1930975\tbest: 1.1930975 (1900)\ttotal: 21s\tremaining: 23.2s\n"
          ]
        },
        {
          "name": "stdout",
          "output_type": "stream",
          "text": [
            "[15:54:59] 2000:\tlearn: 1.0503219\ttest: 1.1922198\tbest: 1.1922198 (2000)\ttotal: 22.1s\tremaining: 22.1s\n"
          ]
        },
        {
          "name": "stderr",
          "output_type": "stream",
          "text": [
            "DEBUG:lightautoml.ml_algo.boost_cb:2000:\tlearn: 1.0503219\ttest: 1.1922198\tbest: 1.1922198 (2000)\ttotal: 22.1s\tremaining: 22.1s\n"
          ]
        },
        {
          "name": "stdout",
          "output_type": "stream",
          "text": [
            "[15:55:00] 2100:\tlearn: 1.0426622\ttest: 1.1910983\tbest: 1.1910983 (2100)\ttotal: 23.2s\tremaining: 21s\n"
          ]
        },
        {
          "name": "stderr",
          "output_type": "stream",
          "text": [
            "DEBUG:lightautoml.ml_algo.boost_cb:2100:\tlearn: 1.0426622\ttest: 1.1910983\tbest: 1.1910983 (2100)\ttotal: 23.2s\tremaining: 21s\n"
          ]
        },
        {
          "name": "stdout",
          "output_type": "stream",
          "text": [
            "[15:55:01] 2200:\tlearn: 1.0350086\ttest: 1.1900796\tbest: 1.1900796 (2200)\ttotal: 24.3s\tremaining: 19.8s\n"
          ]
        },
        {
          "name": "stderr",
          "output_type": "stream",
          "text": [
            "DEBUG:lightautoml.ml_algo.boost_cb:2200:\tlearn: 1.0350086\ttest: 1.1900796\tbest: 1.1900796 (2200)\ttotal: 24.3s\tremaining: 19.8s\n"
          ]
        },
        {
          "name": "stdout",
          "output_type": "stream",
          "text": [
            "[15:55:02] 2300:\tlearn: 1.0276501\ttest: 1.1891368\tbest: 1.1891368 (2300)\ttotal: 25.3s\tremaining: 18.7s\n"
          ]
        },
        {
          "name": "stderr",
          "output_type": "stream",
          "text": [
            "DEBUG:lightautoml.ml_algo.boost_cb:2300:\tlearn: 1.0276501\ttest: 1.1891368\tbest: 1.1891368 (2300)\ttotal: 25.3s\tremaining: 18.7s\n"
          ]
        },
        {
          "name": "stdout",
          "output_type": "stream",
          "text": [
            "[15:55:03] 2400:\tlearn: 1.0204119\ttest: 1.1882821\tbest: 1.1882821 (2400)\ttotal: 26.4s\tremaining: 17.6s\n"
          ]
        },
        {
          "name": "stderr",
          "output_type": "stream",
          "text": [
            "DEBUG:lightautoml.ml_algo.boost_cb:2400:\tlearn: 1.0204119\ttest: 1.1882821\tbest: 1.1882821 (2400)\ttotal: 26.4s\tremaining: 17.6s\n"
          ]
        },
        {
          "name": "stdout",
          "output_type": "stream",
          "text": [
            "[15:55:04] 2500:\tlearn: 1.0134337\ttest: 1.1875279\tbest: 1.1875279 (2500)\ttotal: 27.5s\tremaining: 16.5s\n"
          ]
        },
        {
          "name": "stderr",
          "output_type": "stream",
          "text": [
            "DEBUG:lightautoml.ml_algo.boost_cb:2500:\tlearn: 1.0134337\ttest: 1.1875279\tbest: 1.1875279 (2500)\ttotal: 27.5s\tremaining: 16.5s\n"
          ]
        },
        {
          "name": "stdout",
          "output_type": "stream",
          "text": [
            "[15:55:05] 2600:\tlearn: 1.0065771\ttest: 1.1868718\tbest: 1.1868646 (2599)\ttotal: 28.6s\tremaining: 15.4s\n"
          ]
        },
        {
          "name": "stderr",
          "output_type": "stream",
          "text": [
            "DEBUG:lightautoml.ml_algo.boost_cb:2600:\tlearn: 1.0065771\ttest: 1.1868718\tbest: 1.1868646 (2599)\ttotal: 28.6s\tremaining: 15.4s\n"
          ]
        },
        {
          "name": "stdout",
          "output_type": "stream",
          "text": [
            "[15:55:07] 2700:\tlearn: 0.9996523\ttest: 1.1862825\tbest: 1.1862825 (2700)\ttotal: 29.6s\tremaining: 14.3s\n"
          ]
        },
        {
          "name": "stderr",
          "output_type": "stream",
          "text": [
            "DEBUG:lightautoml.ml_algo.boost_cb:2700:\tlearn: 0.9996523\ttest: 1.1862825\tbest: 1.1862825 (2700)\ttotal: 29.6s\tremaining: 14.3s\n"
          ]
        },
        {
          "name": "stdout",
          "output_type": "stream",
          "text": [
            "[15:55:08] 2800:\tlearn: 0.9927908\ttest: 1.1857485\tbest: 1.1857458 (2799)\ttotal: 30.7s\tremaining: 13.1s\n"
          ]
        },
        {
          "name": "stderr",
          "output_type": "stream",
          "text": [
            "DEBUG:lightautoml.ml_algo.boost_cb:2800:\tlearn: 0.9927908\ttest: 1.1857485\tbest: 1.1857458 (2799)\ttotal: 30.7s\tremaining: 13.1s\n"
          ]
        },
        {
          "name": "stdout",
          "output_type": "stream",
          "text": [
            "[15:55:09] 2900:\tlearn: 0.9859382\ttest: 1.1850289\tbest: 1.1850289 (2900)\ttotal: 31.8s\tremaining: 12s\n"
          ]
        },
        {
          "name": "stderr",
          "output_type": "stream",
          "text": [
            "DEBUG:lightautoml.ml_algo.boost_cb:2900:\tlearn: 0.9859382\ttest: 1.1850289\tbest: 1.1850289 (2900)\ttotal: 31.8s\tremaining: 12s\n"
          ]
        },
        {
          "name": "stdout",
          "output_type": "stream",
          "text": [
            "[15:55:10] 3000:\tlearn: 0.9791159\ttest: 1.1844941\tbest: 1.1844941 (3000)\ttotal: 32.9s\tremaining: 10.9s\n"
          ]
        },
        {
          "name": "stderr",
          "output_type": "stream",
          "text": [
            "DEBUG:lightautoml.ml_algo.boost_cb:3000:\tlearn: 0.9791159\ttest: 1.1844941\tbest: 1.1844941 (3000)\ttotal: 32.9s\tremaining: 10.9s\n"
          ]
        },
        {
          "name": "stdout",
          "output_type": "stream",
          "text": [
            "[15:55:11] 3100:\tlearn: 0.9724021\ttest: 1.1840149\tbest: 1.1840149 (3100)\ttotal: 34s\tremaining: 9.84s\n"
          ]
        },
        {
          "name": "stderr",
          "output_type": "stream",
          "text": [
            "DEBUG:lightautoml.ml_algo.boost_cb:3100:\tlearn: 0.9724021\ttest: 1.1840149\tbest: 1.1840149 (3100)\ttotal: 34s\tremaining: 9.84s\n"
          ]
        },
        {
          "name": "stdout",
          "output_type": "stream",
          "text": [
            "[15:55:12] 3200:\tlearn: 0.9658994\ttest: 1.1835632\tbest: 1.1835384 (3197)\ttotal: 35s\tremaining: 8.74s\n"
          ]
        },
        {
          "name": "stderr",
          "output_type": "stream",
          "text": [
            "DEBUG:lightautoml.ml_algo.boost_cb:3200:\tlearn: 0.9658994\ttest: 1.1835632\tbest: 1.1835384 (3197)\ttotal: 35s\tremaining: 8.74s\n"
          ]
        },
        {
          "name": "stdout",
          "output_type": "stream",
          "text": [
            "[15:55:13] 3300:\tlearn: 0.9593672\ttest: 1.1830155\tbest: 1.1830155 (3300)\ttotal: 36.1s\tremaining: 7.65s\n"
          ]
        },
        {
          "name": "stderr",
          "output_type": "stream",
          "text": [
            "DEBUG:lightautoml.ml_algo.boost_cb:3300:\tlearn: 0.9593672\ttest: 1.1830155\tbest: 1.1830155 (3300)\ttotal: 36.1s\tremaining: 7.65s\n"
          ]
        },
        {
          "name": "stdout",
          "output_type": "stream",
          "text": [
            "[15:55:14] 3400:\tlearn: 0.9529758\ttest: 1.1826558\tbest: 1.1826464 (3398)\ttotal: 37.2s\tremaining: 6.55s\n"
          ]
        },
        {
          "name": "stderr",
          "output_type": "stream",
          "text": [
            "DEBUG:lightautoml.ml_algo.boost_cb:3400:\tlearn: 0.9529758\ttest: 1.1826558\tbest: 1.1826464 (3398)\ttotal: 37.2s\tremaining: 6.55s\n"
          ]
        },
        {
          "name": "stdout",
          "output_type": "stream",
          "text": [
            "[15:55:15] 3500:\tlearn: 0.9466330\ttest: 1.1822916\tbest: 1.1822916 (3500)\ttotal: 38.3s\tremaining: 5.46s\n"
          ]
        },
        {
          "name": "stderr",
          "output_type": "stream",
          "text": [
            "DEBUG:lightautoml.ml_algo.boost_cb:3500:\tlearn: 0.9466330\ttest: 1.1822916\tbest: 1.1822916 (3500)\ttotal: 38.3s\tremaining: 5.46s\n"
          ]
        },
        {
          "name": "stdout",
          "output_type": "stream",
          "text": [
            "[15:55:16] 3600:\tlearn: 0.9403681\ttest: 1.1818284\tbest: 1.1818264 (3597)\ttotal: 39.4s\tremaining: 4.36s\n"
          ]
        },
        {
          "name": "stderr",
          "output_type": "stream",
          "text": [
            "DEBUG:lightautoml.ml_algo.boost_cb:3600:\tlearn: 0.9403681\ttest: 1.1818284\tbest: 1.1818264 (3597)\ttotal: 39.4s\tremaining: 4.36s\n"
          ]
        },
        {
          "name": "stdout",
          "output_type": "stream",
          "text": [
            "[15:55:17] 3700:\tlearn: 0.9341576\ttest: 1.1814009\tbest: 1.1814009 (3700)\ttotal: 40.5s\tremaining: 3.27s\n"
          ]
        },
        {
          "name": "stderr",
          "output_type": "stream",
          "text": [
            "DEBUG:lightautoml.ml_algo.boost_cb:3700:\tlearn: 0.9341576\ttest: 1.1814009\tbest: 1.1814009 (3700)\ttotal: 40.5s\tremaining: 3.27s\n"
          ]
        },
        {
          "name": "stdout",
          "output_type": "stream",
          "text": [
            "[15:55:19] 3800:\tlearn: 0.9280622\ttest: 1.1810058\tbest: 1.1810058 (3800)\ttotal: 41.5s\tremaining: 2.17s\n"
          ]
        },
        {
          "name": "stderr",
          "output_type": "stream",
          "text": [
            "DEBUG:lightautoml.ml_algo.boost_cb:3800:\tlearn: 0.9280622\ttest: 1.1810058\tbest: 1.1810058 (3800)\ttotal: 41.5s\tremaining: 2.17s\n"
          ]
        },
        {
          "name": "stdout",
          "output_type": "stream",
          "text": [
            "[15:55:20] 3900:\tlearn: 0.9220729\ttest: 1.1805947\tbest: 1.1805947 (3900)\ttotal: 42.6s\tremaining: 1.08s\n"
          ]
        },
        {
          "name": "stderr",
          "output_type": "stream",
          "text": [
            "DEBUG:lightautoml.ml_algo.boost_cb:3900:\tlearn: 0.9220729\ttest: 1.1805947\tbest: 1.1805947 (3900)\ttotal: 42.6s\tremaining: 1.08s\n"
          ]
        },
        {
          "name": "stdout",
          "output_type": "stream",
          "text": [
            "[15:55:21] 3999:\tlearn: 0.9160549\ttest: 1.1801714\tbest: 1.1801714 (3999)\ttotal: 43.7s\tremaining: 0us\n"
          ]
        },
        {
          "name": "stderr",
          "output_type": "stream",
          "text": [
            "DEBUG:lightautoml.ml_algo.boost_cb:3999:\tlearn: 0.9160549\ttest: 1.1801714\tbest: 1.1801714 (3999)\ttotal: 43.7s\tremaining: 0us\n"
          ]
        },
        {
          "name": "stdout",
          "output_type": "stream",
          "text": [
            "[15:55:21] bestTest = 1.180171387\n"
          ]
        },
        {
          "name": "stderr",
          "output_type": "stream",
          "text": [
            "INFO3:lightautoml.ml_algo.boost_cb:bestTest = 1.180171387\n"
          ]
        },
        {
          "name": "stdout",
          "output_type": "stream",
          "text": [
            "[15:55:21] bestIteration = 3999\n"
          ]
        },
        {
          "name": "stderr",
          "output_type": "stream",
          "text": [
            "INFO3:lightautoml.ml_algo.boost_cb:bestIteration = 3999\n"
          ]
        },
        {
          "name": "stdout",
          "output_type": "stream",
          "text": [
            "[15:55:21] Time limit exceeded after calculating fold 0\n",
            "\n"
          ]
        },
        {
          "name": "stderr",
          "output_type": "stream",
          "text": [
            "INFO:lightautoml.ml_algo.base:Time limit exceeded after calculating fold 0\n",
            "\n"
          ]
        },
        {
          "name": "stdout",
          "output_type": "stream",
          "text": [
            "[15:55:21] Fitting \u001b[1mLvl_0_Pipe_1_Mod_0_CatBoost\u001b[0m finished. score = \u001b[1m0.47905626953541025\u001b[0m\n"
          ]
        },
        {
          "name": "stderr",
          "output_type": "stream",
          "text": [
            "INFO:lightautoml.ml_algo.base:Fitting \u001b[1mLvl_0_Pipe_1_Mod_0_CatBoost\u001b[0m finished. score = \u001b[1m0.47905626953541025\u001b[0m\n"
          ]
        },
        {
          "name": "stdout",
          "output_type": "stream",
          "text": [
            "[15:55:21] \u001b[1mLvl_0_Pipe_1_Mod_0_CatBoost\u001b[0m fitting and predicting completed\n"
          ]
        },
        {
          "name": "stderr",
          "output_type": "stream",
          "text": [
            "INFO:lightautoml.ml_algo.base:\u001b[1mLvl_0_Pipe_1_Mod_0_CatBoost\u001b[0m fitting and predicting completed\n"
          ]
        },
        {
          "name": "stdout",
          "output_type": "stream",
          "text": [
            "[15:55:21] Time left -1615.39 secs\n",
            "\n"
          ]
        },
        {
          "name": "stderr",
          "output_type": "stream",
          "text": [
            "INFO:lightautoml.automl.base:Time left -1615.39 secs\n",
            "\n"
          ]
        },
        {
          "name": "stdout",
          "output_type": "stream",
          "text": [
            "[15:55:21] Time limit exceeded. Last level models will be blended and unused pipelines will be pruned.\n",
            "\n"
          ]
        },
        {
          "name": "stderr",
          "output_type": "stream",
          "text": [
            "INFO:lightautoml.automl.base:Time limit exceeded. Last level models will be blended and unused pipelines will be pruned.\n",
            "\n"
          ]
        },
        {
          "name": "stdout",
          "output_type": "stream",
          "text": [
            "[15:55:21] \u001b[1mLayer 1 training completed.\u001b[0m\n",
            "\n"
          ]
        },
        {
          "name": "stderr",
          "output_type": "stream",
          "text": [
            "INFO:lightautoml.automl.base:\u001b[1mLayer 1 training completed.\u001b[0m\n",
            "\n"
          ]
        },
        {
          "name": "stdout",
          "output_type": "stream",
          "text": [
            "[15:55:21] Blending: optimization starts with equal weights and score \u001b[1m0.2998562845861935\u001b[0m\n"
          ]
        },
        {
          "name": "stderr",
          "output_type": "stream",
          "text": [
            "INFO:lightautoml.automl.blend:Blending: optimization starts with equal weights and score \u001b[1m0.2998562845861935\u001b[0m\n"
          ]
        },
        {
          "name": "stdout",
          "output_type": "stream",
          "text": [
            "[15:55:22] Blending: iteration \u001b[1m0\u001b[0m: score = \u001b[1m0.47905626953541025\u001b[0m, weights = \u001b[1m[0. 1.]\u001b[0m\n"
          ]
        },
        {
          "name": "stderr",
          "output_type": "stream",
          "text": [
            "INFO:lightautoml.automl.blend:Blending: iteration \u001b[1m0\u001b[0m: score = \u001b[1m0.47905626953541025\u001b[0m, weights = \u001b[1m[0. 1.]\u001b[0m\n"
          ]
        },
        {
          "name": "stdout",
          "output_type": "stream",
          "text": [
            "[15:55:22] Blending: iteration \u001b[1m1\u001b[0m: score = \u001b[1m0.47905626953541025\u001b[0m, weights = \u001b[1m[0. 1.]\u001b[0m\n"
          ]
        },
        {
          "name": "stderr",
          "output_type": "stream",
          "text": [
            "INFO:lightautoml.automl.blend:Blending: iteration \u001b[1m1\u001b[0m: score = \u001b[1m0.47905626953541025\u001b[0m, weights = \u001b[1m[0. 1.]\u001b[0m\n"
          ]
        },
        {
          "name": "stdout",
          "output_type": "stream",
          "text": [
            "[15:55:22] Blending: no score update. Terminated\n",
            "\n"
          ]
        },
        {
          "name": "stderr",
          "output_type": "stream",
          "text": [
            "INFO:lightautoml.automl.blend:Blending: no score update. Terminated\n",
            "\n"
          ]
        },
        {
          "name": "stdout",
          "output_type": "stream",
          "text": [
            "[15:55:22] \u001b[1mAutoml preset training completed in 1816.26 seconds\u001b[0m\n",
            "\n"
          ]
        },
        {
          "name": "stderr",
          "output_type": "stream",
          "text": [
            "INFO:lightautoml.automl.presets.base:\u001b[1mAutoml preset training completed in 1816.26 seconds\u001b[0m\n",
            "\n"
          ]
        },
        {
          "name": "stdout",
          "output_type": "stream",
          "text": [
            "[15:55:22] Model description:\n",
            "Final prediction for new objects (level 0) = \n",
            "\t 1.00000 * (1 averaged models Lvl_0_Pipe_1_Mod_0_CatBoost) \n",
            "\n"
          ]
        },
        {
          "name": "stderr",
          "output_type": "stream",
          "text": [
            "INFO:lightautoml.automl.presets.base:Model description:\n",
            "Final prediction for new objects (level 0) = \n",
            "\t 1.00000 * (1 averaged models Lvl_0_Pipe_1_Mod_0_CatBoost) \n",
            "\n"
          ]
        },
        {
          "name": "stdout",
          "output_type": "stream",
          "text": [
            "CPU times: user 33min 30s, sys: 48 s, total: 34min 18s\n",
            "Wall time: 30min 16s\n"
          ]
        },
        {
          "data": {
            "text/plain": [
              "array([[1.82376907e-03, 3.67780973e-04, 1.44063644e-02, 2.51888633e-01,\n",
              "        6.19537234e-01, 1.11976199e-01],\n",
              "       [           nan,            nan,            nan,            nan,\n",
              "                   nan,            nan],\n",
              "       [1.68265905e-02, 2.85543338e-03, 1.89669114e-02, 1.21308744e-01,\n",
              "        4.62825000e-01, 3.77217323e-01],\n",
              "       ...,\n",
              "       [           nan,            nan,            nan,            nan,\n",
              "                   nan,            nan],\n",
              "       [           nan,            nan,            nan,            nan,\n",
              "                   nan,            nan],\n",
              "       [           nan,            nan,            nan,            nan,\n",
              "                   nan,            nan]], dtype=float32)"
            ]
          },
          "execution_count": 35,
          "metadata": {},
          "output_type": "execute_result"
        }
      ],
      "source": [
        "%%time\n",
        "\n",
        "roles = {'target': [TARGET_NAME], 'text' : ['review_text_cleaned']}\n",
        "automl.fit_predict(train_data, roles = roles, verbose=100)"
      ]
    },
    {
      "cell_type": "code",
      "execution_count": null,
      "metadata": {
        "colab": {
          "base_uri": "https://localhost:8080/"
        },
        "id": "kM_Jo-lcH9Hk",
        "outputId": "db01bb91-689c-476f-aa27-08198775f058"
      },
      "outputs": [
        {
          "name": "stderr",
          "output_type": "stream",
          "text": [
            "100%|██████████| 94/94 [07:03<00:00,  4.51s/it]\n"
          ]
        },
        {
          "name": "stdout",
          "output_type": "stream",
          "text": [
            "[16:03:12] Feature concated__review_text_cleaned transformed\n"
          ]
        },
        {
          "name": "stderr",
          "output_type": "stream",
          "text": [
            "INFO3:lightautoml.transformers.text:Feature concated__review_text_cleaned transformed\n"
          ]
        },
        {
          "name": "stdout",
          "output_type": "stream",
          "text": [
            "f1_score is 0.4752457791825679\n"
          ]
        }
      ],
      "source": [
        "predictions = automl.predict(X_test)\n",
        "print(f\"f1_score is {f1_weighted(y_test['rating'], predictions.data)}\")"
      ]
    },
    {
      "cell_type": "markdown",
      "metadata": {
        "id": "Ife6Mm5d46iU"
      },
      "source": [
        "Для препроцессинга результат получился немного хуже (~0.486 против ~0.475), чем без. В общем случае будет считать, что для LightAutoMl не принципиально, какое качество текстов подается на вход - вся обработка происходит внутри.\n",
        "\n",
        "Также важно отметить, что здесь представлен второй прогон, в котором был выставлен параметр языков текстов ```text_params={'lang': value}```.\n",
        "\n",
        "Когда мы не указываем параметры языка общий скор в нашем случае падает на ~0.7 (c 0.49 до 0.42)."
      ]
    },
    {
      "cell_type": "markdown",
      "metadata": {
        "id": "UJNUYDyyX4_8"
      },
      "source": [
        "### Ручное выставление гиперпараметров (с использованием optuna)\n",
        "\n",
        "Теперь попробуем сконфигурировать TabularNLPAutoML самостоятельно.\n",
        "В качестве подхода будем использовать дообучение модели с Hugging face\n"
      ]
    },
    {
      "cell_type": "code",
      "execution_count": null,
      "metadata": {
        "id": "WOzB2d-wxh2E"
      },
      "outputs": [],
      "source": [
        "# Подберем гиперпараметры\n",
        "\n",
        "import optuna\n",
        "\n",
        "def objective(trial):\n",
        "    nn_params = {\n",
        "        'batch_size': trial.suggest_categorical('batch_size', [32, 64, 128]),\n",
        "        'epochs': trial.suggest_int('epochs', 5, 15),\n",
        "        'learning_rate': trial.suggest_float('learning_rate', 1e-3, 1e-1),\n",
        "        'layers': [\n",
        "            trial.suggest_int('layer1_units', 50, 100),\n",
        "            trial.suggest_int('layer2_units', 20, 50)\n",
        "        ],\n",
        "        'dropout': trial.suggest_float('dropout', 0.1, 0.5),\n",
        "    }\n",
        "\n",
        "    automl = TabularNLPAutoML(\n",
        "         task=Task('multiclass', metric=f1_weighted),\n",
        "         timeout=200,\n",
        "         cpu_limit=N_THREADS,\n",
        "         gpu_ids = GPU_IDS,\n",
        "         memory_limit=45,\n",
        "         text_params={'lang': 'en',\n",
        "                    'bert_model': 'prajjwal1/bert-tiny'},\n",
        "         reader_params={'n_jobs': N_THREADS, 'cv': 3, 'random_state': RANDOM_STATE},\n",
        "         general_params={'use_algos': [['nn']]},\n",
        "         nn_params=nn_params\n",
        "    )\n",
        "\n",
        "    automl.fit_predict(train_data, roles = roles, verbose=100)\n",
        "    predictions = automl.predict(X_test)\n",
        "    metric = f1_weighted(y_test['rating'], predictions.data)\n",
        "\n",
        "    return metric\n"
      ]
    },
    {
      "cell_type": "code",
      "execution_count": null,
      "metadata": {
        "colab": {
          "base_uri": "https://localhost:8080/"
        },
        "id": "3H2T5MhD1QLs",
        "outputId": "4b989b73-5fa9-4680-e603-89b94e2ecfe4"
      },
      "outputs": [
        {
          "name": "stderr",
          "output_type": "stream",
          "text": [
            "INFO:optuna.storages._in_memory:A new study created in memory with name: no-name-89661039-af24-41ed-ab52-2c8f7234b847\n"
          ]
        },
        {
          "name": "stdout",
          "output_type": "stream",
          "text": [
            "[06:28:16] Stdout logging level is DEBUG.\n"
          ]
        },
        {
          "name": "stderr",
          "output_type": "stream",
          "text": [
            "INFO:lightautoml.automl.presets.base:Stdout logging level is DEBUG.\n"
          ]
        },
        {
          "name": "stdout",
          "output_type": "stream",
          "text": [
            "[06:28:16] Model language mode: en\n"
          ]
        },
        {
          "name": "stderr",
          "output_type": "stream",
          "text": [
            "INFO3:lightautoml.automl.presets.text_presets:Model language mode: en\n"
          ]
        },
        {
          "name": "stdout",
          "output_type": "stream",
          "text": [
            "[06:28:16] Task: multiclass\n",
            "\n"
          ]
        },
        {
          "name": "stderr",
          "output_type": "stream",
          "text": [
            "INFO:lightautoml.automl.presets.base:Task: multiclass\n",
            "\n"
          ]
        },
        {
          "name": "stdout",
          "output_type": "stream",
          "text": [
            "[06:28:16] Start automl preset with listed constraints:\n"
          ]
        },
        {
          "name": "stderr",
          "output_type": "stream",
          "text": [
            "INFO:lightautoml.automl.presets.base:Start automl preset with listed constraints:\n"
          ]
        },
        {
          "name": "stdout",
          "output_type": "stream",
          "text": [
            "[06:28:16] - time: 200.00 seconds\n"
          ]
        },
        {
          "name": "stderr",
          "output_type": "stream",
          "text": [
            "INFO:lightautoml.automl.presets.base:- time: 200.00 seconds\n"
          ]
        },
        {
          "name": "stdout",
          "output_type": "stream",
          "text": [
            "[06:28:16] - CPU: 8 cores\n"
          ]
        },
        {
          "name": "stderr",
          "output_type": "stream",
          "text": [
            "INFO:lightautoml.automl.presets.base:- CPU: 8 cores\n"
          ]
        },
        {
          "name": "stdout",
          "output_type": "stream",
          "text": [
            "[06:28:16] - memory: 45 GB\n",
            "\n"
          ]
        },
        {
          "name": "stderr",
          "output_type": "stream",
          "text": [
            "INFO:lightautoml.automl.presets.base:- memory: 45 GB\n",
            "\n"
          ]
        },
        {
          "name": "stdout",
          "output_type": "stream",
          "text": [
            "[06:28:16] \u001b[1mTrain data shape: (120000, 3)\u001b[0m\n",
            "\n"
          ]
        },
        {
          "name": "stderr",
          "output_type": "stream",
          "text": [
            "INFO:lightautoml.reader.base:\u001b[1mTrain data shape: (120000, 3)\u001b[0m\n",
            "\n"
          ]
        },
        {
          "name": "stdout",
          "output_type": "stream",
          "text": [
            "[06:28:18] Feats was rejected during automatic roles guess: []\n"
          ]
        },
        {
          "name": "stderr",
          "output_type": "stream",
          "text": [
            "INFO3:lightautoml.reader.base:Feats was rejected during automatic roles guess: []\n"
          ]
        },
        {
          "name": "stdout",
          "output_type": "stream",
          "text": [
            "[06:28:18] Layer \u001b[1m1\u001b[0m train process start. Time left 198.15 secs\n"
          ]
        },
        {
          "name": "stderr",
          "output_type": "stream",
          "text": [
            "INFO:lightautoml.automl.base:Layer \u001b[1m1\u001b[0m train process start. Time left 198.15 secs\n"
          ]
        },
        {
          "name": "stdout",
          "output_type": "stream",
          "text": [
            "[06:28:19] number of text features: 1 \n"
          ]
        },
        {
          "name": "stderr",
          "output_type": "stream",
          "text": [
            "DEBUG:lightautoml.ml_algo.dl_model:number of text features: 1 \n"
          ]
        },
        {
          "name": "stdout",
          "output_type": "stream",
          "text": [
            "[06:28:19] number of categorical features: 0 \n"
          ]
        },
        {
          "name": "stderr",
          "output_type": "stream",
          "text": [
            "DEBUG:lightautoml.ml_algo.dl_model:number of categorical features: 0 \n"
          ]
        },
        {
          "name": "stdout",
          "output_type": "stream",
          "text": [
            "[06:28:19] number of continuous features: 1 \n"
          ]
        },
        {
          "name": "stderr",
          "output_type": "stream",
          "text": [
            "DEBUG:lightautoml.ml_algo.dl_model:number of continuous features: 1 \n"
          ]
        },
        {
          "name": "stdout",
          "output_type": "stream",
          "text": [
            "[06:28:19] Start fitting \u001b[1mLvl_0_Pipe_0_Mod_0_TorchNN__linear_layer_0\u001b[0m ...\n"
          ]
        },
        {
          "name": "stderr",
          "output_type": "stream",
          "text": [
            "INFO:lightautoml.ml_algo.base:Start fitting \u001b[1mLvl_0_Pipe_0_Mod_0_TorchNN__linear_layer_0\u001b[0m ...\n"
          ]
        },
        {
          "name": "stdout",
          "output_type": "stream",
          "text": [
            "[06:28:19] Training params: {'num_workers': 4, 'pin_memory': False, 'max_length': 256, 'is_snap': False, 'input_bn': False, 'max_emb_size': 50, 'bert_name': 'prajjwal1/bert-tiny', 'pooling': 'cls', 'device': device(type='cuda', index=0), 'use_cont': True, 'use_cat': True, 'use_text': True, 'lang': 'en', 'deterministic': False, 'multigpu': False, 'random_state': 42, 'model': '_linear_layer', 'model_with_emb': False, 'path_to_save': None, 'verbose_inside': None, 'verbose': 1, 'n_epochs': 20, 'snap_params': {'k': 1, 'early_stopping': True, 'patience': 1, 'swa': False}, 'bs': 16, 'emb_dropout': 0.1, 'emb_ratio': 3, 'opt': <class 'torch.optim.adam.Adam'>, 'opt_params': {'lr': 1e-05}, 'sch': <class 'torch.optim.lr_scheduler.ReduceLROnPlateau'>, 'scheduler_params': {'patience': 5, 'factor': 0.5, 'verbose': True}, 'loss': None, 'loss_params': {}, 'loss_on_logits': True, 'clip_grad': False, 'clip_grad_params': {}, 'init_bias': True, 'dataset': <class 'lightautoml.text.nn_model.UniversalDataset'>, 'tuned': False, 'optimization_search_space': None, 'verbose_bar': False, 'freeze_defaults': False, 'n_out': 6, 'hid_factor': [2, 2], 'hidden_size': [512, 512, 512], 'block_config': [2, 2], 'compression': 0.5, 'growth_size': 256, 'bn_factor': 2, 'drop_rate': 0.1, 'noise_std': 0.05, 'num_init_features': None, 'act_fun': <class 'torch.nn.modules.activation.ReLU'>, 'use_noise': False, 'use_bn': True, 'embedding_size': 10, 'cat_embedder': 'cat', 'cont_embedder': 'cont', 'stop_by_metric': False, 'batch_size': 32, 'epochs': 12, 'learning_rate': 0.07942044251934417, 'layers': [61, 28], 'dropout': 0.35245300241493627, 'device_ids': None, 'num_dims': 1, 'text_features': ['concated__review_text'], 'bias': array([-3.39447006, -3.44514927, -2.49738417, -1.55898247, -1.06057015,\n",
            "       -1.21863533])}\n"
          ]
        },
        {
          "name": "stderr",
          "output_type": "stream",
          "text": [
            "DEBUG:lightautoml.ml_algo.base:Training params: {'num_workers': 4, 'pin_memory': False, 'max_length': 256, 'is_snap': False, 'input_bn': False, 'max_emb_size': 50, 'bert_name': 'prajjwal1/bert-tiny', 'pooling': 'cls', 'device': device(type='cuda', index=0), 'use_cont': True, 'use_cat': True, 'use_text': True, 'lang': 'en', 'deterministic': False, 'multigpu': False, 'random_state': 42, 'model': '_linear_layer', 'model_with_emb': False, 'path_to_save': None, 'verbose_inside': None, 'verbose': 1, 'n_epochs': 20, 'snap_params': {'k': 1, 'early_stopping': True, 'patience': 1, 'swa': False}, 'bs': 16, 'emb_dropout': 0.1, 'emb_ratio': 3, 'opt': <class 'torch.optim.adam.Adam'>, 'opt_params': {'lr': 1e-05}, 'sch': <class 'torch.optim.lr_scheduler.ReduceLROnPlateau'>, 'scheduler_params': {'patience': 5, 'factor': 0.5, 'verbose': True}, 'loss': None, 'loss_params': {}, 'loss_on_logits': True, 'clip_grad': False, 'clip_grad_params': {}, 'init_bias': True, 'dataset': <class 'lightautoml.text.nn_model.UniversalDataset'>, 'tuned': False, 'optimization_search_space': None, 'verbose_bar': False, 'freeze_defaults': False, 'n_out': 6, 'hid_factor': [2, 2], 'hidden_size': [512, 512, 512], 'block_config': [2, 2], 'compression': 0.5, 'growth_size': 256, 'bn_factor': 2, 'drop_rate': 0.1, 'noise_std': 0.05, 'num_init_features': None, 'act_fun': <class 'torch.nn.modules.activation.ReLU'>, 'use_noise': False, 'use_bn': True, 'embedding_size': 10, 'cat_embedder': 'cat', 'cont_embedder': 'cont', 'stop_by_metric': False, 'batch_size': 32, 'epochs': 12, 'learning_rate': 0.07942044251934417, 'layers': [61, 28], 'dropout': 0.35245300241493627, 'device_ids': None, 'num_dims': 1, 'text_features': ['concated__review_text'], 'bias': array([-3.39447006, -3.44514927, -2.49738417, -1.55898247, -1.06057015,\n",
            "       -1.21863533])}\n"
          ]
        },
        {
          "name": "stdout",
          "output_type": "stream",
          "text": [
            "[06:28:19] ===== Start working with \u001b[1mfold 0\u001b[0m for \u001b[1mLvl_0_Pipe_0_Mod_0_TorchNN__linear_layer_0\u001b[0m =====\n"
          ]
        },
        {
          "name": "stderr",
          "output_type": "stream",
          "text": [
            "INFO2:lightautoml.ml_algo.base:===== Start working with \u001b[1mfold 0\u001b[0m for \u001b[1mLvl_0_Pipe_0_Mod_0_TorchNN__linear_layer_0\u001b[0m =====\n"
          ]
        },
        {
          "name": "stdout",
          "output_type": "stream",
          "text": [
            "[06:28:20] Last linear layer not founded, so init_bias=False\n"
          ]
        },
        {
          "name": "stderr",
          "output_type": "stream",
          "text": [
            "INFO3:lightautoml.text.nn_model:Last linear layer not founded, so init_bias=False\n"
          ]
        },
        {
          "name": "stdout",
          "output_type": "stream",
          "text": [
            "[06:31:29] Epoch: 0, train loss: 1.7589328289031982, val loss: 1.5567035675048828, val metric: 0.40299081862641545\n"
          ]
        },
        {
          "name": "stderr",
          "output_type": "stream",
          "text": [
            "INFO3:lightautoml.text.trainer:Epoch: 0, train loss: 1.7589328289031982, val loss: 1.5567035675048828, val metric: 0.40299081862641545\n"
          ]
        },
        {
          "name": "stdout",
          "output_type": "stream",
          "text": [
            "[06:34:41] Epoch: 1, train loss: 1.5524877309799194, val loss: 1.4306561946868896, val metric: 0.46286428733276636\n"
          ]
        },
        {
          "name": "stderr",
          "output_type": "stream",
          "text": [
            "INFO3:lightautoml.text.trainer:Epoch: 1, train loss: 1.5524877309799194, val loss: 1.4306561946868896, val metric: 0.46286428733276636\n"
          ]
        },
        {
          "name": "stdout",
          "output_type": "stream",
          "text": [
            "[06:37:51] Epoch: 2, train loss: 1.4595576524734497, val loss: 1.3424721956253052, val metric: 0.48826521158073327\n"
          ]
        },
        {
          "name": "stderr",
          "output_type": "stream",
          "text": [
            "INFO3:lightautoml.text.trainer:Epoch: 2, train loss: 1.4595576524734497, val loss: 1.3424721956253052, val metric: 0.48826521158073327\n"
          ]
        },
        {
          "name": "stdout",
          "output_type": "stream",
          "text": [
            "[06:41:05] Epoch: 3, train loss: 1.3957511186599731, val loss: 1.3199001550674438, val metric: 0.4999337907169759\n"
          ]
        },
        {
          "name": "stderr",
          "output_type": "stream",
          "text": [
            "INFO3:lightautoml.text.trainer:Epoch: 3, train loss: 1.3957511186599731, val loss: 1.3199001550674438, val metric: 0.4999337907169759\n"
          ]
        },
        {
          "name": "stdout",
          "output_type": "stream",
          "text": [
            "[06:44:15] Epoch: 4, train loss: 1.3450257778167725, val loss: 1.2824050188064575, val metric: 0.5156056965695017\n"
          ]
        },
        {
          "name": "stderr",
          "output_type": "stream",
          "text": [
            "INFO3:lightautoml.text.trainer:Epoch: 4, train loss: 1.3450257778167725, val loss: 1.2824050188064575, val metric: 0.5156056965695017\n"
          ]
        },
        {
          "name": "stdout",
          "output_type": "stream",
          "text": [
            "[06:47:22] Epoch: 5, train loss: 1.3048114776611328, val loss: 1.2407348155975342, val metric: 0.525196409112727\n"
          ]
        },
        {
          "name": "stderr",
          "output_type": "stream",
          "text": [
            "INFO3:lightautoml.text.trainer:Epoch: 5, train loss: 1.3048114776611328, val loss: 1.2407348155975342, val metric: 0.525196409112727\n"
          ]
        },
        {
          "name": "stdout",
          "output_type": "stream",
          "text": [
            "[06:50:30] Epoch: 6, train loss: 1.2696760892868042, val loss: 1.2277281284332275, val metric: 0.5214864552383631\n"
          ]
        },
        {
          "name": "stderr",
          "output_type": "stream",
          "text": [
            "INFO3:lightautoml.text.trainer:Epoch: 6, train loss: 1.2696760892868042, val loss: 1.2277281284332275, val metric: 0.5214864552383631\n"
          ]
        },
        {
          "name": "stdout",
          "output_type": "stream",
          "text": [
            "[06:53:37] Epoch: 7, train loss: 1.2377524375915527, val loss: 1.1917978525161743, val metric: 0.5288002491610103\n"
          ]
        },
        {
          "name": "stderr",
          "output_type": "stream",
          "text": [
            "INFO3:lightautoml.text.trainer:Epoch: 7, train loss: 1.2377524375915527, val loss: 1.1917978525161743, val metric: 0.5288002491610103\n"
          ]
        },
        {
          "name": "stdout",
          "output_type": "stream",
          "text": [
            "[06:56:46] Epoch: 8, train loss: 1.2110968828201294, val loss: 1.1985125541687012, val metric: 0.5330227529330578\n"
          ]
        },
        {
          "name": "stderr",
          "output_type": "stream",
          "text": [
            "INFO3:lightautoml.text.trainer:Epoch: 8, train loss: 1.2110968828201294, val loss: 1.1985125541687012, val metric: 0.5330227529330578\n"
          ]
        },
        {
          "name": "stdout",
          "output_type": "stream",
          "text": [
            "[06:56:46] Time limit exceeded after calculating fold 0\n",
            "\n"
          ]
        },
        {
          "name": "stderr",
          "output_type": "stream",
          "text": [
            "INFO:lightautoml.ml_algo.base:Time limit exceeded after calculating fold 0\n",
            "\n"
          ]
        },
        {
          "name": "stdout",
          "output_type": "stream",
          "text": [
            "[06:56:46] Fitting \u001b[1mLvl_0_Pipe_0_Mod_0_TorchNN__linear_layer_0\u001b[0m finished. score = \u001b[1m0.5330227529330578\u001b[0m\n"
          ]
        },
        {
          "name": "stderr",
          "output_type": "stream",
          "text": [
            "INFO:lightautoml.ml_algo.base:Fitting \u001b[1mLvl_0_Pipe_0_Mod_0_TorchNN__linear_layer_0\u001b[0m finished. score = \u001b[1m0.5330227529330578\u001b[0m\n"
          ]
        },
        {
          "name": "stdout",
          "output_type": "stream",
          "text": [
            "[06:56:46] \u001b[1mLvl_0_Pipe_0_Mod_0_TorchNN__linear_layer_0\u001b[0m fitting and predicting completed\n"
          ]
        },
        {
          "name": "stderr",
          "output_type": "stream",
          "text": [
            "INFO:lightautoml.ml_algo.base:\u001b[1mLvl_0_Pipe_0_Mod_0_TorchNN__linear_layer_0\u001b[0m fitting and predicting completed\n"
          ]
        },
        {
          "name": "stdout",
          "output_type": "stream",
          "text": [
            "[06:56:46] Time left -1510.26 secs\n",
            "\n"
          ]
        },
        {
          "name": "stderr",
          "output_type": "stream",
          "text": [
            "INFO:lightautoml.automl.base:Time left -1510.26 secs\n",
            "\n"
          ]
        },
        {
          "name": "stdout",
          "output_type": "stream",
          "text": [
            "[06:56:46] Time limit exceeded. Last level models will be blended and unused pipelines will be pruned.\n",
            "\n"
          ]
        },
        {
          "name": "stderr",
          "output_type": "stream",
          "text": [
            "INFO:lightautoml.automl.base:Time limit exceeded. Last level models will be blended and unused pipelines will be pruned.\n",
            "\n"
          ]
        },
        {
          "name": "stdout",
          "output_type": "stream",
          "text": [
            "[06:56:46] \u001b[1mLayer 1 training completed.\u001b[0m\n",
            "\n"
          ]
        },
        {
          "name": "stderr",
          "output_type": "stream",
          "text": [
            "INFO:lightautoml.automl.base:\u001b[1mLayer 1 training completed.\u001b[0m\n",
            "\n"
          ]
        },
        {
          "name": "stdout",
          "output_type": "stream",
          "text": [
            "[06:56:46] \u001b[1mAutoml preset training completed in 1710.27 seconds\u001b[0m\n",
            "\n"
          ]
        },
        {
          "name": "stderr",
          "output_type": "stream",
          "text": [
            "INFO:lightautoml.automl.presets.base:\u001b[1mAutoml preset training completed in 1710.27 seconds\u001b[0m\n",
            "\n"
          ]
        },
        {
          "name": "stdout",
          "output_type": "stream",
          "text": [
            "[06:56:46] Model description:\n",
            "Final prediction for new objects (level 0) = \n",
            "\t 1.00000 * (1 averaged models Lvl_0_Pipe_0_Mod_0_TorchNN__linear_layer_0) \n",
            "\n"
          ]
        },
        {
          "name": "stderr",
          "output_type": "stream",
          "text": [
            "INFO:lightautoml.automl.presets.base:Model description:\n",
            "Final prediction for new objects (level 0) = \n",
            "\t 1.00000 * (1 averaged models Lvl_0_Pipe_0_Mod_0_TorchNN__linear_layer_0) \n",
            "\n"
          ]
        },
        {
          "name": "stdout",
          "output_type": "stream",
          "text": [
            "[06:56:48] Last linear layer not founded, so init_bias=False\n"
          ]
        },
        {
          "name": "stderr",
          "output_type": "stream",
          "text": [
            "INFO3:lightautoml.text.nn_model:Last linear layer not founded, so init_bias=False\n",
            "INFO:optuna.study.study:Trial 0 finished with value: 0.5279618363937382 and parameters: {'batch_size': 32, 'epochs': 12, 'learning_rate': 0.07942044251934417, 'layer1_units': 61, 'layer2_units': 28, 'dropout': 0.35245300241493627}. Best is trial 0 with value: 0.5279618363937382.\n"
          ]
        },
        {
          "name": "stdout",
          "output_type": "stream",
          "text": [
            "[06:57:33] Stdout logging level is DEBUG.\n"
          ]
        },
        {
          "name": "stderr",
          "output_type": "stream",
          "text": [
            "INFO:lightautoml.automl.presets.base:Stdout logging level is DEBUG.\n"
          ]
        },
        {
          "name": "stdout",
          "output_type": "stream",
          "text": [
            "[06:57:33] Model language mode: en\n"
          ]
        },
        {
          "name": "stderr",
          "output_type": "stream",
          "text": [
            "INFO3:lightautoml.automl.presets.text_presets:Model language mode: en\n"
          ]
        },
        {
          "name": "stdout",
          "output_type": "stream",
          "text": [
            "[06:57:33] Task: multiclass\n",
            "\n"
          ]
        },
        {
          "name": "stderr",
          "output_type": "stream",
          "text": [
            "INFO:lightautoml.automl.presets.base:Task: multiclass\n",
            "\n"
          ]
        },
        {
          "name": "stdout",
          "output_type": "stream",
          "text": [
            "[06:57:33] Start automl preset with listed constraints:\n"
          ]
        },
        {
          "name": "stderr",
          "output_type": "stream",
          "text": [
            "INFO:lightautoml.automl.presets.base:Start automl preset with listed constraints:\n"
          ]
        },
        {
          "name": "stdout",
          "output_type": "stream",
          "text": [
            "[06:57:33] - time: 200.00 seconds\n"
          ]
        },
        {
          "name": "stderr",
          "output_type": "stream",
          "text": [
            "INFO:lightautoml.automl.presets.base:- time: 200.00 seconds\n"
          ]
        },
        {
          "name": "stdout",
          "output_type": "stream",
          "text": [
            "[06:57:33] - CPU: 8 cores\n"
          ]
        },
        {
          "name": "stderr",
          "output_type": "stream",
          "text": [
            "INFO:lightautoml.automl.presets.base:- CPU: 8 cores\n"
          ]
        },
        {
          "name": "stdout",
          "output_type": "stream",
          "text": [
            "[06:57:33] - memory: 45 GB\n",
            "\n"
          ]
        },
        {
          "name": "stderr",
          "output_type": "stream",
          "text": [
            "INFO:lightautoml.automl.presets.base:- memory: 45 GB\n",
            "\n"
          ]
        },
        {
          "name": "stdout",
          "output_type": "stream",
          "text": [
            "[06:57:33] \u001b[1mTrain data shape: (120000, 3)\u001b[0m\n",
            "\n"
          ]
        },
        {
          "name": "stderr",
          "output_type": "stream",
          "text": [
            "INFO:lightautoml.reader.base:\u001b[1mTrain data shape: (120000, 3)\u001b[0m\n",
            "\n"
          ]
        },
        {
          "name": "stdout",
          "output_type": "stream",
          "text": [
            "[06:57:34] Feats was rejected during automatic roles guess: []\n"
          ]
        },
        {
          "name": "stderr",
          "output_type": "stream",
          "text": [
            "INFO3:lightautoml.reader.base:Feats was rejected during automatic roles guess: []\n"
          ]
        },
        {
          "name": "stdout",
          "output_type": "stream",
          "text": [
            "[06:57:35] Layer \u001b[1m1\u001b[0m train process start. Time left 198.41 secs\n"
          ]
        },
        {
          "name": "stderr",
          "output_type": "stream",
          "text": [
            "INFO:lightautoml.automl.base:Layer \u001b[1m1\u001b[0m train process start. Time left 198.41 secs\n"
          ]
        },
        {
          "name": "stdout",
          "output_type": "stream",
          "text": [
            "[06:57:35] number of text features: 1 \n"
          ]
        },
        {
          "name": "stderr",
          "output_type": "stream",
          "text": [
            "DEBUG:lightautoml.ml_algo.dl_model:number of text features: 1 \n"
          ]
        },
        {
          "name": "stdout",
          "output_type": "stream",
          "text": [
            "[06:57:35] number of categorical features: 0 \n"
          ]
        },
        {
          "name": "stderr",
          "output_type": "stream",
          "text": [
            "DEBUG:lightautoml.ml_algo.dl_model:number of categorical features: 0 \n"
          ]
        },
        {
          "name": "stdout",
          "output_type": "stream",
          "text": [
            "[06:57:35] number of continuous features: 1 \n"
          ]
        },
        {
          "name": "stderr",
          "output_type": "stream",
          "text": [
            "DEBUG:lightautoml.ml_algo.dl_model:number of continuous features: 1 \n"
          ]
        },
        {
          "name": "stdout",
          "output_type": "stream",
          "text": [
            "[06:57:35] Start fitting \u001b[1mLvl_0_Pipe_0_Mod_0_TorchNN__linear_layer_0\u001b[0m ...\n"
          ]
        },
        {
          "name": "stderr",
          "output_type": "stream",
          "text": [
            "INFO:lightautoml.ml_algo.base:Start fitting \u001b[1mLvl_0_Pipe_0_Mod_0_TorchNN__linear_layer_0\u001b[0m ...\n"
          ]
        },
        {
          "name": "stdout",
          "output_type": "stream",
          "text": [
            "[06:57:35] Training params: {'num_workers': 4, 'pin_memory': False, 'max_length': 256, 'is_snap': False, 'input_bn': False, 'max_emb_size': 50, 'bert_name': 'prajjwal1/bert-tiny', 'pooling': 'cls', 'device': device(type='cuda', index=0), 'use_cont': True, 'use_cat': True, 'use_text': True, 'lang': 'en', 'deterministic': False, 'multigpu': False, 'random_state': 42, 'model': '_linear_layer', 'model_with_emb': False, 'path_to_save': None, 'verbose_inside': None, 'verbose': 1, 'n_epochs': 20, 'snap_params': {'k': 1, 'early_stopping': True, 'patience': 1, 'swa': False}, 'bs': 16, 'emb_dropout': 0.1, 'emb_ratio': 3, 'opt': <class 'torch.optim.adam.Adam'>, 'opt_params': {'lr': 1e-05}, 'sch': <class 'torch.optim.lr_scheduler.ReduceLROnPlateau'>, 'scheduler_params': {'patience': 5, 'factor': 0.5, 'verbose': True}, 'loss': None, 'loss_params': {}, 'loss_on_logits': True, 'clip_grad': False, 'clip_grad_params': {}, 'init_bias': True, 'dataset': <class 'lightautoml.text.nn_model.UniversalDataset'>, 'tuned': False, 'optimization_search_space': None, 'verbose_bar': False, 'freeze_defaults': False, 'n_out': 6, 'hid_factor': [2, 2], 'hidden_size': [512, 512, 512], 'block_config': [2, 2], 'compression': 0.5, 'growth_size': 256, 'bn_factor': 2, 'drop_rate': 0.1, 'noise_std': 0.05, 'num_init_features': None, 'act_fun': <class 'torch.nn.modules.activation.ReLU'>, 'use_noise': False, 'use_bn': True, 'embedding_size': 10, 'cat_embedder': 'cat', 'cont_embedder': 'cont', 'stop_by_metric': False, 'batch_size': 64, 'epochs': 5, 'learning_rate': 0.07734080007774582, 'layers': [90, 20], 'dropout': 0.11531116470486694, 'device_ids': None, 'num_dims': 1, 'text_features': ['concated__review_text'], 'bias': array([-3.39447006, -3.44514927, -2.49738417, -1.55898247, -1.06057015,\n",
            "       -1.21863533])}\n"
          ]
        },
        {
          "name": "stderr",
          "output_type": "stream",
          "text": [
            "DEBUG:lightautoml.ml_algo.base:Training params: {'num_workers': 4, 'pin_memory': False, 'max_length': 256, 'is_snap': False, 'input_bn': False, 'max_emb_size': 50, 'bert_name': 'prajjwal1/bert-tiny', 'pooling': 'cls', 'device': device(type='cuda', index=0), 'use_cont': True, 'use_cat': True, 'use_text': True, 'lang': 'en', 'deterministic': False, 'multigpu': False, 'random_state': 42, 'model': '_linear_layer', 'model_with_emb': False, 'path_to_save': None, 'verbose_inside': None, 'verbose': 1, 'n_epochs': 20, 'snap_params': {'k': 1, 'early_stopping': True, 'patience': 1, 'swa': False}, 'bs': 16, 'emb_dropout': 0.1, 'emb_ratio': 3, 'opt': <class 'torch.optim.adam.Adam'>, 'opt_params': {'lr': 1e-05}, 'sch': <class 'torch.optim.lr_scheduler.ReduceLROnPlateau'>, 'scheduler_params': {'patience': 5, 'factor': 0.5, 'verbose': True}, 'loss': None, 'loss_params': {}, 'loss_on_logits': True, 'clip_grad': False, 'clip_grad_params': {}, 'init_bias': True, 'dataset': <class 'lightautoml.text.nn_model.UniversalDataset'>, 'tuned': False, 'optimization_search_space': None, 'verbose_bar': False, 'freeze_defaults': False, 'n_out': 6, 'hid_factor': [2, 2], 'hidden_size': [512, 512, 512], 'block_config': [2, 2], 'compression': 0.5, 'growth_size': 256, 'bn_factor': 2, 'drop_rate': 0.1, 'noise_std': 0.05, 'num_init_features': None, 'act_fun': <class 'torch.nn.modules.activation.ReLU'>, 'use_noise': False, 'use_bn': True, 'embedding_size': 10, 'cat_embedder': 'cat', 'cont_embedder': 'cont', 'stop_by_metric': False, 'batch_size': 64, 'epochs': 5, 'learning_rate': 0.07734080007774582, 'layers': [90, 20], 'dropout': 0.11531116470486694, 'device_ids': None, 'num_dims': 1, 'text_features': ['concated__review_text'], 'bias': array([-3.39447006, -3.44514927, -2.49738417, -1.55898247, -1.06057015,\n",
            "       -1.21863533])}\n"
          ]
        },
        {
          "name": "stdout",
          "output_type": "stream",
          "text": [
            "[06:57:35] ===== Start working with \u001b[1mfold 0\u001b[0m for \u001b[1mLvl_0_Pipe_0_Mod_0_TorchNN__linear_layer_0\u001b[0m =====\n"
          ]
        },
        {
          "name": "stderr",
          "output_type": "stream",
          "text": [
            "INFO2:lightautoml.ml_algo.base:===== Start working with \u001b[1mfold 0\u001b[0m for \u001b[1mLvl_0_Pipe_0_Mod_0_TorchNN__linear_layer_0\u001b[0m =====\n"
          ]
        },
        {
          "name": "stdout",
          "output_type": "stream",
          "text": [
            "[06:57:37] Last linear layer not founded, so init_bias=False\n"
          ]
        },
        {
          "name": "stderr",
          "output_type": "stream",
          "text": [
            "INFO3:lightautoml.text.nn_model:Last linear layer not founded, so init_bias=False\n"
          ]
        },
        {
          "name": "stdout",
          "output_type": "stream",
          "text": [
            "[07:00:48] Epoch: 0, train loss: 1.7589328289031982, val loss: 1.5567035675048828, val metric: 0.40299081862641545\n"
          ]
        },
        {
          "name": "stderr",
          "output_type": "stream",
          "text": [
            "INFO3:lightautoml.text.trainer:Epoch: 0, train loss: 1.7589328289031982, val loss: 1.5567035675048828, val metric: 0.40299081862641545\n"
          ]
        },
        {
          "name": "stdout",
          "output_type": "stream",
          "text": [
            "[07:03:58] Epoch: 1, train loss: 1.5524877309799194, val loss: 1.4306561946868896, val metric: 0.46286428733276636\n"
          ]
        },
        {
          "name": "stderr",
          "output_type": "stream",
          "text": [
            "INFO3:lightautoml.text.trainer:Epoch: 1, train loss: 1.5524877309799194, val loss: 1.4306561946868896, val metric: 0.46286428733276636\n"
          ]
        },
        {
          "name": "stdout",
          "output_type": "stream",
          "text": [
            "[07:07:05] Epoch: 2, train loss: 1.4595576524734497, val loss: 1.3424721956253052, val metric: 0.48826521158073327\n"
          ]
        },
        {
          "name": "stderr",
          "output_type": "stream",
          "text": [
            "INFO3:lightautoml.text.trainer:Epoch: 2, train loss: 1.4595576524734497, val loss: 1.3424721956253052, val metric: 0.48826521158073327\n"
          ]
        },
        {
          "name": "stdout",
          "output_type": "stream",
          "text": [
            "[07:10:15] Epoch: 3, train loss: 1.3957511186599731, val loss: 1.3199001550674438, val metric: 0.4999337907169759\n"
          ]
        },
        {
          "name": "stderr",
          "output_type": "stream",
          "text": [
            "INFO3:lightautoml.text.trainer:Epoch: 3, train loss: 1.3957511186599731, val loss: 1.3199001550674438, val metric: 0.4999337907169759\n"
          ]
        },
        {
          "name": "stdout",
          "output_type": "stream",
          "text": [
            "[07:13:23] Epoch: 4, train loss: 1.3450257778167725, val loss: 1.2824050188064575, val metric: 0.5156056965695017\n"
          ]
        },
        {
          "name": "stderr",
          "output_type": "stream",
          "text": [
            "INFO3:lightautoml.text.trainer:Epoch: 4, train loss: 1.3450257778167725, val loss: 1.2824050188064575, val metric: 0.5156056965695017\n"
          ]
        },
        {
          "name": "stdout",
          "output_type": "stream",
          "text": [
            "[07:16:31] Epoch: 5, train loss: 1.3048114776611328, val loss: 1.2407348155975342, val metric: 0.525196409112727\n"
          ]
        },
        {
          "name": "stderr",
          "output_type": "stream",
          "text": [
            "INFO3:lightautoml.text.trainer:Epoch: 5, train loss: 1.3048114776611328, val loss: 1.2407348155975342, val metric: 0.525196409112727\n"
          ]
        },
        {
          "name": "stdout",
          "output_type": "stream",
          "text": [
            "[07:19:40] Epoch: 6, train loss: 1.2696760892868042, val loss: 1.2277281284332275, val metric: 0.5214864552383631\n"
          ]
        },
        {
          "name": "stderr",
          "output_type": "stream",
          "text": [
            "INFO3:lightautoml.text.trainer:Epoch: 6, train loss: 1.2696760892868042, val loss: 1.2277281284332275, val metric: 0.5214864552383631\n"
          ]
        },
        {
          "name": "stdout",
          "output_type": "stream",
          "text": [
            "[07:22:47] Epoch: 7, train loss: 1.2377524375915527, val loss: 1.1917978525161743, val metric: 0.5288002491610103\n"
          ]
        },
        {
          "name": "stderr",
          "output_type": "stream",
          "text": [
            "INFO3:lightautoml.text.trainer:Epoch: 7, train loss: 1.2377524375915527, val loss: 1.1917978525161743, val metric: 0.5288002491610103\n"
          ]
        },
        {
          "name": "stdout",
          "output_type": "stream",
          "text": [
            "[07:25:58] Epoch: 8, train loss: 1.2110968828201294, val loss: 1.1985125541687012, val metric: 0.5330227529330578\n"
          ]
        },
        {
          "name": "stderr",
          "output_type": "stream",
          "text": [
            "INFO3:lightautoml.text.trainer:Epoch: 8, train loss: 1.2110968828201294, val loss: 1.1985125541687012, val metric: 0.5330227529330578\n"
          ]
        },
        {
          "name": "stdout",
          "output_type": "stream",
          "text": [
            "[07:25:58] Time limit exceeded after calculating fold 0\n",
            "\n"
          ]
        },
        {
          "name": "stderr",
          "output_type": "stream",
          "text": [
            "INFO:lightautoml.ml_algo.base:Time limit exceeded after calculating fold 0\n",
            "\n"
          ]
        },
        {
          "name": "stdout",
          "output_type": "stream",
          "text": [
            "[07:25:58] Fitting \u001b[1mLvl_0_Pipe_0_Mod_0_TorchNN__linear_layer_0\u001b[0m finished. score = \u001b[1m0.5330227529330578\u001b[0m\n"
          ]
        },
        {
          "name": "stderr",
          "output_type": "stream",
          "text": [
            "INFO:lightautoml.ml_algo.base:Fitting \u001b[1mLvl_0_Pipe_0_Mod_0_TorchNN__linear_layer_0\u001b[0m finished. score = \u001b[1m0.5330227529330578\u001b[0m\n"
          ]
        },
        {
          "name": "stdout",
          "output_type": "stream",
          "text": [
            "[07:25:58] \u001b[1mLvl_0_Pipe_0_Mod_0_TorchNN__linear_layer_0\u001b[0m fitting and predicting completed\n"
          ]
        },
        {
          "name": "stderr",
          "output_type": "stream",
          "text": [
            "INFO:lightautoml.ml_algo.base:\u001b[1mLvl_0_Pipe_0_Mod_0_TorchNN__linear_layer_0\u001b[0m fitting and predicting completed\n"
          ]
        },
        {
          "name": "stdout",
          "output_type": "stream",
          "text": [
            "[07:25:58] Time left -1505.50 secs\n",
            "\n"
          ]
        },
        {
          "name": "stderr",
          "output_type": "stream",
          "text": [
            "INFO:lightautoml.automl.base:Time left -1505.50 secs\n",
            "\n"
          ]
        },
        {
          "name": "stdout",
          "output_type": "stream",
          "text": [
            "[07:25:58] Time limit exceeded. Last level models will be blended and unused pipelines will be pruned.\n",
            "\n"
          ]
        },
        {
          "name": "stderr",
          "output_type": "stream",
          "text": [
            "INFO:lightautoml.automl.base:Time limit exceeded. Last level models will be blended and unused pipelines will be pruned.\n",
            "\n"
          ]
        },
        {
          "name": "stdout",
          "output_type": "stream",
          "text": [
            "[07:25:58] \u001b[1mLayer 1 training completed.\u001b[0m\n",
            "\n"
          ]
        },
        {
          "name": "stderr",
          "output_type": "stream",
          "text": [
            "INFO:lightautoml.automl.base:\u001b[1mLayer 1 training completed.\u001b[0m\n",
            "\n"
          ]
        },
        {
          "name": "stdout",
          "output_type": "stream",
          "text": [
            "[07:25:59] \u001b[1mAutoml preset training completed in 1705.60 seconds\u001b[0m\n",
            "\n"
          ]
        },
        {
          "name": "stderr",
          "output_type": "stream",
          "text": [
            "INFO:lightautoml.automl.presets.base:\u001b[1mAutoml preset training completed in 1705.60 seconds\u001b[0m\n",
            "\n"
          ]
        },
        {
          "name": "stdout",
          "output_type": "stream",
          "text": [
            "[07:25:59] Model description:\n",
            "Final prediction for new objects (level 0) = \n",
            "\t 1.00000 * (1 averaged models Lvl_0_Pipe_0_Mod_0_TorchNN__linear_layer_0) \n",
            "\n"
          ]
        },
        {
          "name": "stderr",
          "output_type": "stream",
          "text": [
            "INFO:lightautoml.automl.presets.base:Model description:\n",
            "Final prediction for new objects (level 0) = \n",
            "\t 1.00000 * (1 averaged models Lvl_0_Pipe_0_Mod_0_TorchNN__linear_layer_0) \n",
            "\n"
          ]
        },
        {
          "name": "stdout",
          "output_type": "stream",
          "text": [
            "[07:26:00] Last linear layer not founded, so init_bias=False\n"
          ]
        },
        {
          "name": "stderr",
          "output_type": "stream",
          "text": [
            "INFO3:lightautoml.text.nn_model:Last linear layer not founded, so init_bias=False\n",
            "INFO:optuna.study.study:Trial 1 finished with value: 0.5279618363937382 and parameters: {'batch_size': 64, 'epochs': 5, 'learning_rate': 0.07734080007774582, 'layer1_units': 90, 'layer2_units': 20, 'dropout': 0.11531116470486694}. Best is trial 0 with value: 0.5279618363937382.\n"
          ]
        },
        {
          "name": "stdout",
          "output_type": "stream",
          "text": [
            "[07:26:45] Stdout logging level is DEBUG.\n"
          ]
        },
        {
          "name": "stderr",
          "output_type": "stream",
          "text": [
            "INFO:lightautoml.automl.presets.base:Stdout logging level is DEBUG.\n"
          ]
        },
        {
          "name": "stdout",
          "output_type": "stream",
          "text": [
            "[07:26:45] Model language mode: en\n"
          ]
        },
        {
          "name": "stderr",
          "output_type": "stream",
          "text": [
            "INFO3:lightautoml.automl.presets.text_presets:Model language mode: en\n"
          ]
        },
        {
          "name": "stdout",
          "output_type": "stream",
          "text": [
            "[07:26:45] Task: multiclass\n",
            "\n"
          ]
        },
        {
          "name": "stderr",
          "output_type": "stream",
          "text": [
            "INFO:lightautoml.automl.presets.base:Task: multiclass\n",
            "\n"
          ]
        },
        {
          "name": "stdout",
          "output_type": "stream",
          "text": [
            "[07:26:45] Start automl preset with listed constraints:\n"
          ]
        },
        {
          "name": "stderr",
          "output_type": "stream",
          "text": [
            "INFO:lightautoml.automl.presets.base:Start automl preset with listed constraints:\n"
          ]
        },
        {
          "name": "stdout",
          "output_type": "stream",
          "text": [
            "[07:26:45] - time: 200.00 seconds\n"
          ]
        },
        {
          "name": "stderr",
          "output_type": "stream",
          "text": [
            "INFO:lightautoml.automl.presets.base:- time: 200.00 seconds\n"
          ]
        },
        {
          "name": "stdout",
          "output_type": "stream",
          "text": [
            "[07:26:45] - CPU: 8 cores\n"
          ]
        },
        {
          "name": "stderr",
          "output_type": "stream",
          "text": [
            "INFO:lightautoml.automl.presets.base:- CPU: 8 cores\n"
          ]
        },
        {
          "name": "stdout",
          "output_type": "stream",
          "text": [
            "[07:26:45] - memory: 45 GB\n",
            "\n"
          ]
        },
        {
          "name": "stderr",
          "output_type": "stream",
          "text": [
            "INFO:lightautoml.automl.presets.base:- memory: 45 GB\n",
            "\n"
          ]
        },
        {
          "name": "stdout",
          "output_type": "stream",
          "text": [
            "[07:26:45] \u001b[1mTrain data shape: (120000, 3)\u001b[0m\n",
            "\n"
          ]
        },
        {
          "name": "stderr",
          "output_type": "stream",
          "text": [
            "INFO:lightautoml.reader.base:\u001b[1mTrain data shape: (120000, 3)\u001b[0m\n",
            "\n"
          ]
        },
        {
          "name": "stdout",
          "output_type": "stream",
          "text": [
            "[07:26:46] Feats was rejected during automatic roles guess: []\n"
          ]
        },
        {
          "name": "stderr",
          "output_type": "stream",
          "text": [
            "INFO3:lightautoml.reader.base:Feats was rejected during automatic roles guess: []\n"
          ]
        },
        {
          "name": "stdout",
          "output_type": "stream",
          "text": [
            "[07:26:46] Layer \u001b[1m1\u001b[0m train process start. Time left 198.45 secs\n"
          ]
        },
        {
          "name": "stderr",
          "output_type": "stream",
          "text": [
            "INFO:lightautoml.automl.base:Layer \u001b[1m1\u001b[0m train process start. Time left 198.45 secs\n"
          ]
        },
        {
          "name": "stdout",
          "output_type": "stream",
          "text": [
            "[07:26:47] number of text features: 1 \n"
          ]
        },
        {
          "name": "stderr",
          "output_type": "stream",
          "text": [
            "DEBUG:lightautoml.ml_algo.dl_model:number of text features: 1 \n"
          ]
        },
        {
          "name": "stdout",
          "output_type": "stream",
          "text": [
            "[07:26:47] number of categorical features: 0 \n"
          ]
        },
        {
          "name": "stderr",
          "output_type": "stream",
          "text": [
            "DEBUG:lightautoml.ml_algo.dl_model:number of categorical features: 0 \n"
          ]
        },
        {
          "name": "stdout",
          "output_type": "stream",
          "text": [
            "[07:26:47] number of continuous features: 1 \n"
          ]
        },
        {
          "name": "stderr",
          "output_type": "stream",
          "text": [
            "DEBUG:lightautoml.ml_algo.dl_model:number of continuous features: 1 \n"
          ]
        },
        {
          "name": "stdout",
          "output_type": "stream",
          "text": [
            "[07:26:47] Start fitting \u001b[1mLvl_0_Pipe_0_Mod_0_TorchNN__linear_layer_0\u001b[0m ...\n"
          ]
        },
        {
          "name": "stderr",
          "output_type": "stream",
          "text": [
            "INFO:lightautoml.ml_algo.base:Start fitting \u001b[1mLvl_0_Pipe_0_Mod_0_TorchNN__linear_layer_0\u001b[0m ...\n"
          ]
        },
        {
          "name": "stdout",
          "output_type": "stream",
          "text": [
            "[07:26:47] Training params: {'num_workers': 4, 'pin_memory': False, 'max_length': 256, 'is_snap': False, 'input_bn': False, 'max_emb_size': 50, 'bert_name': 'prajjwal1/bert-tiny', 'pooling': 'cls', 'device': device(type='cuda', index=0), 'use_cont': True, 'use_cat': True, 'use_text': True, 'lang': 'en', 'deterministic': False, 'multigpu': False, 'random_state': 42, 'model': '_linear_layer', 'model_with_emb': False, 'path_to_save': None, 'verbose_inside': None, 'verbose': 1, 'n_epochs': 20, 'snap_params': {'k': 1, 'early_stopping': True, 'patience': 1, 'swa': False}, 'bs': 16, 'emb_dropout': 0.1, 'emb_ratio': 3, 'opt': <class 'torch.optim.adam.Adam'>, 'opt_params': {'lr': 1e-05}, 'sch': <class 'torch.optim.lr_scheduler.ReduceLROnPlateau'>, 'scheduler_params': {'patience': 5, 'factor': 0.5, 'verbose': True}, 'loss': None, 'loss_params': {}, 'loss_on_logits': True, 'clip_grad': False, 'clip_grad_params': {}, 'init_bias': True, 'dataset': <class 'lightautoml.text.nn_model.UniversalDataset'>, 'tuned': False, 'optimization_search_space': None, 'verbose_bar': False, 'freeze_defaults': False, 'n_out': 6, 'hid_factor': [2, 2], 'hidden_size': [512, 512, 512], 'block_config': [2, 2], 'compression': 0.5, 'growth_size': 256, 'bn_factor': 2, 'drop_rate': 0.1, 'noise_std': 0.05, 'num_init_features': None, 'act_fun': <class 'torch.nn.modules.activation.ReLU'>, 'use_noise': False, 'use_bn': True, 'embedding_size': 10, 'cat_embedder': 'cat', 'cont_embedder': 'cont', 'stop_by_metric': False, 'batch_size': 128, 'epochs': 9, 'learning_rate': 0.04413781032916975, 'layers': [88, 29], 'dropout': 0.22352823325158472, 'device_ids': None, 'num_dims': 1, 'text_features': ['concated__review_text'], 'bias': array([-3.39447006, -3.44514927, -2.49738417, -1.55898247, -1.06057015,\n",
            "       -1.21863533])}\n"
          ]
        },
        {
          "name": "stderr",
          "output_type": "stream",
          "text": [
            "DEBUG:lightautoml.ml_algo.base:Training params: {'num_workers': 4, 'pin_memory': False, 'max_length': 256, 'is_snap': False, 'input_bn': False, 'max_emb_size': 50, 'bert_name': 'prajjwal1/bert-tiny', 'pooling': 'cls', 'device': device(type='cuda', index=0), 'use_cont': True, 'use_cat': True, 'use_text': True, 'lang': 'en', 'deterministic': False, 'multigpu': False, 'random_state': 42, 'model': '_linear_layer', 'model_with_emb': False, 'path_to_save': None, 'verbose_inside': None, 'verbose': 1, 'n_epochs': 20, 'snap_params': {'k': 1, 'early_stopping': True, 'patience': 1, 'swa': False}, 'bs': 16, 'emb_dropout': 0.1, 'emb_ratio': 3, 'opt': <class 'torch.optim.adam.Adam'>, 'opt_params': {'lr': 1e-05}, 'sch': <class 'torch.optim.lr_scheduler.ReduceLROnPlateau'>, 'scheduler_params': {'patience': 5, 'factor': 0.5, 'verbose': True}, 'loss': None, 'loss_params': {}, 'loss_on_logits': True, 'clip_grad': False, 'clip_grad_params': {}, 'init_bias': True, 'dataset': <class 'lightautoml.text.nn_model.UniversalDataset'>, 'tuned': False, 'optimization_search_space': None, 'verbose_bar': False, 'freeze_defaults': False, 'n_out': 6, 'hid_factor': [2, 2], 'hidden_size': [512, 512, 512], 'block_config': [2, 2], 'compression': 0.5, 'growth_size': 256, 'bn_factor': 2, 'drop_rate': 0.1, 'noise_std': 0.05, 'num_init_features': None, 'act_fun': <class 'torch.nn.modules.activation.ReLU'>, 'use_noise': False, 'use_bn': True, 'embedding_size': 10, 'cat_embedder': 'cat', 'cont_embedder': 'cont', 'stop_by_metric': False, 'batch_size': 128, 'epochs': 9, 'learning_rate': 0.04413781032916975, 'layers': [88, 29], 'dropout': 0.22352823325158472, 'device_ids': None, 'num_dims': 1, 'text_features': ['concated__review_text'], 'bias': array([-3.39447006, -3.44514927, -2.49738417, -1.55898247, -1.06057015,\n",
            "       -1.21863533])}\n"
          ]
        },
        {
          "name": "stdout",
          "output_type": "stream",
          "text": [
            "[07:26:47] ===== Start working with \u001b[1mfold 0\u001b[0m for \u001b[1mLvl_0_Pipe_0_Mod_0_TorchNN__linear_layer_0\u001b[0m =====\n"
          ]
        },
        {
          "name": "stderr",
          "output_type": "stream",
          "text": [
            "INFO2:lightautoml.ml_algo.base:===== Start working with \u001b[1mfold 0\u001b[0m for \u001b[1mLvl_0_Pipe_0_Mod_0_TorchNN__linear_layer_0\u001b[0m =====\n"
          ]
        },
        {
          "name": "stdout",
          "output_type": "stream",
          "text": [
            "[07:26:49] Last linear layer not founded, so init_bias=False\n"
          ]
        },
        {
          "name": "stderr",
          "output_type": "stream",
          "text": [
            "INFO3:lightautoml.text.nn_model:Last linear layer not founded, so init_bias=False\n"
          ]
        },
        {
          "name": "stdout",
          "output_type": "stream",
          "text": [
            "[07:29:58] Epoch: 0, train loss: 1.7589328289031982, val loss: 1.5567035675048828, val metric: 0.40299081862641545\n"
          ]
        },
        {
          "name": "stderr",
          "output_type": "stream",
          "text": [
            "INFO3:lightautoml.text.trainer:Epoch: 0, train loss: 1.7589328289031982, val loss: 1.5567035675048828, val metric: 0.40299081862641545\n"
          ]
        },
        {
          "name": "stdout",
          "output_type": "stream",
          "text": [
            "[07:33:08] Epoch: 1, train loss: 1.5524877309799194, val loss: 1.4306561946868896, val metric: 0.46286428733276636\n"
          ]
        },
        {
          "name": "stderr",
          "output_type": "stream",
          "text": [
            "INFO3:lightautoml.text.trainer:Epoch: 1, train loss: 1.5524877309799194, val loss: 1.4306561946868896, val metric: 0.46286428733276636\n"
          ]
        },
        {
          "name": "stdout",
          "output_type": "stream",
          "text": [
            "[07:36:19] Epoch: 2, train loss: 1.4595576524734497, val loss: 1.3424721956253052, val metric: 0.48826521158073327\n"
          ]
        },
        {
          "name": "stderr",
          "output_type": "stream",
          "text": [
            "INFO3:lightautoml.text.trainer:Epoch: 2, train loss: 1.4595576524734497, val loss: 1.3424721956253052, val metric: 0.48826521158073327\n"
          ]
        },
        {
          "name": "stdout",
          "output_type": "stream",
          "text": [
            "[07:39:29] Epoch: 3, train loss: 1.3957511186599731, val loss: 1.3199001550674438, val metric: 0.4999337907169759\n"
          ]
        },
        {
          "name": "stderr",
          "output_type": "stream",
          "text": [
            "INFO3:lightautoml.text.trainer:Epoch: 3, train loss: 1.3957511186599731, val loss: 1.3199001550674438, val metric: 0.4999337907169759\n"
          ]
        },
        {
          "name": "stdout",
          "output_type": "stream",
          "text": [
            "[07:42:40] Epoch: 4, train loss: 1.3450257778167725, val loss: 1.2824050188064575, val metric: 0.5156056965695017\n"
          ]
        },
        {
          "name": "stderr",
          "output_type": "stream",
          "text": [
            "INFO3:lightautoml.text.trainer:Epoch: 4, train loss: 1.3450257778167725, val loss: 1.2824050188064575, val metric: 0.5156056965695017\n"
          ]
        },
        {
          "name": "stdout",
          "output_type": "stream",
          "text": [
            "[07:45:48] Epoch: 5, train loss: 1.3048114776611328, val loss: 1.2407348155975342, val metric: 0.525196409112727\n"
          ]
        },
        {
          "name": "stderr",
          "output_type": "stream",
          "text": [
            "INFO3:lightautoml.text.trainer:Epoch: 5, train loss: 1.3048114776611328, val loss: 1.2407348155975342, val metric: 0.525196409112727\n"
          ]
        },
        {
          "name": "stdout",
          "output_type": "stream",
          "text": [
            "[07:48:57] Epoch: 6, train loss: 1.2696760892868042, val loss: 1.2277281284332275, val metric: 0.5214864552383631\n"
          ]
        },
        {
          "name": "stderr",
          "output_type": "stream",
          "text": [
            "INFO3:lightautoml.text.trainer:Epoch: 6, train loss: 1.2696760892868042, val loss: 1.2277281284332275, val metric: 0.5214864552383631\n"
          ]
        },
        {
          "name": "stdout",
          "output_type": "stream",
          "text": [
            "[07:52:06] Epoch: 7, train loss: 1.2377524375915527, val loss: 1.1917978525161743, val metric: 0.5288002491610103\n"
          ]
        },
        {
          "name": "stderr",
          "output_type": "stream",
          "text": [
            "INFO3:lightautoml.text.trainer:Epoch: 7, train loss: 1.2377524375915527, val loss: 1.1917978525161743, val metric: 0.5288002491610103\n"
          ]
        },
        {
          "name": "stdout",
          "output_type": "stream",
          "text": [
            "[07:55:16] Epoch: 8, train loss: 1.2110968828201294, val loss: 1.1985125541687012, val metric: 0.5330227529330578\n"
          ]
        },
        {
          "name": "stderr",
          "output_type": "stream",
          "text": [
            "INFO3:lightautoml.text.trainer:Epoch: 8, train loss: 1.2110968828201294, val loss: 1.1985125541687012, val metric: 0.5330227529330578\n"
          ]
        },
        {
          "name": "stdout",
          "output_type": "stream",
          "text": [
            "[07:55:16] Time limit exceeded after calculating fold 0\n",
            "\n"
          ]
        },
        {
          "name": "stderr",
          "output_type": "stream",
          "text": [
            "INFO:lightautoml.ml_algo.base:Time limit exceeded after calculating fold 0\n",
            "\n"
          ]
        },
        {
          "name": "stdout",
          "output_type": "stream",
          "text": [
            "[07:55:16] Fitting \u001b[1mLvl_0_Pipe_0_Mod_0_TorchNN__linear_layer_0\u001b[0m finished. score = \u001b[1m0.5330227529330578\u001b[0m\n"
          ]
        },
        {
          "name": "stderr",
          "output_type": "stream",
          "text": [
            "INFO:lightautoml.ml_algo.base:Fitting \u001b[1mLvl_0_Pipe_0_Mod_0_TorchNN__linear_layer_0\u001b[0m finished. score = \u001b[1m0.5330227529330578\u001b[0m\n"
          ]
        },
        {
          "name": "stdout",
          "output_type": "stream",
          "text": [
            "[07:55:16] \u001b[1mLvl_0_Pipe_0_Mod_0_TorchNN__linear_layer_0\u001b[0m fitting and predicting completed\n"
          ]
        },
        {
          "name": "stderr",
          "output_type": "stream",
          "text": [
            "INFO:lightautoml.ml_algo.base:\u001b[1mLvl_0_Pipe_0_Mod_0_TorchNN__linear_layer_0\u001b[0m fitting and predicting completed\n"
          ]
        },
        {
          "name": "stdout",
          "output_type": "stream",
          "text": [
            "[07:55:16] Time left -1511.50 secs\n",
            "\n"
          ]
        },
        {
          "name": "stderr",
          "output_type": "stream",
          "text": [
            "INFO:lightautoml.automl.base:Time left -1511.50 secs\n",
            "\n"
          ]
        },
        {
          "name": "stdout",
          "output_type": "stream",
          "text": [
            "[07:55:16] Time limit exceeded. Last level models will be blended and unused pipelines will be pruned.\n",
            "\n"
          ]
        },
        {
          "name": "stderr",
          "output_type": "stream",
          "text": [
            "INFO:lightautoml.automl.base:Time limit exceeded. Last level models will be blended and unused pipelines will be pruned.\n",
            "\n"
          ]
        },
        {
          "name": "stdout",
          "output_type": "stream",
          "text": [
            "[07:55:16] \u001b[1mLayer 1 training completed.\u001b[0m\n",
            "\n"
          ]
        },
        {
          "name": "stderr",
          "output_type": "stream",
          "text": [
            "INFO:lightautoml.automl.base:\u001b[1mLayer 1 training completed.\u001b[0m\n",
            "\n"
          ]
        },
        {
          "name": "stdout",
          "output_type": "stream",
          "text": [
            "[07:55:16] \u001b[1mAutoml preset training completed in 1711.59 seconds\u001b[0m\n",
            "\n"
          ]
        },
        {
          "name": "stderr",
          "output_type": "stream",
          "text": [
            "INFO:lightautoml.automl.presets.base:\u001b[1mAutoml preset training completed in 1711.59 seconds\u001b[0m\n",
            "\n"
          ]
        },
        {
          "name": "stdout",
          "output_type": "stream",
          "text": [
            "[07:55:16] Model description:\n",
            "Final prediction for new objects (level 0) = \n",
            "\t 1.00000 * (1 averaged models Lvl_0_Pipe_0_Mod_0_TorchNN__linear_layer_0) \n",
            "\n"
          ]
        },
        {
          "name": "stderr",
          "output_type": "stream",
          "text": [
            "INFO:lightautoml.automl.presets.base:Model description:\n",
            "Final prediction for new objects (level 0) = \n",
            "\t 1.00000 * (1 averaged models Lvl_0_Pipe_0_Mod_0_TorchNN__linear_layer_0) \n",
            "\n"
          ]
        },
        {
          "name": "stdout",
          "output_type": "stream",
          "text": [
            "[07:55:18] Last linear layer not founded, so init_bias=False\n"
          ]
        },
        {
          "name": "stderr",
          "output_type": "stream",
          "text": [
            "INFO3:lightautoml.text.nn_model:Last linear layer not founded, so init_bias=False\n",
            "INFO:optuna.study.study:Trial 2 finished with value: 0.5279618363937382 and parameters: {'batch_size': 128, 'epochs': 9, 'learning_rate': 0.04413781032916975, 'layer1_units': 88, 'layer2_units': 29, 'dropout': 0.22352823325158472}. Best is trial 0 with value: 0.5279618363937382.\n"
          ]
        },
        {
          "name": "stdout",
          "output_type": "stream",
          "text": [
            "{'batch_size': 32, 'epochs': 12, 'learning_rate': 0.07942044251934417, 'layer1_units': 61, 'layer2_units': 28, 'dropout': 0.35245300241493627}\n"
          ]
        }
      ],
      "source": [
        "study = optuna.create_study(direction='maximize')\n",
        "study.optimize(objective, n_trials=3)  # Для экономии времени возьмем n_trials, равное 3\n",
        "\n",
        "print(study.best_params)"
      ]
    },
    {
      "cell_type": "code",
      "execution_count": null,
      "metadata": {
        "colab": {
          "base_uri": "https://localhost:8080/"
        },
        "id": "RzWHND_c1pQV",
        "outputId": "cb50e798-7e66-428d-cf8a-8c7def23570f"
      },
      "outputs": [
        {
          "data": {
            "text/plain": [
              "{'batch_size': 32,\n",
              " 'epochs': 12,\n",
              " 'learning_rate': 0.07942044251934417,\n",
              " 'layer1_units': 61,\n",
              " 'layer2_units': 28,\n",
              " 'dropout': 0.35245300241493627}"
            ]
          },
          "execution_count": 51,
          "metadata": {},
          "output_type": "execute_result"
        }
      ],
      "source": [
        "study.best_params"
      ]
    },
    {
      "cell_type": "code",
      "execution_count": null,
      "metadata": {
        "id": "5P0QLEglSI-_"
      },
      "outputs": [],
      "source": [
        "NN_PARAMS = study.best_params"
      ]
    },
    {
      "cell_type": "code",
      "execution_count": null,
      "metadata": {
        "colab": {
          "base_uri": "https://localhost:8080/"
        },
        "id": "lB4TOWK21pSq",
        "outputId": "ecf01fa7-209f-48fb-e363-512b8d18bed3"
      },
      "outputs": [
        {
          "name": "stdout",
          "output_type": "stream",
          "text": [
            "CPU times: user 30.5 ms, sys: 1 ms, total: 31.5 ms\n",
            "Wall time: 30.9 ms\n"
          ]
        }
      ],
      "source": [
        "%%time\n",
        "\n",
        "automl = TabularNLPAutoML(\n",
        "      task=Task('multiclass', metric=f1_weighted),\n",
        "      timeout=TIMEOUT,\n",
        "      cpu_limit=N_THREADS,\n",
        "      gpu_ids = GPU_IDS,\n",
        "      memory_limit=45,\n",
        "      text_params={'lang': 'en',\n",
        "                'bert_model': 'prajjwal1/bert-tiny'},\n",
        "      general_params={'use_algos': [['nn']]},\n",
        "      nn_params=NN_PARAMS\n",
        ")"
      ]
    },
    {
      "cell_type": "code",
      "execution_count": null,
      "metadata": {
        "colab": {
          "base_uri": "https://localhost:8080/"
        },
        "id": "-gBy6b2q1pVV",
        "outputId": "221a3ddb-45b7-4cf4-fd9f-067411c9d71e"
      },
      "outputs": [
        {
          "name": "stdout",
          "output_type": "stream",
          "text": [
            "[13:38:42] Stdout logging level is DEBUG.\n"
          ]
        },
        {
          "name": "stderr",
          "output_type": "stream",
          "text": [
            "INFO:lightautoml.automl.presets.base:Stdout logging level is DEBUG.\n"
          ]
        },
        {
          "name": "stdout",
          "output_type": "stream",
          "text": [
            "[13:38:42] Model language mode: en\n"
          ]
        },
        {
          "name": "stderr",
          "output_type": "stream",
          "text": [
            "INFO3:lightautoml.automl.presets.text_presets:Model language mode: en\n"
          ]
        },
        {
          "name": "stdout",
          "output_type": "stream",
          "text": [
            "[13:38:42] Task: multiclass\n",
            "\n"
          ]
        },
        {
          "name": "stderr",
          "output_type": "stream",
          "text": [
            "INFO:lightautoml.automl.presets.base:Task: multiclass\n",
            "\n"
          ]
        },
        {
          "name": "stdout",
          "output_type": "stream",
          "text": [
            "[13:38:42] Start automl preset with listed constraints:\n"
          ]
        },
        {
          "name": "stderr",
          "output_type": "stream",
          "text": [
            "INFO:lightautoml.automl.presets.base:Start automl preset with listed constraints:\n"
          ]
        },
        {
          "name": "stdout",
          "output_type": "stream",
          "text": [
            "[13:38:42] - time: 200.00 seconds\n"
          ]
        },
        {
          "name": "stderr",
          "output_type": "stream",
          "text": [
            "INFO:lightautoml.automl.presets.base:- time: 200.00 seconds\n"
          ]
        },
        {
          "name": "stdout",
          "output_type": "stream",
          "text": [
            "[13:38:42] - CPU: 8 cores\n"
          ]
        },
        {
          "name": "stderr",
          "output_type": "stream",
          "text": [
            "INFO:lightautoml.automl.presets.base:- CPU: 8 cores\n"
          ]
        },
        {
          "name": "stdout",
          "output_type": "stream",
          "text": [
            "[13:38:42] - memory: 45 GB\n",
            "\n"
          ]
        },
        {
          "name": "stderr",
          "output_type": "stream",
          "text": [
            "INFO:lightautoml.automl.presets.base:- memory: 45 GB\n",
            "\n"
          ]
        },
        {
          "name": "stdout",
          "output_type": "stream",
          "text": [
            "[13:38:42] \u001b[1mTrain data shape: (120000, 3)\u001b[0m\n",
            "\n"
          ]
        },
        {
          "name": "stderr",
          "output_type": "stream",
          "text": [
            "INFO:lightautoml.reader.base:\u001b[1mTrain data shape: (120000, 3)\u001b[0m\n",
            "\n"
          ]
        },
        {
          "name": "stdout",
          "output_type": "stream",
          "text": [
            "[13:38:43] Feats was rejected during automatic roles guess: []\n"
          ]
        },
        {
          "name": "stderr",
          "output_type": "stream",
          "text": [
            "INFO3:lightautoml.reader.base:Feats was rejected during automatic roles guess: []\n"
          ]
        },
        {
          "name": "stdout",
          "output_type": "stream",
          "text": [
            "[13:38:43] Layer \u001b[1m1\u001b[0m train process start. Time left 198.39 secs\n"
          ]
        },
        {
          "name": "stderr",
          "output_type": "stream",
          "text": [
            "INFO:lightautoml.automl.base:Layer \u001b[1m1\u001b[0m train process start. Time left 198.39 secs\n"
          ]
        },
        {
          "name": "stdout",
          "output_type": "stream",
          "text": [
            "[13:38:44] number of text features: 1 \n"
          ]
        },
        {
          "name": "stderr",
          "output_type": "stream",
          "text": [
            "DEBUG:lightautoml.ml_algo.dl_model:number of text features: 1 \n"
          ]
        },
        {
          "name": "stdout",
          "output_type": "stream",
          "text": [
            "[13:38:44] number of categorical features: 0 \n"
          ]
        },
        {
          "name": "stderr",
          "output_type": "stream",
          "text": [
            "DEBUG:lightautoml.ml_algo.dl_model:number of categorical features: 0 \n"
          ]
        },
        {
          "name": "stdout",
          "output_type": "stream",
          "text": [
            "[13:38:44] number of continuous features: 1 \n"
          ]
        },
        {
          "name": "stderr",
          "output_type": "stream",
          "text": [
            "DEBUG:lightautoml.ml_algo.dl_model:number of continuous features: 1 \n"
          ]
        },
        {
          "name": "stdout",
          "output_type": "stream",
          "text": [
            "[13:38:44] Start fitting \u001b[1mLvl_0_Pipe_0_Mod_0_TorchNN__linear_layer_0\u001b[0m ...\n"
          ]
        },
        {
          "name": "stderr",
          "output_type": "stream",
          "text": [
            "INFO:lightautoml.ml_algo.base:Start fitting \u001b[1mLvl_0_Pipe_0_Mod_0_TorchNN__linear_layer_0\u001b[0m ...\n"
          ]
        },
        {
          "name": "stdout",
          "output_type": "stream",
          "text": [
            "[13:38:44] Training params: {'num_workers': 4, 'pin_memory': False, 'max_length': 256, 'is_snap': False, 'input_bn': False, 'max_emb_size': 50, 'bert_name': 'prajjwal1/bert-tiny', 'pooling': 'cls', 'device': device(type='cuda', index=0), 'use_cont': True, 'use_cat': True, 'use_text': True, 'lang': 'en', 'deterministic': False, 'multigpu': False, 'random_state': 42, 'model': '_linear_layer', 'model_with_emb': False, 'path_to_save': None, 'verbose_inside': None, 'verbose': 1, 'n_epochs': 20, 'snap_params': {'k': 1, 'early_stopping': True, 'patience': 1, 'swa': False}, 'bs': 16, 'emb_dropout': 0.1, 'emb_ratio': 3, 'opt': <class 'torch.optim.adam.Adam'>, 'opt_params': {'lr': 1e-05}, 'sch': <class 'torch.optim.lr_scheduler.ReduceLROnPlateau'>, 'scheduler_params': {'patience': 5, 'factor': 0.5, 'verbose': True}, 'loss': None, 'loss_params': {}, 'loss_on_logits': True, 'clip_grad': False, 'clip_grad_params': {}, 'init_bias': True, 'dataset': <class 'lightautoml.text.nn_model.UniversalDataset'>, 'tuned': False, 'optimization_search_space': None, 'verbose_bar': False, 'freeze_defaults': False, 'n_out': 6, 'hid_factor': [2, 2], 'hidden_size': [512, 512, 512], 'block_config': [2, 2], 'compression': 0.5, 'growth_size': 256, 'bn_factor': 2, 'drop_rate': 0.1, 'noise_std': 0.05, 'num_init_features': None, 'act_fun': <class 'torch.nn.modules.activation.ReLU'>, 'use_noise': False, 'use_bn': True, 'embedding_size': 10, 'cat_embedder': 'cat', 'cont_embedder': 'cont', 'stop_by_metric': False, 'batch_size': 32, 'epochs': 12, 'learning_rate': 0.07942044251934417, 'layer1_units': 61, 'layer2_units': 28, 'dropout': 0.35245300241493627, 'device_ids': None, 'num_dims': 1, 'text_features': ['concated__review_text'], 'bias': array([-3.38532403, -3.45512572, -2.51340901, -1.56112405, -1.0526356 ,\n",
            "       -1.22199535])}\n"
          ]
        },
        {
          "name": "stderr",
          "output_type": "stream",
          "text": [
            "DEBUG:lightautoml.ml_algo.base:Training params: {'num_workers': 4, 'pin_memory': False, 'max_length': 256, 'is_snap': False, 'input_bn': False, 'max_emb_size': 50, 'bert_name': 'prajjwal1/bert-tiny', 'pooling': 'cls', 'device': device(type='cuda', index=0), 'use_cont': True, 'use_cat': True, 'use_text': True, 'lang': 'en', 'deterministic': False, 'multigpu': False, 'random_state': 42, 'model': '_linear_layer', 'model_with_emb': False, 'path_to_save': None, 'verbose_inside': None, 'verbose': 1, 'n_epochs': 20, 'snap_params': {'k': 1, 'early_stopping': True, 'patience': 1, 'swa': False}, 'bs': 16, 'emb_dropout': 0.1, 'emb_ratio': 3, 'opt': <class 'torch.optim.adam.Adam'>, 'opt_params': {'lr': 1e-05}, 'sch': <class 'torch.optim.lr_scheduler.ReduceLROnPlateau'>, 'scheduler_params': {'patience': 5, 'factor': 0.5, 'verbose': True}, 'loss': None, 'loss_params': {}, 'loss_on_logits': True, 'clip_grad': False, 'clip_grad_params': {}, 'init_bias': True, 'dataset': <class 'lightautoml.text.nn_model.UniversalDataset'>, 'tuned': False, 'optimization_search_space': None, 'verbose_bar': False, 'freeze_defaults': False, 'n_out': 6, 'hid_factor': [2, 2], 'hidden_size': [512, 512, 512], 'block_config': [2, 2], 'compression': 0.5, 'growth_size': 256, 'bn_factor': 2, 'drop_rate': 0.1, 'noise_std': 0.05, 'num_init_features': None, 'act_fun': <class 'torch.nn.modules.activation.ReLU'>, 'use_noise': False, 'use_bn': True, 'embedding_size': 10, 'cat_embedder': 'cat', 'cont_embedder': 'cont', 'stop_by_metric': False, 'batch_size': 32, 'epochs': 12, 'learning_rate': 0.07942044251934417, 'layer1_units': 61, 'layer2_units': 28, 'dropout': 0.35245300241493627, 'device_ids': None, 'num_dims': 1, 'text_features': ['concated__review_text'], 'bias': array([-3.38532403, -3.45512572, -2.51340901, -1.56112405, -1.0526356 ,\n",
            "       -1.22199535])}\n"
          ]
        },
        {
          "name": "stdout",
          "output_type": "stream",
          "text": [
            "[13:38:44] ===== Start working with \u001b[1mfold 0\u001b[0m for \u001b[1mLvl_0_Pipe_0_Mod_0_TorchNN__linear_layer_0\u001b[0m =====\n"
          ]
        },
        {
          "name": "stderr",
          "output_type": "stream",
          "text": [
            "INFO2:lightautoml.ml_algo.base:===== Start working with \u001b[1mfold 0\u001b[0m for \u001b[1mLvl_0_Pipe_0_Mod_0_TorchNN__linear_layer_0\u001b[0m =====\n"
          ]
        },
        {
          "name": "stdout",
          "output_type": "stream",
          "text": [
            "[13:38:45] Last linear layer not founded, so init_bias=False\n"
          ]
        },
        {
          "name": "stderr",
          "output_type": "stream",
          "text": [
            "INFO3:lightautoml.text.nn_model:Last linear layer not founded, so init_bias=False\n"
          ]
        },
        {
          "name": "stdout",
          "output_type": "stream",
          "text": [
            "[13:42:04] Epoch: 0, train loss: 1.7569139003753662, val loss: 1.5624700784683228, val metric: 0.37372156477104046\n"
          ]
        },
        {
          "name": "stderr",
          "output_type": "stream",
          "text": [
            "INFO3:lightautoml.text.trainer:Epoch: 0, train loss: 1.7569139003753662, val loss: 1.5624700784683228, val metric: 0.37372156477104046\n"
          ]
        },
        {
          "name": "stdout",
          "output_type": "stream",
          "text": [
            "[13:45:26] Epoch: 1, train loss: 1.5569032430648804, val loss: 1.4335486888885498, val metric: 0.4600036693468609\n"
          ]
        },
        {
          "name": "stderr",
          "output_type": "stream",
          "text": [
            "INFO3:lightautoml.text.trainer:Epoch: 1, train loss: 1.5569032430648804, val loss: 1.4335486888885498, val metric: 0.4600036693468609\n"
          ]
        },
        {
          "name": "stdout",
          "output_type": "stream",
          "text": [
            "[13:48:45] Epoch: 2, train loss: 1.4619802236557007, val loss: 1.3875970840454102, val metric: 0.4831324044593328\n"
          ]
        },
        {
          "name": "stderr",
          "output_type": "stream",
          "text": [
            "INFO3:lightautoml.text.trainer:Epoch: 2, train loss: 1.4619802236557007, val loss: 1.3875970840454102, val metric: 0.4831324044593328\n"
          ]
        },
        {
          "name": "stdout",
          "output_type": "stream",
          "text": [
            "[13:52:07] Epoch: 3, train loss: 1.4017455577850342, val loss: 1.3340727090835571, val metric: 0.5014927226843938\n"
          ]
        },
        {
          "name": "stderr",
          "output_type": "stream",
          "text": [
            "INFO3:lightautoml.text.trainer:Epoch: 3, train loss: 1.4017455577850342, val loss: 1.3340727090835571, val metric: 0.5014927226843938\n"
          ]
        },
        {
          "name": "stdout",
          "output_type": "stream",
          "text": [
            "[13:55:27] Epoch: 4, train loss: 1.3503317832946777, val loss: 1.2671332359313965, val metric: 0.5134895161621542\n"
          ]
        },
        {
          "name": "stderr",
          "output_type": "stream",
          "text": [
            "INFO3:lightautoml.text.trainer:Epoch: 4, train loss: 1.3503317832946777, val loss: 1.2671332359313965, val metric: 0.5134895161621542\n"
          ]
        },
        {
          "name": "stdout",
          "output_type": "stream",
          "text": [
            "[13:58:48] Epoch: 5, train loss: 1.309712529182434, val loss: 1.2443965673446655, val metric: 0.5258632906444782\n"
          ]
        },
        {
          "name": "stderr",
          "output_type": "stream",
          "text": [
            "INFO3:lightautoml.text.trainer:Epoch: 5, train loss: 1.309712529182434, val loss: 1.2443965673446655, val metric: 0.5258632906444782\n"
          ]
        },
        {
          "name": "stdout",
          "output_type": "stream",
          "text": [
            "[14:02:06] Epoch: 6, train loss: 1.2737892866134644, val loss: 1.2404497861862183, val metric: 0.5237837843934239\n"
          ]
        },
        {
          "name": "stderr",
          "output_type": "stream",
          "text": [
            "INFO3:lightautoml.text.trainer:Epoch: 6, train loss: 1.2737892866134644, val loss: 1.2404497861862183, val metric: 0.5237837843934239\n"
          ]
        },
        {
          "name": "stdout",
          "output_type": "stream",
          "text": [
            "[14:05:25] Epoch: 7, train loss: 1.2427884340286255, val loss: 1.2271034717559814, val metric: 0.5272593487634307\n"
          ]
        },
        {
          "name": "stderr",
          "output_type": "stream",
          "text": [
            "INFO3:lightautoml.text.trainer:Epoch: 7, train loss: 1.2427884340286255, val loss: 1.2271034717559814, val metric: 0.5272593487634307\n"
          ]
        },
        {
          "name": "stdout",
          "output_type": "stream",
          "text": [
            "[14:08:43] Epoch: 8, train loss: 1.214861512184143, val loss: 1.2087175846099854, val metric: 0.5276744830292315\n"
          ]
        },
        {
          "name": "stderr",
          "output_type": "stream",
          "text": [
            "INFO3:lightautoml.text.trainer:Epoch: 8, train loss: 1.214861512184143, val loss: 1.2087175846099854, val metric: 0.5276744830292315\n"
          ]
        },
        {
          "name": "stdout",
          "output_type": "stream",
          "text": [
            "[14:12:02] Epoch: 9, train loss: 1.1901969909667969, val loss: 1.1842657327651978, val metric: 0.5319475027938169\n"
          ]
        },
        {
          "name": "stderr",
          "output_type": "stream",
          "text": [
            "INFO3:lightautoml.text.trainer:Epoch: 9, train loss: 1.1901969909667969, val loss: 1.1842657327651978, val metric: 0.5319475027938169\n"
          ]
        },
        {
          "name": "stdout",
          "output_type": "stream",
          "text": [
            "[14:15:23] Epoch: 10, train loss: 1.1656372547149658, val loss: 1.1985498666763306, val metric: 0.5355265839399115\n"
          ]
        },
        {
          "name": "stderr",
          "output_type": "stream",
          "text": [
            "INFO3:lightautoml.text.trainer:Epoch: 10, train loss: 1.1656372547149658, val loss: 1.1985498666763306, val metric: 0.5355265839399115\n"
          ]
        },
        {
          "name": "stdout",
          "output_type": "stream",
          "text": [
            "[14:15:24] Time limit exceeded after calculating fold 0\n",
            "\n"
          ]
        },
        {
          "name": "stderr",
          "output_type": "stream",
          "text": [
            "INFO:lightautoml.ml_algo.base:Time limit exceeded after calculating fold 0\n",
            "\n"
          ]
        },
        {
          "name": "stdout",
          "output_type": "stream",
          "text": [
            "[14:15:24] Fitting \u001b[1mLvl_0_Pipe_0_Mod_0_TorchNN__linear_layer_0\u001b[0m finished. score = \u001b[1m0.5355265839399115\u001b[0m\n"
          ]
        },
        {
          "name": "stderr",
          "output_type": "stream",
          "text": [
            "INFO:lightautoml.ml_algo.base:Fitting \u001b[1mLvl_0_Pipe_0_Mod_0_TorchNN__linear_layer_0\u001b[0m finished. score = \u001b[1m0.5355265839399115\u001b[0m\n"
          ]
        },
        {
          "name": "stdout",
          "output_type": "stream",
          "text": [
            "[14:15:24] \u001b[1mLvl_0_Pipe_0_Mod_0_TorchNN__linear_layer_0\u001b[0m fitting and predicting completed\n"
          ]
        },
        {
          "name": "stderr",
          "output_type": "stream",
          "text": [
            "INFO:lightautoml.ml_algo.base:\u001b[1mLvl_0_Pipe_0_Mod_0_TorchNN__linear_layer_0\u001b[0m fitting and predicting completed\n"
          ]
        },
        {
          "name": "stdout",
          "output_type": "stream",
          "text": [
            "[14:15:24] Time left -2002.13 secs\n",
            "\n"
          ]
        },
        {
          "name": "stderr",
          "output_type": "stream",
          "text": [
            "INFO:lightautoml.automl.base:Time left -2002.13 secs\n",
            "\n"
          ]
        },
        {
          "name": "stdout",
          "output_type": "stream",
          "text": [
            "[14:15:24] Time limit exceeded. Last level models will be blended and unused pipelines will be pruned.\n",
            "\n"
          ]
        },
        {
          "name": "stderr",
          "output_type": "stream",
          "text": [
            "INFO:lightautoml.automl.base:Time limit exceeded. Last level models will be blended and unused pipelines will be pruned.\n",
            "\n"
          ]
        },
        {
          "name": "stdout",
          "output_type": "stream",
          "text": [
            "[14:15:24] \u001b[1mLayer 1 training completed.\u001b[0m\n",
            "\n"
          ]
        },
        {
          "name": "stderr",
          "output_type": "stream",
          "text": [
            "INFO:lightautoml.automl.base:\u001b[1mLayer 1 training completed.\u001b[0m\n",
            "\n"
          ]
        },
        {
          "name": "stdout",
          "output_type": "stream",
          "text": [
            "[14:15:24] \u001b[1mAutoml preset training completed in 2202.23 seconds\u001b[0m\n",
            "\n"
          ]
        },
        {
          "name": "stderr",
          "output_type": "stream",
          "text": [
            "INFO:lightautoml.automl.presets.base:\u001b[1mAutoml preset training completed in 2202.23 seconds\u001b[0m\n",
            "\n"
          ]
        },
        {
          "name": "stdout",
          "output_type": "stream",
          "text": [
            "[14:15:24] Model description:\n",
            "Final prediction for new objects (level 0) = \n",
            "\t 1.00000 * (1 averaged models Lvl_0_Pipe_0_Mod_0_TorchNN__linear_layer_0) \n",
            "\n"
          ]
        },
        {
          "name": "stderr",
          "output_type": "stream",
          "text": [
            "INFO:lightautoml.automl.presets.base:Model description:\n",
            "Final prediction for new objects (level 0) = \n",
            "\t 1.00000 * (1 averaged models Lvl_0_Pipe_0_Mod_0_TorchNN__linear_layer_0) \n",
            "\n"
          ]
        },
        {
          "data": {
            "text/plain": [
              "array([[0.04670955, 0.04484536, 0.04185514, 0.02629063, 0.0895464 ,\n",
              "        0.75075287],\n",
              "       [       nan,        nan,        nan,        nan,        nan,\n",
              "               nan],\n",
              "       [       nan,        nan,        nan,        nan,        nan,\n",
              "               nan],\n",
              "       ...,\n",
              "       [0.03814735, 0.03989493, 0.03331086, 0.02257275, 0.02846708,\n",
              "        0.83760697],\n",
              "       [       nan,        nan,        nan,        nan,        nan,\n",
              "               nan],\n",
              "       [       nan,        nan,        nan,        nan,        nan,\n",
              "               nan]], dtype=float32)"
            ]
          },
          "execution_count": 35,
          "metadata": {},
          "output_type": "execute_result"
        }
      ],
      "source": [
        "roles = {'target': [TARGET_NAME], 'text' : ['review_text']}\n",
        "\n",
        "automl.fit_predict(train_data, roles = roles, verbose=100)"
      ]
    },
    {
      "cell_type": "code",
      "execution_count": null,
      "metadata": {
        "colab": {
          "base_uri": "https://localhost:8080/"
        },
        "id": "S7W1HI4O1pXo",
        "outputId": "b507bb8e-bda5-481d-e4e5-6fdfdb82c946"
      },
      "outputs": [
        {
          "name": "stdout",
          "output_type": "stream",
          "text": [
            "[14:16:04] Last linear layer not founded, so init_bias=False\n"
          ]
        },
        {
          "name": "stderr",
          "output_type": "stream",
          "text": [
            "INFO3:lightautoml.text.nn_model:Last linear layer not founded, so init_bias=False\n"
          ]
        }
      ],
      "source": [
        "predictions = automl.predict(X_test)"
      ]
    },
    {
      "cell_type": "code",
      "execution_count": null,
      "metadata": {
        "colab": {
          "base_uri": "https://localhost:8080/"
        },
        "id": "tXXV3QKZopA1",
        "outputId": "af96967e-913b-475e-a978-d022bb871bf3"
      },
      "outputs": [
        {
          "data": {
            "text/plain": [
              "0.5316058175963716"
            ]
          },
          "execution_count": 37,
          "metadata": {},
          "output_type": "execute_result"
        }
      ],
      "source": [
        "# Посмотрим результат\n",
        "\n",
        "f1_weighted(y_test['rating'], predictions.data)"
      ]
    },
    {
      "cell_type": "markdown",
      "metadata": {
        "id": "i5TNRReda30Z"
      },
      "source": [
        "Таким образом, наилучший результат показал вариант с самостоятельным выставлением гиперпараметров. Теперь прогоним его на всех данных и предскажем финальный результат."
      ]
    },
    {
      "cell_type": "code",
      "execution_count": null,
      "metadata": {
        "id": "j85LGX36Sbrl"
      },
      "outputs": [],
      "source": [
        "X = df_train[['review_text']]\n",
        "y = df_train[['rating']]\n",
        "X_train, X_test, y_train, y_test = train_test_split(X,\n",
        "                                                    y,\n",
        "                                                    test_size=TEST_SIZE,\n",
        "                                                    random_state=RANDOM_STATE)"
      ]
    },
    {
      "cell_type": "code",
      "execution_count": null,
      "metadata": {
        "colab": {
          "base_uri": "https://localhost:8080/"
        },
        "id": "BwWhVcstpT2Q",
        "outputId": "8554d019-03a7-4aee-f21f-59d679467707"
      },
      "outputs": [
        {
          "name": "stdout",
          "output_type": "stream",
          "text": [
            "X_train.shape: (720000, 1)\n",
            "X_test.shape: (180000, 1)\n"
          ]
        }
      ],
      "source": [
        "print(f\"X_train.shape: {X_train.shape}\\nX_test.shape: {X_test.shape}\")"
      ]
    },
    {
      "cell_type": "code",
      "execution_count": null,
      "metadata": {
        "colab": {
          "base_uri": "https://localhost:8080/",
          "height": 206
        },
        "id": "Ix9bO8p7Sbt7",
        "outputId": "346d73ef-d359-4f37-f8e0-b465037f51e7"
      },
      "outputs": [
        {
          "data": {
            "text/html": [
              "\n",
              "  <div id=\"df-3c019850-f3a9-4558-9303-83a0513926b2\" class=\"colab-df-container\">\n",
              "    <div>\n",
              "<style scoped>\n",
              "    .dataframe tbody tr th:only-of-type {\n",
              "        vertical-align: middle;\n",
              "    }\n",
              "\n",
              "    .dataframe tbody tr th {\n",
              "        vertical-align: top;\n",
              "    }\n",
              "\n",
              "    .dataframe thead th {\n",
              "        text-align: right;\n",
              "    }\n",
              "</style>\n",
              "<table border=\"1\" class=\"dataframe\">\n",
              "  <thead>\n",
              "    <tr style=\"text-align: right;\">\n",
              "      <th></th>\n",
              "      <th>review_text</th>\n",
              "      <th>rating</th>\n",
              "    </tr>\n",
              "  </thead>\n",
              "  <tbody>\n",
              "    <tr>\n",
              "      <th>394657</th>\n",
              "      <td>Huh, can't believe I haven't added a review fo...</td>\n",
              "      <td>4</td>\n",
              "    </tr>\n",
              "    <tr>\n",
              "      <th>517437</th>\n",
              "      <td>Glad to see a conclusion, and I enjoyed the hu...</td>\n",
              "      <td>3</td>\n",
              "    </tr>\n",
              "    <tr>\n",
              "      <th>208118</th>\n",
              "      <td>This was quite impressive as a debut novel for...</td>\n",
              "      <td>4</td>\n",
              "    </tr>\n",
              "    <tr>\n",
              "      <th>626437</th>\n",
              "      <td>Huh. I had no idea there was going to be a spi...</td>\n",
              "      <td>0</td>\n",
              "    </tr>\n",
              "    <tr>\n",
              "      <th>699970</th>\n",
              "      <td>It's terrible, the truth behind this story.</td>\n",
              "      <td>4</td>\n",
              "    </tr>\n",
              "  </tbody>\n",
              "</table>\n",
              "</div>\n",
              "    <div class=\"colab-df-buttons\">\n",
              "\n",
              "  <div class=\"colab-df-container\">\n",
              "    <button class=\"colab-df-convert\" onclick=\"convertToInteractive('df-3c019850-f3a9-4558-9303-83a0513926b2')\"\n",
              "            title=\"Convert this dataframe to an interactive table.\"\n",
              "            style=\"display:none;\">\n",
              "\n",
              "  <svg xmlns=\"http://www.w3.org/2000/svg\" height=\"24px\" viewBox=\"0 -960 960 960\">\n",
              "    <path d=\"M120-120v-720h720v720H120Zm60-500h600v-160H180v160Zm220 220h160v-160H400v160Zm0 220h160v-160H400v160ZM180-400h160v-160H180v160Zm440 0h160v-160H620v160ZM180-180h160v-160H180v160Zm440 0h160v-160H620v160Z\"/>\n",
              "  </svg>\n",
              "    </button>\n",
              "\n",
              "  <style>\n",
              "    .colab-df-container {\n",
              "      display:flex;\n",
              "      gap: 12px;\n",
              "    }\n",
              "\n",
              "    .colab-df-convert {\n",
              "      background-color: #E8F0FE;\n",
              "      border: none;\n",
              "      border-radius: 50%;\n",
              "      cursor: pointer;\n",
              "      display: none;\n",
              "      fill: #1967D2;\n",
              "      height: 32px;\n",
              "      padding: 0 0 0 0;\n",
              "      width: 32px;\n",
              "    }\n",
              "\n",
              "    .colab-df-convert:hover {\n",
              "      background-color: #E2EBFA;\n",
              "      box-shadow: 0px 1px 2px rgba(60, 64, 67, 0.3), 0px 1px 3px 1px rgba(60, 64, 67, 0.15);\n",
              "      fill: #174EA6;\n",
              "    }\n",
              "\n",
              "    .colab-df-buttons div {\n",
              "      margin-bottom: 4px;\n",
              "    }\n",
              "\n",
              "    [theme=dark] .colab-df-convert {\n",
              "      background-color: #3B4455;\n",
              "      fill: #D2E3FC;\n",
              "    }\n",
              "\n",
              "    [theme=dark] .colab-df-convert:hover {\n",
              "      background-color: #434B5C;\n",
              "      box-shadow: 0px 1px 3px 1px rgba(0, 0, 0, 0.15);\n",
              "      filter: drop-shadow(0px 1px 2px rgba(0, 0, 0, 0.3));\n",
              "      fill: #FFFFFF;\n",
              "    }\n",
              "  </style>\n",
              "\n",
              "    <script>\n",
              "      const buttonEl =\n",
              "        document.querySelector('#df-3c019850-f3a9-4558-9303-83a0513926b2 button.colab-df-convert');\n",
              "      buttonEl.style.display =\n",
              "        google.colab.kernel.accessAllowed ? 'block' : 'none';\n",
              "\n",
              "      async function convertToInteractive(key) {\n",
              "        const element = document.querySelector('#df-3c019850-f3a9-4558-9303-83a0513926b2');\n",
              "        const dataTable =\n",
              "          await google.colab.kernel.invokeFunction('convertToInteractive',\n",
              "                                                    [key], {});\n",
              "        if (!dataTable) return;\n",
              "\n",
              "        const docLinkHtml = 'Like what you see? Visit the ' +\n",
              "          '<a target=\"_blank\" href=https://colab.research.google.com/notebooks/data_table.ipynb>data table notebook</a>'\n",
              "          + ' to learn more about interactive tables.';\n",
              "        element.innerHTML = '';\n",
              "        dataTable['output_type'] = 'display_data';\n",
              "        await google.colab.output.renderOutput(dataTable, element);\n",
              "        const docLink = document.createElement('div');\n",
              "        docLink.innerHTML = docLinkHtml;\n",
              "        element.appendChild(docLink);\n",
              "      }\n",
              "    </script>\n",
              "  </div>\n",
              "\n",
              "\n",
              "<div id=\"df-e61fac6a-fb19-4a06-8d03-817f2762afaa\">\n",
              "  <button class=\"colab-df-quickchart\" onclick=\"quickchart('df-e61fac6a-fb19-4a06-8d03-817f2762afaa')\"\n",
              "            title=\"Suggest charts\"\n",
              "            style=\"display:none;\">\n",
              "\n",
              "<svg xmlns=\"http://www.w3.org/2000/svg\" height=\"24px\"viewBox=\"0 0 24 24\"\n",
              "     width=\"24px\">\n",
              "    <g>\n",
              "        <path d=\"M19 3H5c-1.1 0-2 .9-2 2v14c0 1.1.9 2 2 2h14c1.1 0 2-.9 2-2V5c0-1.1-.9-2-2-2zM9 17H7v-7h2v7zm4 0h-2V7h2v10zm4 0h-2v-4h2v4z\"/>\n",
              "    </g>\n",
              "</svg>\n",
              "  </button>\n",
              "\n",
              "<style>\n",
              "  .colab-df-quickchart {\n",
              "      --bg-color: #E8F0FE;\n",
              "      --fill-color: #1967D2;\n",
              "      --hover-bg-color: #E2EBFA;\n",
              "      --hover-fill-color: #174EA6;\n",
              "      --disabled-fill-color: #AAA;\n",
              "      --disabled-bg-color: #DDD;\n",
              "  }\n",
              "\n",
              "  [theme=dark] .colab-df-quickchart {\n",
              "      --bg-color: #3B4455;\n",
              "      --fill-color: #D2E3FC;\n",
              "      --hover-bg-color: #434B5C;\n",
              "      --hover-fill-color: #FFFFFF;\n",
              "      --disabled-bg-color: #3B4455;\n",
              "      --disabled-fill-color: #666;\n",
              "  }\n",
              "\n",
              "  .colab-df-quickchart {\n",
              "    background-color: var(--bg-color);\n",
              "    border: none;\n",
              "    border-radius: 50%;\n",
              "    cursor: pointer;\n",
              "    display: none;\n",
              "    fill: var(--fill-color);\n",
              "    height: 32px;\n",
              "    padding: 0;\n",
              "    width: 32px;\n",
              "  }\n",
              "\n",
              "  .colab-df-quickchart:hover {\n",
              "    background-color: var(--hover-bg-color);\n",
              "    box-shadow: 0 1px 2px rgba(60, 64, 67, 0.3), 0 1px 3px 1px rgba(60, 64, 67, 0.15);\n",
              "    fill: var(--button-hover-fill-color);\n",
              "  }\n",
              "\n",
              "  .colab-df-quickchart-complete:disabled,\n",
              "  .colab-df-quickchart-complete:disabled:hover {\n",
              "    background-color: var(--disabled-bg-color);\n",
              "    fill: var(--disabled-fill-color);\n",
              "    box-shadow: none;\n",
              "  }\n",
              "\n",
              "  .colab-df-spinner {\n",
              "    border: 2px solid var(--fill-color);\n",
              "    border-color: transparent;\n",
              "    border-bottom-color: var(--fill-color);\n",
              "    animation:\n",
              "      spin 1s steps(1) infinite;\n",
              "  }\n",
              "\n",
              "  @keyframes spin {\n",
              "    0% {\n",
              "      border-color: transparent;\n",
              "      border-bottom-color: var(--fill-color);\n",
              "      border-left-color: var(--fill-color);\n",
              "    }\n",
              "    20% {\n",
              "      border-color: transparent;\n",
              "      border-left-color: var(--fill-color);\n",
              "      border-top-color: var(--fill-color);\n",
              "    }\n",
              "    30% {\n",
              "      border-color: transparent;\n",
              "      border-left-color: var(--fill-color);\n",
              "      border-top-color: var(--fill-color);\n",
              "      border-right-color: var(--fill-color);\n",
              "    }\n",
              "    40% {\n",
              "      border-color: transparent;\n",
              "      border-right-color: var(--fill-color);\n",
              "      border-top-color: var(--fill-color);\n",
              "    }\n",
              "    60% {\n",
              "      border-color: transparent;\n",
              "      border-right-color: var(--fill-color);\n",
              "    }\n",
              "    80% {\n",
              "      border-color: transparent;\n",
              "      border-right-color: var(--fill-color);\n",
              "      border-bottom-color: var(--fill-color);\n",
              "    }\n",
              "    90% {\n",
              "      border-color: transparent;\n",
              "      border-bottom-color: var(--fill-color);\n",
              "    }\n",
              "  }\n",
              "</style>\n",
              "\n",
              "  <script>\n",
              "    async function quickchart(key) {\n",
              "      const quickchartButtonEl =\n",
              "        document.querySelector('#' + key + ' button');\n",
              "      quickchartButtonEl.disabled = true;  // To prevent multiple clicks.\n",
              "      quickchartButtonEl.classList.add('colab-df-spinner');\n",
              "      try {\n",
              "        const charts = await google.colab.kernel.invokeFunction(\n",
              "            'suggestCharts', [key], {});\n",
              "      } catch (error) {\n",
              "        console.error('Error during call to suggestCharts:', error);\n",
              "      }\n",
              "      quickchartButtonEl.classList.remove('colab-df-spinner');\n",
              "      quickchartButtonEl.classList.add('colab-df-quickchart-complete');\n",
              "    }\n",
              "    (() => {\n",
              "      let quickchartButtonEl =\n",
              "        document.querySelector('#df-e61fac6a-fb19-4a06-8d03-817f2762afaa button');\n",
              "      quickchartButtonEl.style.display =\n",
              "        google.colab.kernel.accessAllowed ? 'block' : 'none';\n",
              "    })();\n",
              "  </script>\n",
              "</div>\n",
              "    </div>\n",
              "  </div>\n"
            ],
            "text/plain": [
              "                                              review_text  rating\n",
              "394657  Huh, can't believe I haven't added a review fo...       4\n",
              "517437  Glad to see a conclusion, and I enjoyed the hu...       3\n",
              "208118  This was quite impressive as a debut novel for...       4\n",
              "626437  Huh. I had no idea there was going to be a spi...       0\n",
              "699970        It's terrible, the truth behind this story.       4"
            ]
          },
          "execution_count": 13,
          "metadata": {},
          "output_type": "execute_result"
        }
      ],
      "source": [
        "train_df = pd.concat([X_train, y_train], axis=1)\n",
        "train_df.head()"
      ]
    },
    {
      "cell_type": "code",
      "execution_count": null,
      "metadata": {
        "id": "4lqPQwhIpBaF"
      },
      "outputs": [],
      "source": [
        "automl = TabularNLPAutoML(\n",
        "      task=Task('multiclass', metric=f1_weighted),\n",
        "      timeout=TIMEOUT,\n",
        "      cpu_limit=N_THREADS,\n",
        "      gpu_ids = GPU_IDS,\n",
        "      memory_limit=45,\n",
        "      text_params={'lang': 'en',\n",
        "                'bert_model': 'prajjwal1/bert-tiny'},\n",
        "      general_params={'use_algos': [['nn']]},\n",
        "      nn_params=NN_PARAMS\n",
        ")"
      ]
    },
    {
      "cell_type": "code",
      "execution_count": null,
      "metadata": {
        "colab": {
          "base_uri": "https://localhost:8080/"
        },
        "id": "AKlTruTrpBcL",
        "outputId": "7f29b270-ac41-45ad-ce9c-6847fb870037"
      },
      "outputs": [
        {
          "name": "stdout",
          "output_type": "stream",
          "text": [
            "[15:03:10] Stdout logging level is DEBUG.\n"
          ]
        },
        {
          "name": "stderr",
          "output_type": "stream",
          "text": [
            "INFO:lightautoml.automl.presets.base:Stdout logging level is DEBUG.\n"
          ]
        },
        {
          "name": "stdout",
          "output_type": "stream",
          "text": [
            "[15:03:10] Model language mode: en\n"
          ]
        },
        {
          "name": "stderr",
          "output_type": "stream",
          "text": [
            "INFO3:lightautoml.automl.presets.text_presets:Model language mode: en\n"
          ]
        },
        {
          "name": "stdout",
          "output_type": "stream",
          "text": [
            "[15:03:10] Task: multiclass\n",
            "\n"
          ]
        },
        {
          "name": "stderr",
          "output_type": "stream",
          "text": [
            "INFO:lightautoml.automl.presets.base:Task: multiclass\n",
            "\n"
          ]
        },
        {
          "name": "stdout",
          "output_type": "stream",
          "text": [
            "[15:03:10] Start automl preset with listed constraints:\n"
          ]
        },
        {
          "name": "stderr",
          "output_type": "stream",
          "text": [
            "INFO:lightautoml.automl.presets.base:Start automl preset with listed constraints:\n"
          ]
        },
        {
          "name": "stdout",
          "output_type": "stream",
          "text": [
            "[15:03:10] - time: 200.00 seconds\n"
          ]
        },
        {
          "name": "stderr",
          "output_type": "stream",
          "text": [
            "INFO:lightautoml.automl.presets.base:- time: 200.00 seconds\n"
          ]
        },
        {
          "name": "stdout",
          "output_type": "stream",
          "text": [
            "[15:03:10] - CPU: 8 cores\n"
          ]
        },
        {
          "name": "stderr",
          "output_type": "stream",
          "text": [
            "INFO:lightautoml.automl.presets.base:- CPU: 8 cores\n"
          ]
        },
        {
          "name": "stdout",
          "output_type": "stream",
          "text": [
            "[15:03:10] - memory: 45 GB\n",
            "\n"
          ]
        },
        {
          "name": "stderr",
          "output_type": "stream",
          "text": [
            "INFO:lightautoml.automl.presets.base:- memory: 45 GB\n",
            "\n"
          ]
        },
        {
          "name": "stdout",
          "output_type": "stream",
          "text": [
            "[15:03:10] \u001b[1mTrain data shape: (720000, 2)\u001b[0m\n",
            "\n"
          ]
        },
        {
          "name": "stderr",
          "output_type": "stream",
          "text": [
            "INFO:lightautoml.reader.base:\u001b[1mTrain data shape: (720000, 2)\u001b[0m\n",
            "\n"
          ]
        },
        {
          "name": "stdout",
          "output_type": "stream",
          "text": [
            "[15:03:10] Layer \u001b[1m1\u001b[0m train process start. Time left 199.30 secs\n"
          ]
        },
        {
          "name": "stderr",
          "output_type": "stream",
          "text": [
            "INFO:lightautoml.automl.base:Layer \u001b[1m1\u001b[0m train process start. Time left 199.30 secs\n"
          ]
        },
        {
          "name": "stdout",
          "output_type": "stream",
          "text": [
            "[15:03:15] number of text features: 1 \n"
          ]
        },
        {
          "name": "stderr",
          "output_type": "stream",
          "text": [
            "DEBUG:lightautoml.ml_algo.dl_model:number of text features: 1 \n"
          ]
        },
        {
          "name": "stdout",
          "output_type": "stream",
          "text": [
            "[15:03:15] number of categorical features: 0 \n"
          ]
        },
        {
          "name": "stderr",
          "output_type": "stream",
          "text": [
            "DEBUG:lightautoml.ml_algo.dl_model:number of categorical features: 0 \n"
          ]
        },
        {
          "name": "stdout",
          "output_type": "stream",
          "text": [
            "[15:03:15] number of continuous features: 0 \n"
          ]
        },
        {
          "name": "stderr",
          "output_type": "stream",
          "text": [
            "DEBUG:lightautoml.ml_algo.dl_model:number of continuous features: 0 \n"
          ]
        },
        {
          "name": "stdout",
          "output_type": "stream",
          "text": [
            "[15:03:15] Start fitting \u001b[1mLvl_0_Pipe_0_Mod_0_TorchNN__linear_layer_0\u001b[0m ...\n"
          ]
        },
        {
          "name": "stderr",
          "output_type": "stream",
          "text": [
            "INFO:lightautoml.ml_algo.base:Start fitting \u001b[1mLvl_0_Pipe_0_Mod_0_TorchNN__linear_layer_0\u001b[0m ...\n"
          ]
        },
        {
          "name": "stdout",
          "output_type": "stream",
          "text": [
            "[15:03:15] Training params: {'num_workers': 4, 'pin_memory': False, 'max_length': 256, 'is_snap': False, 'input_bn': False, 'max_emb_size': 50, 'bert_name': 'prajjwal1/bert-tiny', 'pooling': 'cls', 'device': device(type='cuda', index=0), 'use_cont': True, 'use_cat': True, 'use_text': True, 'lang': 'en', 'deterministic': False, 'multigpu': False, 'random_state': 42, 'model': '_linear_layer', 'model_with_emb': False, 'path_to_save': None, 'verbose_inside': None, 'verbose': 1, 'n_epochs': 20, 'snap_params': {'k': 1, 'early_stopping': True, 'patience': 1, 'swa': False}, 'bs': 16, 'emb_dropout': 0.1, 'emb_ratio': 3, 'opt': <class 'torch.optim.adam.Adam'>, 'opt_params': {'lr': 1e-05}, 'sch': <class 'torch.optim.lr_scheduler.ReduceLROnPlateau'>, 'scheduler_params': {'patience': 5, 'factor': 0.5, 'verbose': True}, 'loss': None, 'loss_params': {}, 'loss_on_logits': True, 'clip_grad': False, 'clip_grad_params': {}, 'init_bias': True, 'dataset': <class 'lightautoml.text.nn_model.UniversalDataset'>, 'tuned': False, 'optimization_search_space': None, 'verbose_bar': False, 'freeze_defaults': False, 'n_out': 6, 'hid_factor': [2, 2], 'hidden_size': [512, 512, 512], 'block_config': [2, 2], 'compression': 0.5, 'growth_size': 256, 'bn_factor': 2, 'drop_rate': 0.1, 'noise_std': 0.05, 'num_init_features': None, 'act_fun': <class 'torch.nn.modules.activation.ReLU'>, 'use_noise': False, 'use_bn': True, 'embedding_size': 10, 'cat_embedder': 'cat', 'cont_embedder': 'cont', 'stop_by_metric': False, 'batch_size': 32, 'epochs': 12, 'learning_rate': 0.07942044251934417, 'layer1_units': 61, 'layer2_units': 28, 'dropout': 0.35245300241493627, 'device_ids': None, 'num_dims': 0, 'text_features': ['concated__review_text'], 'bias': array([-3.36973909, -3.4414553 , -2.51665535, -1.56088587, -1.05353138,\n",
            "       -1.22349547])}\n"
          ]
        },
        {
          "name": "stderr",
          "output_type": "stream",
          "text": [
            "DEBUG:lightautoml.ml_algo.base:Training params: {'num_workers': 4, 'pin_memory': False, 'max_length': 256, 'is_snap': False, 'input_bn': False, 'max_emb_size': 50, 'bert_name': 'prajjwal1/bert-tiny', 'pooling': 'cls', 'device': device(type='cuda', index=0), 'use_cont': True, 'use_cat': True, 'use_text': True, 'lang': 'en', 'deterministic': False, 'multigpu': False, 'random_state': 42, 'model': '_linear_layer', 'model_with_emb': False, 'path_to_save': None, 'verbose_inside': None, 'verbose': 1, 'n_epochs': 20, 'snap_params': {'k': 1, 'early_stopping': True, 'patience': 1, 'swa': False}, 'bs': 16, 'emb_dropout': 0.1, 'emb_ratio': 3, 'opt': <class 'torch.optim.adam.Adam'>, 'opt_params': {'lr': 1e-05}, 'sch': <class 'torch.optim.lr_scheduler.ReduceLROnPlateau'>, 'scheduler_params': {'patience': 5, 'factor': 0.5, 'verbose': True}, 'loss': None, 'loss_params': {}, 'loss_on_logits': True, 'clip_grad': False, 'clip_grad_params': {}, 'init_bias': True, 'dataset': <class 'lightautoml.text.nn_model.UniversalDataset'>, 'tuned': False, 'optimization_search_space': None, 'verbose_bar': False, 'freeze_defaults': False, 'n_out': 6, 'hid_factor': [2, 2], 'hidden_size': [512, 512, 512], 'block_config': [2, 2], 'compression': 0.5, 'growth_size': 256, 'bn_factor': 2, 'drop_rate': 0.1, 'noise_std': 0.05, 'num_init_features': None, 'act_fun': <class 'torch.nn.modules.activation.ReLU'>, 'use_noise': False, 'use_bn': True, 'embedding_size': 10, 'cat_embedder': 'cat', 'cont_embedder': 'cont', 'stop_by_metric': False, 'batch_size': 32, 'epochs': 12, 'learning_rate': 0.07942044251934417, 'layer1_units': 61, 'layer2_units': 28, 'dropout': 0.35245300241493627, 'device_ids': None, 'num_dims': 0, 'text_features': ['concated__review_text'], 'bias': array([-3.36973909, -3.4414553 , -2.51665535, -1.56088587, -1.05353138,\n",
            "       -1.22349547])}\n"
          ]
        },
        {
          "name": "stdout",
          "output_type": "stream",
          "text": [
            "[15:03:15] ===== Start working with \u001b[1mfold 0\u001b[0m for \u001b[1mLvl_0_Pipe_0_Mod_0_TorchNN__linear_layer_0\u001b[0m =====\n"
          ]
        },
        {
          "name": "stderr",
          "output_type": "stream",
          "text": [
            "INFO2:lightautoml.ml_algo.base:===== Start working with \u001b[1mfold 0\u001b[0m for \u001b[1mLvl_0_Pipe_0_Mod_0_TorchNN__linear_layer_0\u001b[0m =====\n"
          ]
        },
        {
          "name": "stdout",
          "output_type": "stream",
          "text": [
            "[15:03:15] Last linear layer not founded, so init_bias=False\n"
          ]
        },
        {
          "name": "stderr",
          "output_type": "stream",
          "text": [
            "INFO3:lightautoml.text.nn_model:Last linear layer not founded, so init_bias=False\n"
          ]
        },
        {
          "name": "stdout",
          "output_type": "stream",
          "text": [
            "[15:22:14] Epoch: 0, train loss: 1.485854148864746, val loss: 1.2450262308120728, val metric: 0.5282101192739265\n"
          ]
        },
        {
          "name": "stderr",
          "output_type": "stream",
          "text": [
            "INFO3:lightautoml.text.trainer:Epoch: 0, train loss: 1.485854148864746, val loss: 1.2450262308120728, val metric: 0.5282101192739265\n"
          ]
        },
        {
          "name": "stdout",
          "output_type": "stream",
          "text": [
            "[15:41:21] Epoch: 1, train loss: 1.257484793663025, val loss: 1.1423356533050537, val metric: 0.5483274169935246\n"
          ]
        },
        {
          "name": "stderr",
          "output_type": "stream",
          "text": [
            "INFO3:lightautoml.text.trainer:Epoch: 1, train loss: 1.257484793663025, val loss: 1.1423356533050537, val metric: 0.5483274169935246\n"
          ]
        },
        {
          "name": "stdout",
          "output_type": "stream",
          "text": [
            "[16:00:29] Epoch: 2, train loss: 1.1719056367874146, val loss: 1.091852068901062, val metric: 0.5569490151238924\n"
          ]
        },
        {
          "name": "stderr",
          "output_type": "stream",
          "text": [
            "INFO3:lightautoml.text.trainer:Epoch: 2, train loss: 1.1719056367874146, val loss: 1.091852068901062, val metric: 0.5569490151238924\n"
          ]
        },
        {
          "name": "stdout",
          "output_type": "stream",
          "text": [
            "[16:20:02] Epoch: 3, train loss: 1.1186082363128662, val loss: 1.0518156290054321, val metric: 0.5652486874723706\n"
          ]
        },
        {
          "name": "stderr",
          "output_type": "stream",
          "text": [
            "INFO3:lightautoml.text.trainer:Epoch: 3, train loss: 1.1186082363128662, val loss: 1.0518156290054321, val metric: 0.5652486874723706\n"
          ]
        },
        {
          "name": "stdout",
          "output_type": "stream",
          "text": [
            "[16:39:24] Epoch: 4, train loss: 1.0842795372009277, val loss: 1.0356954336166382, val metric: 0.5693994582964962\n"
          ]
        },
        {
          "name": "stderr",
          "output_type": "stream",
          "text": [
            "INFO3:lightautoml.text.trainer:Epoch: 4, train loss: 1.0842795372009277, val loss: 1.0356954336166382, val metric: 0.5693994582964962\n"
          ]
        },
        {
          "name": "stdout",
          "output_type": "stream",
          "text": [
            "[16:58:31] Epoch: 5, train loss: 1.0594861507415771, val loss: 1.019428014755249, val metric: 0.5737655293707544\n"
          ]
        },
        {
          "name": "stderr",
          "output_type": "stream",
          "text": [
            "INFO3:lightautoml.text.trainer:Epoch: 5, train loss: 1.0594861507415771, val loss: 1.019428014755249, val metric: 0.5737655293707544\n"
          ]
        },
        {
          "name": "stdout",
          "output_type": "stream",
          "text": [
            "[17:17:32] Epoch: 6, train loss: 1.0390197038650513, val loss: 1.0103968381881714, val metric: 0.5765713500747259\n"
          ]
        },
        {
          "name": "stderr",
          "output_type": "stream",
          "text": [
            "INFO3:lightautoml.text.trainer:Epoch: 6, train loss: 1.0390197038650513, val loss: 1.0103968381881714, val metric: 0.5765713500747259\n"
          ]
        },
        {
          "name": "stdout",
          "output_type": "stream",
          "text": [
            "[17:36:18] Epoch: 7, train loss: 1.0242598056793213, val loss: 1.0078039169311523, val metric: 0.5719655705733186\n"
          ]
        },
        {
          "name": "stderr",
          "output_type": "stream",
          "text": [
            "INFO3:lightautoml.text.trainer:Epoch: 7, train loss: 1.0242598056793213, val loss: 1.0078039169311523, val metric: 0.5719655705733186\n"
          ]
        },
        {
          "name": "stdout",
          "output_type": "stream",
          "text": [
            "[17:55:06] Epoch: 8, train loss: 1.0110543966293335, val loss: 0.9986016750335693, val metric: 0.5795376020070582\n"
          ]
        },
        {
          "name": "stderr",
          "output_type": "stream",
          "text": [
            "INFO3:lightautoml.text.trainer:Epoch: 8, train loss: 1.0110543966293335, val loss: 0.9986016750335693, val metric: 0.5795376020070582\n"
          ]
        },
        {
          "name": "stdout",
          "output_type": "stream",
          "text": [
            "[18:13:48] Epoch: 9, train loss: 0.9988905191421509, val loss: 0.9995377063751221, val metric: 0.5780494221987305\n"
          ]
        },
        {
          "name": "stderr",
          "output_type": "stream",
          "text": [
            "INFO3:lightautoml.text.trainer:Epoch: 9, train loss: 0.9988905191421509, val loss: 0.9995377063751221, val metric: 0.5780494221987305\n"
          ]
        },
        {
          "name": "stdout",
          "output_type": "stream",
          "text": [
            "[18:13:49] Time limit exceeded after calculating fold 0\n",
            "\n"
          ]
        },
        {
          "name": "stderr",
          "output_type": "stream",
          "text": [
            "INFO:lightautoml.ml_algo.base:Time limit exceeded after calculating fold 0\n",
            "\n"
          ]
        },
        {
          "name": "stdout",
          "output_type": "stream",
          "text": [
            "[18:13:49] Fitting \u001b[1mLvl_0_Pipe_0_Mod_0_TorchNN__linear_layer_0\u001b[0m finished. score = \u001b[1m0.5780494221987305\u001b[0m\n"
          ]
        },
        {
          "name": "stderr",
          "output_type": "stream",
          "text": [
            "INFO:lightautoml.ml_algo.base:Fitting \u001b[1mLvl_0_Pipe_0_Mod_0_TorchNN__linear_layer_0\u001b[0m finished. score = \u001b[1m0.5780494221987305\u001b[0m\n"
          ]
        },
        {
          "name": "stdout",
          "output_type": "stream",
          "text": [
            "[18:13:49] \u001b[1mLvl_0_Pipe_0_Mod_0_TorchNN__linear_layer_0\u001b[0m fitting and predicting completed\n"
          ]
        },
        {
          "name": "stderr",
          "output_type": "stream",
          "text": [
            "INFO:lightautoml.ml_algo.base:\u001b[1mLvl_0_Pipe_0_Mod_0_TorchNN__linear_layer_0\u001b[0m fitting and predicting completed\n"
          ]
        },
        {
          "name": "stdout",
          "output_type": "stream",
          "text": [
            "[18:13:49] Time left -11239.49 secs\n",
            "\n"
          ]
        },
        {
          "name": "stderr",
          "output_type": "stream",
          "text": [
            "INFO:lightautoml.automl.base:Time left -11239.49 secs\n",
            "\n"
          ]
        },
        {
          "name": "stdout",
          "output_type": "stream",
          "text": [
            "[18:13:49] Time limit exceeded. Last level models will be blended and unused pipelines will be pruned.\n",
            "\n"
          ]
        },
        {
          "name": "stderr",
          "output_type": "stream",
          "text": [
            "INFO:lightautoml.automl.base:Time limit exceeded. Last level models will be blended and unused pipelines will be pruned.\n",
            "\n"
          ]
        },
        {
          "name": "stdout",
          "output_type": "stream",
          "text": [
            "[18:13:49] \u001b[1mLayer 1 training completed.\u001b[0m\n",
            "\n"
          ]
        },
        {
          "name": "stderr",
          "output_type": "stream",
          "text": [
            "INFO:lightautoml.automl.base:\u001b[1mLayer 1 training completed.\u001b[0m\n",
            "\n"
          ]
        },
        {
          "name": "stdout",
          "output_type": "stream",
          "text": [
            "[18:13:49] \u001b[1mAutoml preset training completed in 11439.52 seconds\u001b[0m\n",
            "\n"
          ]
        },
        {
          "name": "stderr",
          "output_type": "stream",
          "text": [
            "INFO:lightautoml.automl.presets.base:\u001b[1mAutoml preset training completed in 11439.52 seconds\u001b[0m\n",
            "\n"
          ]
        },
        {
          "name": "stdout",
          "output_type": "stream",
          "text": [
            "[18:13:49] Model description:\n",
            "Final prediction for new objects (level 0) = \n",
            "\t 1.00000 * (1 averaged models Lvl_0_Pipe_0_Mod_0_TorchNN__linear_layer_0) \n",
            "\n"
          ]
        },
        {
          "name": "stderr",
          "output_type": "stream",
          "text": [
            "INFO:lightautoml.automl.presets.base:Model description:\n",
            "Final prediction for new objects (level 0) = \n",
            "\t 1.00000 * (1 averaged models Lvl_0_Pipe_0_Mod_0_TorchNN__linear_layer_0) \n",
            "\n"
          ]
        },
        {
          "data": {
            "text/plain": [
              "array([[nan, nan, nan, nan, nan, nan],\n",
              "       [nan, nan, nan, nan, nan, nan],\n",
              "       [nan, nan, nan, nan, nan, nan],\n",
              "       ...,\n",
              "       [nan, nan, nan, nan, nan, nan],\n",
              "       [nan, nan, nan, nan, nan, nan],\n",
              "       [nan, nan, nan, nan, nan, nan]], dtype=float32)"
            ]
          },
          "execution_count": 24,
          "metadata": {},
          "output_type": "execute_result"
        }
      ],
      "source": [
        "roles = {'target': [TARGET_NAME], 'text' : ['review_text']}\n",
        "\n",
        "automl.fit_predict(train_df, roles = roles, verbose=200)"
      ]
    },
    {
      "cell_type": "code",
      "execution_count": null,
      "metadata": {
        "colab": {
          "base_uri": "https://localhost:8080/"
        },
        "id": "dC2FuIZhpBed",
        "outputId": "63ecc6eb-d926-40ae-b199-62f4d0381209"
      },
      "outputs": [
        {
          "name": "stdout",
          "output_type": "stream",
          "text": [
            "[18:13:51] Last linear layer not founded, so init_bias=False\n"
          ]
        },
        {
          "name": "stderr",
          "output_type": "stream",
          "text": [
            "INFO3:lightautoml.text.nn_model:Last linear layer not founded, so init_bias=False\n"
          ]
        }
      ],
      "source": [
        "predictions = automl.predict(X_test)"
      ]
    },
    {
      "cell_type": "code",
      "execution_count": null,
      "metadata": {
        "colab": {
          "base_uri": "https://localhost:8080/"
        },
        "id": "D5g6Wc0RpBgi",
        "outputId": "08826c49-ee79-4bb8-b6ce-924bde19ed36"
      },
      "outputs": [
        {
          "data": {
            "text/plain": [
              "array([[0.02850926, 0.0179657 , 0.03008779, 0.08237593, 0.43633053,\n",
              "        0.40473086],\n",
              "       [0.01008648, 0.01136953, 0.00890403, 0.01828466, 0.8310285 ,\n",
              "        0.12032692],\n",
              "       [0.01525015, 0.01521352, 0.05680348, 0.44424903, 0.4246183 ,\n",
              "        0.04386552],\n",
              "       ...,\n",
              "       [0.62033933, 0.04023682, 0.10590462, 0.1508027 , 0.04946946,\n",
              "        0.03324709],\n",
              "       [0.01847224, 0.01326025, 0.02204769, 0.08890872, 0.5540509 ,\n",
              "        0.3032602 ],\n",
              "       [0.01073565, 0.00937961, 0.01150429, 0.01276569, 0.05488957,\n",
              "        0.90072525]], dtype=float32)"
            ]
          },
          "execution_count": 26,
          "metadata": {},
          "output_type": "execute_result"
        }
      ],
      "source": [
        "predictions\n",
        "# p.s. случайно забыл посчитать скор для X_test"
      ]
    },
    {
      "cell_type": "code",
      "execution_count": null,
      "metadata": {
        "colab": {
          "base_uri": "https://localhost:8080/"
        },
        "id": "V0CXNu5OpBi3",
        "outputId": "e775b48e-ffa5-4ff2-8072-fecee8ff5630"
      },
      "outputs": [
        {
          "name": "stdout",
          "output_type": "stream",
          "text": [
            "[18:18:14] Last linear layer not founded, so init_bias=False\n"
          ]
        },
        {
          "name": "stderr",
          "output_type": "stream",
          "text": [
            "INFO3:lightautoml.text.nn_model:Last linear layer not founded, so init_bias=False\n"
          ]
        }
      ],
      "source": [
        "# Делаем предикт для тестовых данных\n",
        "\n",
        "test_pred = automl.predict(df_test[['review_text']])"
      ]
    },
    {
      "cell_type": "code",
      "execution_count": null,
      "metadata": {
        "id": "gSTdyqkgyj9f"
      },
      "outputs": [],
      "source": [
        "# Выводим рейтинг\n",
        "\n",
        "max_prob_indices = np.argmax(test_pred.data, axis=1)"
      ]
    },
    {
      "cell_type": "code",
      "execution_count": null,
      "metadata": {
        "colab": {
          "base_uri": "https://localhost:8080/"
        },
        "id": "aVoDTxpQy2fp",
        "outputId": "6d616f77-b74e-4403-d94e-0021b57aef2f"
      },
      "outputs": [
        {
          "data": {
            "text/plain": [
              "array([4, 3, 5, ..., 5, 4, 5])"
            ]
          },
          "execution_count": 32,
          "metadata": {},
          "output_type": "execute_result"
        }
      ],
      "source": [
        "max_prob_indices"
      ]
    },
    {
      "cell_type": "code",
      "execution_count": null,
      "metadata": {
        "id": "8tZpWZ7vy2iC"
      },
      "outputs": [],
      "source": [
        "# Подготавливаем датафрейм и экспортируем файл в .csv\n",
        "\n",
        "submission_df = pd.concat([df_test[['review_id']], pd.DataFrame(max_prob_indices, columns=['rating'])], axis=1)"
      ]
    },
    {
      "cell_type": "code",
      "execution_count": null,
      "metadata": {
        "id": "ORDGNMIoy2kU"
      },
      "outputs": [],
      "source": [
        "submission_df.to_csv('lightautoml-sub.csv', index=False)"
      ]
    }
  ],
  "metadata": {
    "accelerator": "GPU",
    "colab": {
      "gpuType": "T4",
      "machine_shape": "hm",
      "provenance": []
    },
    "kaggle": {
      "accelerator": "none",
      "dataSources": [
        {
          "databundleVersionId": 3073370,
          "sourceId": 33579,
          "sourceType": "competition"
        }
      ],
      "dockerImageVersionId": 30626,
      "isGpuEnabled": false,
      "isInternetEnabled": true,
      "language": "python",
      "sourceType": "notebook"
    },
    "kernelspec": {
      "display_name": "Python 3",
      "name": "python3"
    },
    "language_info": {
      "codemirror_mode": {
        "name": "ipython",
        "version": 3
      },
      "file_extension": ".py",
      "mimetype": "text/x-python",
      "name": "python",
      "nbconvert_exporter": "python",
      "pygments_lexer": "ipython3",
      "version": "3.10.12"
    }
  },
  "nbformat": 4,
  "nbformat_minor": 0
}
